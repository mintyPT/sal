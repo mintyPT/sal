{
 "cells": [
  {
   "cell_type": "code",
   "execution_count": null,
   "id": "b51b7edd-6096-4f57-9c30-0aba3f0bb4d9",
   "metadata": {},
   "outputs": [],
   "source": [
    "# | default_exp templates"
   ]
  },
  {
   "cell_type": "code",
   "execution_count": null,
   "id": "fc40ed69-bd15-4e13-8e44-d4e42f4f088f",
   "metadata": {},
   "outputs": [],
   "source": [
    "# | hide\n",
    "%load_ext autoreload\n",
    "%autoreload 2\n",
    "\n",
    "from fastcore.test import *\n",
    "from jinja2 import UndefinedError\n",
    "\n",
    "import jupyter_black\n",
    "import nbdev.showdoc as showdoc\n",
    "\n",
    "\n",
    "jupyter_black.load()"
   ]
  },
  {
   "cell_type": "code",
   "execution_count": null,
   "id": "7fc1e4e1-f89e-4e53-889d-4b7ac247431e",
   "metadata": {},
   "outputs": [],
   "source": [
    "# | export\n",
    "from typing import Any, Optional\n",
    "from jinja2 import Environment, BaseLoader, Template, StrictUndefined"
   ]
  },
  {
   "cell_type": "markdown",
   "id": "e05b2a3f-9eca-4f67-bbbf-72357ce0ecfb",
   "metadata": {},
   "source": [
    "# Template relathed things"
   ]
  },
  {
   "cell_type": "code",
   "execution_count": null,
   "id": "0b4a0b46-bdb5-451d-974f-a24d6ac4af67",
   "metadata": {},
   "outputs": [],
   "source": [
    "# | export\n",
    "# | hide\n",
    "def _get_env():\n",
    "    return Environment(loader=BaseLoader(), undefined=StrictUndefined)"
   ]
  },
  {
   "cell_type": "markdown",
   "id": "007863da-b46a-4c3c-a88f-07a231352d8b",
   "metadata": {},
   "source": [
    "    We need a rendering function capable of renderering a `template`, with `filters` and `context variables`..."
   ]
  },
  {
   "cell_type": "code",
   "execution_count": null,
   "id": "1fad1db6-6665-4eab-961c-559b0bd77031",
   "metadata": {},
   "outputs": [],
   "source": [
    "# | export\n",
    "# | hide\n",
    "def render(\n",
    "    template: str,  # template in string form\n",
    "    filters: Optional[dict] = None,  # jinja filters\n",
    "    **kwargs: Any,\n",
    ") -> str:\n",
    "    if not filters:\n",
    "        filters = {}\n",
    "\n",
    "    env = _get_env()\n",
    "    env.filters.update(filters)\n",
    "\n",
    "    jinja: Template = env.from_string(template)\n",
    "    result: str = jinja.render(**kwargs)\n",
    "\n",
    "    return result"
   ]
  },
  {
   "cell_type": "code",
   "execution_count": null,
   "id": "f67f130c-2b33-4915-9586-002af8b7c6b2",
   "metadata": {},
   "outputs": [
    {
     "data": {
      "text/markdown": [
       "---\n",
       "\n",
       "[source](https://github.com/mintyPT/sal/blob/main/sal/core.py#L158){target=\"_blank\" style=\"float:right; font-size:smaller\"}\n",
       "\n",
       "### render\n",
       "\n",
       ">      render (template:str, filters:Optional[dict]=None, **kwargs:Any)\n",
       "\n",
       "|    | **Type** | **Default** | **Details** |\n",
       "| -- | -------- | ----------- | ----------- |\n",
       "| template | str |  | template in string form |\n",
       "| filters | Optional | None | jinja filters |\n",
       "| kwargs | Any |  |  |\n",
       "| **Returns** | **str** |  |  |"
      ],
      "text/plain": [
       "---\n",
       "\n",
       "[source](https://github.com/mintyPT/sal/blob/main/sal/core.py#L158){target=\"_blank\" style=\"float:right; font-size:smaller\"}\n",
       "\n",
       "### render\n",
       "\n",
       ">      render (template:str, filters:Optional[dict]=None, **kwargs:Any)\n",
       "\n",
       "|    | **Type** | **Default** | **Details** |\n",
       "| -- | -------- | ----------- | ----------- |\n",
       "| template | str |  | template in string form |\n",
       "| filters | Optional | None | jinja filters |\n",
       "| kwargs | Any |  |  |\n",
       "| **Returns** | **str** |  |  |"
      ]
     },
     "execution_count": null,
     "metadata": {},
     "output_type": "execute_result"
    }
   ],
   "source": [
    "showdoc.show_doc(render)"
   ]
  },
  {
   "cell_type": "code",
   "execution_count": null,
   "id": "05c82fe1-ab8a-46fd-8b58-25a813ae3c5b",
   "metadata": {},
   "outputs": [],
   "source": [
    "# | hide\n",
    "filters = {\"upper\": lambda n: n.upper()}\n",
    "template = 'this is a template is this is my name \"{{ name | upper }}\" in upper case'\n",
    "kwargs = dict(name=\"mauro\")\n",
    "\n",
    "result = render(template, filters=filters, **kwargs)\n",
    "expected = 'this is a template is this is my name \"MAURO\" in upper case'\n",
    "test_eq(result, expected)\n",
    "\n",
    "try:\n",
    "    render(\"{{ name }}\")\n",
    "except UndefinedError:\n",
    "    pass"
   ]
  },
  {
   "cell_type": "markdown",
   "id": "14d1bfbf-f22e-4447-a9f3-8c608ae56538",
   "metadata": {},
   "source": [
    "---"
   ]
  },
  {
   "cell_type": "code",
   "execution_count": null,
   "id": "0e25ac60-26ce-49a1-ae8a-abc15b6da33e",
   "metadata": {},
   "outputs": [],
   "source": [
    "# | hide\n",
    "import nbdev\n",
    "\n",
    "nbdev.nbdev_export()"
   ]
  }
 ],
 "metadata": {
  "kernelspec": {
   "display_name": "Python 3 (ipykernel)",
   "language": "python",
   "name": "python3"
  }
 },
 "nbformat": 4,
 "nbformat_minor": 5
}
