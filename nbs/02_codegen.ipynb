{
 "cells": [
  {
   "cell_type": "code",
   "execution_count": null,
   "id": "4df92313",
   "metadata": {},
   "outputs": [],
   "source": [
    "# | default_exp codegen"
   ]
  },
  {
   "cell_type": "code",
   "execution_count": null,
   "id": "51be6bc3-1f3c-47d1-99da-a8c293a400dd",
   "metadata": {},
   "outputs": [
    {
     "name": "stdout",
     "output_type": "stream",
     "text": [
      "The autoreload extension is already loaded. To reload it, use:\n",
      "  %reload_ext autoreload\n"
     ]
    }
   ],
   "source": [
    "# | hide\n",
    "%load_ext autoreload\n",
    "%autoreload 2\n",
    "\n",
    "from fastcore.test import *\n",
    "from jinja2 import UndefinedError\n",
    "\n",
    "import jupyter_black\n",
    "import tempfile\n",
    "import nbdev.showdoc as showdoc\n",
    "\n",
    "jupyter_black.load()"
   ]
  },
  {
   "cell_type": "code",
   "execution_count": null,
   "id": "e26954c2",
   "metadata": {},
   "outputs": [],
   "source": [
    "# | export\n",
    "from pathlib import Path\n",
    "from jinja2 import Environment, BaseLoader, Template\n",
    "from typing import Optional, Any\n",
    "from jinja2 import StrictUndefined\n",
    "from textwrap import dedent\n",
    "from yaml.parser import ParserError\n",
    "from black import format_str, FileMode\n",
    "\n",
    "from sal.loaders import xml_to_data\n",
    "from sal.core import Data\n",
    "from sal.frontmatter import FrontMatter\n",
    "from sal.templates import Renderer, InMemoryTemplateLoader, JinjaTemplateRenderer"
   ]
  },
  {
   "cell_type": "markdown",
   "id": "65f18b0d",
   "metadata": {},
   "source": [
    "# Code Generation"
   ]
  },
  {
   "cell_type": "markdown",
   "id": "065b74fd",
   "metadata": {},
   "source": [
    "## What code generation means with sal? "
   ]
  },
  {
   "cell_type": "markdown",
   "id": "1d77e29c",
   "metadata": {},
   "source": [
    "In it's basic form, it will combine xml files converted to `Data` structures, with jinja templates, to render code. Later we will also introduce some frontmatter.\n",
    "\n",
    "For this, we need a basic structure to work with for generating code. As an example, we'll be working with an hypotetical \"model\""
   ]
  },
  {
   "cell_type": "code",
   "execution_count": null,
   "id": "02276124",
   "metadata": {},
   "outputs": [],
   "source": [
    "struct: Data = xml_to_data(\n",
    "    \"\"\"\n",
    "    <model name=\"User\">\n",
    "        <field name=\"id\" type=\"integer\"/>\n",
    "        <field name=\"username\" type=\"char\"/>\n",
    "        <field name=\"email\" type=\"email\"/>\n",
    "    </model>\n",
    "    \"\"\"\n",
    ")"
   ]
  },
  {
   "cell_type": "markdown",
   "id": "9b9efe68",
   "metadata": {},
   "source": [
    "...and the basic templates used with this structure are:"
   ]
  },
  {
   "cell_type": "code",
   "execution_count": null,
   "id": "e4e0a6ae",
   "metadata": {},
   "outputs": [],
   "source": [
    "model = (\n",
    "    \"class {{ name }}Model(models.Model):\\n\"\n",
    "    \"    {%- for child in children %}\\n\"\n",
    "    \"    {{ child | render }}\\n\"\n",
    "    \"    {%- endfor %}\\n\"\n",
    ")\n",
    "\n",
    "field = \"{{ name }} = models.{{ type | title }}Field()\""
   ]
  },
  {
   "cell_type": "markdown",
   "id": "25778cc4",
   "metadata": {},
   "source": [
    "## Code generator I (jinja only)"
   ]
  },
  {
   "cell_type": "markdown",
   "id": "d6ecee83",
   "metadata": {},
   "source": [
    "Now that we can render `jinja2`, we can make a basic code generator"
   ]
  },
  {
   "cell_type": "code",
   "execution_count": null,
   "id": "da61611d",
   "metadata": {},
   "outputs": [],
   "source": [
    "# | export\n",
    "class SalBasic:\n",
    "    def __init__(self, renderer: Optional[Renderer] = None):\n",
    "        self.renderer = renderer or Renderer()\n",
    "\n",
    "    def pre_process_data(self, data: Data):\n",
    "        return data\n",
    "\n",
    "    def action_default(self, data: Data):\n",
    "        return self.renderer.process(data)\n",
    "\n",
    "    def action_to_file(self, data: Data):\n",
    "        rendered = self.renderer.render(data, template=Renderer.DEFAULT_TEMPLATE)\n",
    "        to = data.attrs[\"to\"]\n",
    "        with open(to, \"w\") as h:\n",
    "            h.write(rendered)\n",
    "        return rendered\n",
    "\n",
    "    def action_black(self, data: Data):\n",
    "        rendered = self.renderer.render(data, template=Renderer.DEFAULT_TEMPLATE)\n",
    "        return format_str(rendered, mode=FileMode())\n",
    "\n",
    "    def process_data(self, data: Data):\n",
    "        if data.name == \"to-file\":\n",
    "            return self.action_to_file(data)\n",
    "        elif data.name == \"black\":\n",
    "            return self.action_black(data)\n",
    "        elif data.name == \"wrapper\":\n",
    "            return [self.process(d) for d in data.children]\n",
    "        else:\n",
    "            return self.action_default(data)\n",
    "\n",
    "    def process(self, data: Data):\n",
    "        data = self.pre_process_data(data)\n",
    "        return self.process_data(data)"
   ]
  },
  {
   "cell_type": "markdown",
   "id": "361a5419",
   "metadata": {},
   "source": [
    "It's important to note that a parent should be able the trigger the rendering of his children (this enures the recursive nature of the template rendering). Look at the `model` template for an example:"
   ]
  },
  {
   "cell_type": "code",
   "execution_count": null,
   "id": "fdd5be6e",
   "metadata": {},
   "outputs": [],
   "source": [
    "model = (\n",
    "    \"class {{ name }}Model(models.Model):\\n\"\n",
    "    \"    {%- for child in children %}\\n\"\n",
    "    \"    {{ child | render }}\\n\"\n",
    "    \"    {%- endfor %}\\n\"\n",
    ")\n",
    "\n",
    "field = \"{{ name }} = models.{{ type | title }}Field()\""
   ]
  },
  {
   "cell_type": "code",
   "execution_count": null,
   "id": "b4ea1eec",
   "metadata": {},
   "outputs": [],
   "source": [
    "# | hide\n",
    "repository = InMemoryTemplateLoader(\n",
    "    templates={\n",
    "        \"model\": model,\n",
    "        \"field\": field,\n",
    "    }\n",
    ")\n",
    "template_renderer = Renderer(repository=repository, renderer=JinjaTemplateRenderer())"
   ]
  },
  {
   "cell_type": "markdown",
   "id": "38ea1732",
   "metadata": {},
   "source": [
    "With this, here's a basic jinja2-based code generator using the hard coded templates:"
   ]
  },
  {
   "cell_type": "code",
   "execution_count": null,
   "id": "d220cdf4",
   "metadata": {},
   "outputs": [],
   "source": [
    "sal = SalBasic(template_renderer)\n",
    "test_eq(\n",
    "    sal.process(struct.clone()).strip(),\n",
    "    \"\"\"\n",
    "class UserModel(models.Model):\n",
    "    id = models.IntegerField()\n",
    "    username = models.CharField()\n",
    "    email = models.EmailField()\n",
    "\"\"\".strip(),\n",
    ")"
   ]
  },
  {
   "cell_type": "code",
   "execution_count": null,
   "id": "fb6b94b3",
   "metadata": {},
   "outputs": [],
   "source": []
  },
  {
   "cell_type": "markdown",
   "id": "53bc034f",
   "metadata": {},
   "source": [
    "**todo: document to-file**"
   ]
  },
  {
   "cell_type": "markdown",
   "id": "cd699af0-0096-4b6b-af4a-8d652f0d6b2b",
   "metadata": {},
   "source": [
    "**todo: document black**"
   ]
  },
  {
   "cell_type": "markdown",
   "id": "03ffc5b7",
   "metadata": {},
   "source": [
    "**todo: document wrapper**"
   ]
  },
  {
   "cell_type": "code",
   "execution_count": null,
   "id": "eb651426",
   "metadata": {},
   "outputs": [],
   "source": [
    "# | hide\n",
    "struct2: Data = xml_to_data(\n",
    "    \"\"\"\n",
    "<wrapper>\n",
    "<wrapper>\n",
    "    <model name=\"User\">\n",
    "        <field name=\"id\" type=\"integer\"/>\n",
    "        <field name=\"username\" type=\"char\"/>\n",
    "        <field name=\"email\" type=\"email\"/>\n",
    "    </model>\n",
    "</wrapper>\n",
    "</wrapper>\"\"\"\n",
    ")\n",
    "\n",
    "sal = SalBasic(template_renderer)\n",
    "test_eq(\n",
    "    sal.process(struct2.clone())[0][0].strip(),\n",
    "    \"\"\"\n",
    "class UserModel(models.Model):\n",
    "    id = models.IntegerField()\n",
    "    username = models.CharField()\n",
    "    email = models.EmailField()\n",
    "\"\"\".strip(),\n",
    ")"
   ]
  },
  {
   "cell_type": "markdown",
   "id": "627a14bf",
   "metadata": {},
   "source": [
    "We are missing one more thing, we need to be able to save the result to a file and we'd like to have that info in the xml and not mess with code to get the job done. So, here's a new struct:"
   ]
  },
  {
   "cell_type": "code",
   "execution_count": null,
   "id": "36bae64e",
   "metadata": {},
   "outputs": [
    {
     "name": "stdout",
     "output_type": "stream",
     "text": [
      "class UserModel(models.Model):\n",
      "    id = models.IntegerField()\n",
      "    username = models.CharField()\n",
      "    email = models.EmailField()\n"
     ]
    }
   ],
   "source": [
    "destination = tempfile.NamedTemporaryFile()\n",
    "\n",
    "s_file = xml_to_data(\n",
    "    f\"\"\"\n",
    "<to-file to=\"{destination.name}\">\n",
    "    <model name=\"User\">\n",
    "        <field name=\"id\" type=\"integer\"/>\n",
    "        <field name=\"username\" type=\"char\"/>\n",
    "        <field name=\"email\" type=\"email\"/>\n",
    "    </model>\n",
    "</to-file>\"\"\"\n",
    ")\n",
    "\n",
    "\n",
    "sal = SalBasic(template_renderer)\n",
    "print(sal.process(s_file.clone()))"
   ]
  },
  {
   "cell_type": "code",
   "execution_count": null,
   "id": "4062fabc",
   "metadata": {},
   "outputs": [],
   "source": [
    "# | hide\n",
    "\n",
    "destination = tempfile.NamedTemporaryFile()\n",
    "\n",
    "s_file = xml_to_data(\n",
    "    f\"\"\"\n",
    "<wrapper>\n",
    "<to-file to=\"{destination.name}\">\n",
    "    <model name=\"User\">\n",
    "        <field name=\"id\" type=\"integer\"/>\n",
    "        <field name=\"username\" type=\"char\"/>\n",
    "        <field name=\"email\" type=\"email\"/>\n",
    "    </model>\n",
    "</to-file>\n",
    "</wrapper>\"\"\"\n",
    ")\n",
    "\n",
    "sal = SalBasic(template_renderer)\n",
    "result = sal.process(s_file)\n",
    "\n",
    "with open(destination.name, \"r\") as h:\n",
    "    test_eq(\n",
    "        h.read(),\n",
    "        \"\"\"\n",
    "class UserModel(models.Model):\n",
    "    id = models.IntegerField()\n",
    "    username = models.CharField()\n",
    "    email = models.EmailField()\n",
    "    \"\"\".strip(),\n",
    "    )"
   ]
  },
  {
   "cell_type": "markdown",
   "id": "a9edaf84",
   "metadata": {},
   "source": [
    "## Code generator II (jinja + frontmatter)"
   ]
  },
  {
   "cell_type": "markdown",
   "id": "56db0549",
   "metadata": {},
   "source": [
    "To make this even more powerful, we can use `frontmatter` to embed meta data into the templates themself and merge those with the attributes of the node. "
   ]
  },
  {
   "cell_type": "markdown",
   "id": "c1669d41",
   "metadata": {},
   "source": [
    "To make it even more powerful, the frontmatter can contain any attribute from the struct so it needs to be extracted in a raw formar, rendered and then extracted. But first, we need new templates.."
   ]
  },
  {
   "cell_type": "code",
   "execution_count": null,
   "id": "ed5de91b",
   "metadata": {},
   "outputs": [],
   "source": [
    "model = \"\"\"\n",
    "---\n",
    "reference:  \"sigla-{{ node.attrs.name | lower }}-model\"\n",
    "---\n",
    "class {{ name }}Model(models.Model): # {{ reference }}\n",
    "    {% for child in children -%}\n",
    "    {{ child | render }}\n",
    "    {% endfor %}\n",
    "\"\"\"\n",
    "\n",
    "field = \"\"\"\n",
    "---\n",
    "reference:  \"sigla-{{ node.name | lower }}-model\"\n",
    "---\n",
    "{{ name }} = models.{{ type | title }}Field() \n",
    "\"\"\""
   ]
  },
  {
   "cell_type": "code",
   "execution_count": null,
   "id": "457890d5",
   "metadata": {},
   "outputs": [],
   "source": [
    "fm = FrontMatter().get_raw_frontmatter(model)\n",
    "test_eq(fm, 'reference:  \"sigla-{{ node.attrs.name | lower }}-model\"')"
   ]
  },
  {
   "cell_type": "markdown",
   "id": "3ac74a87",
   "metadata": {},
   "source": [
    "**todo**"
   ]
  },
  {
   "cell_type": "code",
   "execution_count": null,
   "id": "5a9a6db4",
   "metadata": {},
   "outputs": [],
   "source": [
    "# | export\n",
    "\n",
    "\n",
    "class FrontMatterMixin:\n",
    "    def __init__(self, *args, **kwargs):\n",
    "        super().__init__(*args, **kwargs)\n",
    "        self.frontmatter_handler = FrontMatter()\n",
    "\n",
    "    def get_template(self, data: Data, frontmatter=False):\n",
    "        template = super().get_template(data)\n",
    "        if not frontmatter:\n",
    "            template = self.frontmatter_handler.get_content(template)\n",
    "        else:\n",
    "            template = self.frontmatter_handler.get_raw_frontmatter(template)\n",
    "        return template\n",
    "\n",
    "\n",
    "class FrontMatterInMemoryTemplateLoader(FrontMatterMixin, InMemoryTemplateLoader):\n",
    "    pass"
   ]
  },
  {
   "cell_type": "markdown",
   "id": "1caf1c1d",
   "metadata": {},
   "source": [
    "**todo**"
   ]
  },
  {
   "cell_type": "code",
   "execution_count": null,
   "id": "eb232357",
   "metadata": {},
   "outputs": [],
   "source": [
    "# | export\n",
    "class Sal(SalBasic):\n",
    "    def get_frontmatter_attributes_for_data(self, template: str, data: Data) -> dict:\n",
    "        rendered = self.renderer.render(data, template)\n",
    "        parsed = self.renderer.repository.frontmatter_handler.parse(rendered)\n",
    "        return parsed\n",
    "\n",
    "    def pre_process_data(self, data: Data):\n",
    "        for d, _ in data:\n",
    "            if d.name in [\"to-file\", \"black\", \"wrapper\"]:\n",
    "                continue\n",
    "\n",
    "            # load template\n",
    "            template = self.renderer.repository.get_template(d.name, frontmatter=True)\n",
    "            # handle front matter\n",
    "            new_attributes = self.get_frontmatter_attributes_for_data(template, d)\n",
    "\n",
    "            # update attributes\n",
    "            d.attrs.update(new_attributes)\n",
    "        return data"
   ]
  },
  {
   "cell_type": "code",
   "execution_count": null,
   "id": "7cd7add7",
   "metadata": {},
   "outputs": [],
   "source": [
    "repository = FrontMatterInMemoryTemplateLoader(\n",
    "    templates={\n",
    "        \"model\": model,\n",
    "        \"field\": field,\n",
    "    }\n",
    ")\n",
    "template_renderer2 = Renderer(repository=repository, renderer=JinjaTemplateRenderer())\n",
    "\n",
    "sal = Sal(template_renderer2)\n",
    "test_eq(\n",
    "    sal.process(struct.clone()).strip(),\n",
    "    \"\"\"\n",
    "class UserModel(models.Model): # sigla-user-model\n",
    "    id = models.IntegerField()\n",
    "    username = models.CharField()\n",
    "    email = models.EmailField()\n",
    "\"\"\".strip(),\n",
    ")"
   ]
  },
  {
   "cell_type": "code",
   "execution_count": null,
   "id": "e37ad819-6f5e-4c30-9c3e-196fd90ffc73",
   "metadata": {},
   "outputs": [],
   "source": [
    "# | hide\n",
    "\n",
    "destination = tempfile.NamedTemporaryFile()\n",
    "s_file = xml_to_data(\n",
    "    f\"\"\"\n",
    "    <wrapper>\n",
    "<to-file to=\"{destination.name}\">\n",
    "    <model name=\"User\">\n",
    "        <field name=\"id\" type=\"integer\"/>\n",
    "        <field name=\"username\" type=\"char\"/>\n",
    "        <field name=\"email\" type=\"email\"/>\n",
    "    </model>\n",
    "</to-file>\n",
    "    </wrapper>\n",
    "\"\"\"\n",
    ")\n",
    "\n",
    "# sal = Sal(template_renderer2)\n",
    "# sal.pre_process_data(s_file.clone())"
   ]
  },
  {
   "cell_type": "code",
   "execution_count": null,
   "id": "bdb85a2f",
   "metadata": {},
   "outputs": [],
   "source": [
    "sal = Sal(template_renderer2)\n",
    "sal.process(s_file)\n",
    "\n",
    "with open(destination.name, \"r\") as h:\n",
    "    test_eq(\n",
    "        h.read().strip(),\n",
    "        \"\"\"\n",
    "class UserModel(models.Model): # sigla-user-model\n",
    "    id = models.IntegerField()\n",
    "    username = models.CharField()\n",
    "    email = models.EmailField()\n",
    "    \"\"\".strip(),\n",
    "    )"
   ]
  },
  {
   "cell_type": "code",
   "execution_count": null,
   "id": "542ae38a",
   "metadata": {},
   "outputs": [],
   "source": []
  },
  {
   "cell_type": "code",
   "execution_count": null,
   "id": "dcf9440c-d1e7-4be3-8cfd-8995ca22d3b9",
   "metadata": {},
   "outputs": [],
   "source": [
    "xml = xml_to_data(\n",
    "    \"\"\"\n",
    "<black>\n",
    "    <W>\n",
    "        <a/>\n",
    "        <a/>\n",
    "        <b/>\n",
    "    </W>\n",
    "</black>\n",
    "\"\"\"\n",
    ")\n",
    "\n",
    "\n",
    "w = \"\"\"\n",
    "---\n",
    "---\n",
    "{%- for i in node|imports|sum(None, [])|unique %}\n",
    "{{ i }}\n",
    "{%- endfor %}\n",
    "\n",
    "class W:\n",
    "    {%- for child in children %}\n",
    "    {{ child | render }}\n",
    "    {%- endfor %}\n",
    "    \n",
    "\"\"\"\n",
    "\n",
    "\n",
    "a = \"\"\"\n",
    "---\n",
    "imports: \n",
    "    - from AAA import A\n",
    "---\n",
    "a = AAA( )\n",
    "\"\"\"\n",
    "b = \"\"\"\n",
    "---\n",
    "imports: \n",
    "    - from BBB import B\n",
    "---\n",
    "b = BBB()\n",
    "\"\"\"\n",
    "\n",
    "repository = FrontMatterInMemoryTemplateLoader(\n",
    "    templates={\n",
    "        \"W\": w,\n",
    "        \"a\": a,\n",
    "        \"b\": b,\n",
    "    }\n",
    ")\n",
    "\n",
    "\n",
    "def imports(data: Data):\n",
    "    imports_ = [d.attrs.get(\"imports\") for d, _ in data]\n",
    "    imports_ = [d for d in imports_ if d]\n",
    "    return imports_\n",
    "\n",
    "\n",
    "template_renderer2 = Renderer(\n",
    "    repository=repository,\n",
    "    renderer=JinjaTemplateRenderer(),\n",
    "    filters={\"imports\": imports},\n",
    ")\n",
    "\n",
    "\n",
    "sal = Sal(template_renderer2)\n",
    "res = sal.process(xml)\n",
    "test_eq(\n",
    "    res.strip(),\n",
    "    \"\"\"\n",
    "from AAA import A\n",
    "from BBB import B\n",
    "\n",
    "\n",
    "class W:\n",
    "    a = AAA()\n",
    "    a = AAA()\n",
    "    b = BBB()\n",
    "\"\"\".strip(),\n",
    ")"
   ]
  },
  {
   "cell_type": "markdown",
   "id": "00fc23fb",
   "metadata": {},
   "source": [
    "---"
   ]
  },
  {
   "cell_type": "code",
   "execution_count": null,
   "id": "9b831110",
   "metadata": {},
   "outputs": [],
   "source": [
    "# | hide\n",
    "import nbdev\n",
    "\n",
    "nbdev.nbdev_export()"
   ]
  }
 ],
 "metadata": {
  "kernelspec": {
   "display_name": "python3",
   "language": "python",
   "name": "python3"
  }
 },
 "nbformat": 4,
 "nbformat_minor": 5
}
