{
 "cells": [
  {
   "cell_type": "code",
   "execution_count": null,
   "id": "4df92313",
   "metadata": {},
   "outputs": [],
   "source": [
    "# | default_exp codegen"
   ]
  },
  {
   "cell_type": "code",
   "execution_count": null,
   "id": "51be6bc3-1f3c-47d1-99da-a8c293a400dd",
   "metadata": {},
   "outputs": [],
   "source": [
    "# | hide\n",
    "%load_ext autoreload\n",
    "%autoreload 2\n",
    "\n",
    "from fastcore.test import *\n",
    "from typing import Optional, Generator\n",
    "from jinja2 import UndefinedError\n",
    "from sal.templates import (\n",
    "    InMemoryTemplateLoader,\n",
    "    TemplateRenderer,\n",
    "    InMemoryTemplateLoader,\n",
    ")\n",
    "from sal.loaders import xml_to_data\n",
    "\n",
    "import jupyter_black\n",
    "import tempfile\n",
    "import nbdev.showdoc as showdoc\n",
    "\n",
    "jupyter_black.load()"
   ]
  },
  {
   "cell_type": "code",
   "execution_count": null,
   "id": "e26954c2",
   "metadata": {},
   "outputs": [],
   "source": [
    "# | export\n",
    "import abc\n",
    "from typing import Any\n",
    "\n",
    "from sal.core import Data\n",
    "from sal.templates import (\n",
    "    Renderer,\n",
    ")"
   ]
  },
  {
   "cell_type": "markdown",
   "id": "65f18b0d",
   "metadata": {},
   "source": [
    "# Code Generation"
   ]
  },
  {
   "cell_type": "markdown",
   "id": "065b74fd",
   "metadata": {},
   "source": [
    "## What code generation means with sal? "
   ]
  },
  {
   "cell_type": "markdown",
   "id": "1d77e29c",
   "metadata": {},
   "source": [
    "In it's basic form, it will combine xml files converted to `Data` structures, with jinja templates, to render code. Later we will also introduce some frontmatter.\n",
    "\n",
    "For this, we need a basic structure to work with for generating code. As an example, we'll be working with an hypotetical \"model\""
   ]
  },
  {
   "cell_type": "code",
   "execution_count": null,
   "id": "02276124",
   "metadata": {},
   "outputs": [],
   "source": [
    "struct: Data = xml_to_data(\n",
    "    \"\"\"\n",
    "    <model name=\"User\">\n",
    "        <field name=\"id\" type=\"integer\"/>\n",
    "        <field name=\"username\" type=\"char\"/>\n",
    "        <field name=\"email\" type=\"email\"/>\n",
    "    </model>\n",
    "    \"\"\"\n",
    ")"
   ]
  },
  {
   "cell_type": "markdown",
   "id": "9b9efe68",
   "metadata": {},
   "source": [
    "...and the basic templates used with this structure are:"
   ]
  },
  {
   "cell_type": "code",
   "execution_count": null,
   "id": "e4e0a6ae",
   "metadata": {},
   "outputs": [],
   "source": [
    "model = (\n",
    "    \"class {{ name }}Model(models.Model):\\n\"\n",
    "    \"    {%- for child in children %}\\n\"\n",
    "    \"    {{ child | render }}\\n\"\n",
    "    \"    {%- endfor %}\\n\"\n",
    ")\n",
    "\n",
    "field = \"{{ name }} = models.{{ type | title }}Field()\""
   ]
  },
  {
   "cell_type": "markdown",
   "id": "25778cc4",
   "metadata": {},
   "source": [
    "## Code generator I (jinja only)"
   ]
  },
  {
   "cell_type": "markdown",
   "id": "d6ecee83",
   "metadata": {},
   "source": [
    "Now that we can render `jinja2`, we can make a basic code generator"
   ]
  },
  {
   "cell_type": "code",
   "execution_count": null,
   "id": "5edef584-e08a-44a1-ac18-f2b186d35bec",
   "metadata": {},
   "outputs": [],
   "source": [
    "# | exporti\n",
    "class SalAction(abc.ABC):\n",
    "    @property\n",
    "    @abc.abstractmethod\n",
    "    def name() -> str:\n",
    "        pass\n",
    "\n",
    "    @abc.abstractmethod\n",
    "    def process_data(self, sal: \"Sal\", data: Data) -> str:\n",
    "        pass\n",
    "\n",
    "    def __str__(self):\n",
    "        return f\"action:{self.name}\"\n",
    "\n",
    "\n",
    "class ToFileAction(SalAction):\n",
    "    name = \"to-file\"\n",
    "\n",
    "    def process_data(self, sal: \"Sal\", data: Data) -> str:\n",
    "        rendered = sal.renderer.render(data, template=Renderer.DEFAULT_TEMPLATE)\n",
    "        to = data.attrs[\"to\"]\n",
    "        with open(to, \"w\") as h:\n",
    "            h.write(rendered)\n",
    "        return rendered\n",
    "\n",
    "\n",
    "class ToStringAction(SalAction):\n",
    "    name = \"to-string\"\n",
    "\n",
    "    def process_data(self, sal: \"Sal\", data: Data) -> str:\n",
    "        rendered = sal.renderer.render(data, template=Renderer.DEFAULT_TEMPLATE)\n",
    "        return rendered\n",
    "\n",
    "\n",
    "class WrapperAction(SalAction):\n",
    "    name = \"wrapper\"\n",
    "\n",
    "    def process_data(self, sal: \"Sal\", data: Data) -> str:\n",
    "        return [sal.process(d) for d in data.children]"
   ]
  },
  {
   "cell_type": "code",
   "execution_count": null,
   "id": "da61611d",
   "metadata": {},
   "outputs": [],
   "source": [
    "# | export\n",
    "# TODO add support to inject more action into this\n",
    "class Sal:\n",
    "    def __init__(self, renderer: Renderer):\n",
    "        self.renderer = renderer\n",
    "        self.actions = [ToFileAction(), ToStringAction(), WrapperAction()]\n",
    "\n",
    "    def pre_process_data(self, data: Data) -> Data:\n",
    "        for d, _ in data:\n",
    "            if d.name in self.action_names:\n",
    "                continue\n",
    "            # handle front matter\n",
    "\n",
    "            if hasattr(self.renderer, \"get_metadata_for_template\"):\n",
    "                # TODO rename this\n",
    "                new_attributes = self.renderer.get_metadata_for_template(d.name, d)\n",
    "                # update attributes\n",
    "                d.attrs.update(new_attributes)\n",
    "        return data\n",
    "\n",
    "    def process_data(self, data: Data) -> str | Any:\n",
    "        for action in self.actions:\n",
    "            if data.name == action.name:\n",
    "                return action.process_data(self, data)\n",
    "        return self.renderer.process(data)\n",
    "\n",
    "    def process(self, data: Data) -> str | Any:\n",
    "        data = self.pre_process_data(data)\n",
    "        return self.process_data(data)\n",
    "\n",
    "    @property\n",
    "    def action_names(self):\n",
    "        return [action.name for action in self.actions]"
   ]
  },
  {
   "cell_type": "markdown",
   "id": "361a5419",
   "metadata": {},
   "source": [
    "It's important to note that a parent should be able the trigger the rendering of his children (this enures the recursive nature of the template rendering). Look at the `model` template for an example:"
   ]
  },
  {
   "cell_type": "code",
   "execution_count": null,
   "id": "fdd5be6e",
   "metadata": {},
   "outputs": [],
   "source": [
    "model = (\n",
    "    \"class {{ name }}Model(models.Model):\\n\"\n",
    "    \"    {%- for child in children %}\\n\"\n",
    "    \"    {{ child | render }}\\n\"\n",
    "    \"    {%- endfor %}\\n\"\n",
    ")\n",
    "\n",
    "field = \"{{ name }} = models.{{ type | title }}Field()\""
   ]
  },
  {
   "cell_type": "code",
   "execution_count": null,
   "id": "b4ea1eec",
   "metadata": {},
   "outputs": [],
   "source": [
    "# | hide\n",
    "repository = InMemoryTemplateLoader(\n",
    "    templates={\n",
    "        \"model\": model,\n",
    "        \"field\": field,\n",
    "    }\n",
    ")\n",
    "template_renderer = Renderer(repository=repository, renderer=TemplateRenderer())"
   ]
  },
  {
   "cell_type": "markdown",
   "id": "38ea1732",
   "metadata": {},
   "source": [
    "With this, here's a basic jinja2-based code generator using the hard coded templates:"
   ]
  },
  {
   "cell_type": "code",
   "execution_count": null,
   "id": "d220cdf4",
   "metadata": {},
   "outputs": [],
   "source": [
    "sal = Sal(template_renderer)\n",
    "test_eq(\n",
    "    sal.process(struct.clone()).strip(),\n",
    "    \"\"\"\n",
    "class UserModel(models.Model):\n",
    "    id = models.IntegerField()\n",
    "    username = models.CharField()\n",
    "    email = models.EmailField()\n",
    "\"\"\".strip(),\n",
    ")"
   ]
  },
  {
   "cell_type": "code",
   "execution_count": null,
   "id": "fb6b94b3",
   "metadata": {},
   "outputs": [],
   "source": []
  },
  {
   "cell_type": "markdown",
   "id": "53bc034f",
   "metadata": {},
   "source": [
    "**todo: document to-file**"
   ]
  },
  {
   "cell_type": "markdown",
   "id": "03ffc5b7",
   "metadata": {},
   "source": [
    "**todo: document wrapper**"
   ]
  },
  {
   "cell_type": "code",
   "execution_count": null,
   "id": "eb651426",
   "metadata": {},
   "outputs": [],
   "source": [
    "# | hide\n",
    "struct2: Data = xml_to_data(\n",
    "    \"\"\"\n",
    "<wrapper>\n",
    "<wrapper>\n",
    "    <model name=\"User\">\n",
    "        <field name=\"id\" type=\"integer\"/>\n",
    "        <field name=\"username\" type=\"char\"/>\n",
    "        <field name=\"email\" type=\"email\"/>\n",
    "    </model>\n",
    "</wrapper>\n",
    "</wrapper>\"\"\"\n",
    ")\n",
    "\n",
    "sal = Sal(template_renderer)\n",
    "test_eq(\n",
    "    sal.process(struct2.clone())[0][0].strip(),\n",
    "    \"\"\"\n",
    "class UserModel(models.Model):\n",
    "    id = models.IntegerField()\n",
    "    username = models.CharField()\n",
    "    email = models.EmailField()\n",
    "\"\"\".strip(),\n",
    ")"
   ]
  },
  {
   "cell_type": "markdown",
   "id": "627a14bf",
   "metadata": {},
   "source": [
    "We are missing one more thing, we need to be able to save the result to a file and we'd like to have that info in the xml and not mess with code to get the job done. So, here's a new struct:"
   ]
  },
  {
   "cell_type": "code",
   "execution_count": null,
   "id": "36bae64e",
   "metadata": {},
   "outputs": [],
   "source": [
    "destination = tempfile.NamedTemporaryFile()\n",
    "\n",
    "s_file = xml_to_data(\n",
    "    f\"\"\"\n",
    "<to-file to=\"{destination.name}\">\n",
    "    <model name=\"User\">\n",
    "        <field name=\"id\" type=\"integer\"/>\n",
    "        <field name=\"username\" type=\"char\"/>\n",
    "        <field name=\"email\" type=\"email\"/>\n",
    "    </model>\n",
    "</to-file>\"\"\"\n",
    ")\n",
    "\n",
    "\n",
    "sal = Sal(template_renderer)\n",
    "print(sal.process(s_file.clone()))"
   ]
  },
  {
   "cell_type": "code",
   "execution_count": null,
   "id": "4062fabc",
   "metadata": {},
   "outputs": [],
   "source": [
    "# | hide\n",
    "\n",
    "destination = tempfile.NamedTemporaryFile()\n",
    "\n",
    "s_file = xml_to_data(\n",
    "    f\"\"\"\n",
    "<wrapper>\n",
    "<to-file to=\"{destination.name}\">\n",
    "    <model name=\"User\">\n",
    "        <field name=\"id\" type=\"integer\"/>\n",
    "        <field name=\"username\" type=\"char\"/>\n",
    "        <field name=\"email\" type=\"email\"/>\n",
    "    </model>\n",
    "</to-file>\n",
    "</wrapper>\"\"\"\n",
    ")\n",
    "\n",
    "sal = Sal(template_renderer)\n",
    "result = sal.process(s_file)\n",
    "\n",
    "with open(destination.name, \"r\") as h:\n",
    "    test_eq(\n",
    "        h.read(),\n",
    "        \"\"\"\n",
    "class UserModel(models.Model):\n",
    "    id = models.IntegerField()\n",
    "    username = models.CharField()\n",
    "    email = models.EmailField()\n",
    "    \"\"\".strip(),\n",
    "    )"
   ]
  },
  {
   "cell_type": "markdown",
   "id": "56db0549",
   "metadata": {},
   "source": [
    "> To make this even more powerful, we can use `frontmatter` to embed meta data into the templates themself and merge those with the attributes of the node. "
   ]
  },
  {
   "cell_type": "markdown",
   "id": "c1669d41",
   "metadata": {},
   "source": [
    "> To make it even more powerful, the frontmatter can contain any attribute from the struct so it needs to be extracted in a raw formar, rendered and then extracted. But first, we need new templates.."
   ]
  },
  {
   "cell_type": "code",
   "execution_count": null,
   "id": "7cd7add7",
   "metadata": {},
   "outputs": [],
   "source": [
    "model = \"\"\"\n",
    "---\n",
    "reference:  \"sigla-{{ node.attrs.name | lower }}-model\"\n",
    "---\n",
    "class {{ name }}Model(models.Model): # {{ reference }}\n",
    "    {% for child in children -%}\n",
    "    {{ child | render }}\n",
    "    {% endfor %}\n",
    "\"\"\"\n",
    "\n",
    "field = \"\"\"\n",
    "---\n",
    "reference:  \"sigla-{{ node.name | lower }}-model\"\n",
    "---\n",
    "{{ name }} = models.{{ type | title }}Field() \n",
    "\"\"\"\n",
    "\n",
    "repository = InMemoryTemplateLoader(\n",
    "    templates={\n",
    "        \"model\": model,\n",
    "        \"field\": field,\n",
    "    }\n",
    ")\n",
    "template_renderer2 = Renderer(repository=repository, renderer=TemplateRenderer())\n",
    "\n",
    "sal = Sal(template_renderer2)\n",
    "test_eq(\n",
    "    sal.process(struct.clone()).strip(),\n",
    "    \"\"\"\n",
    "class UserModel(models.Model): # sigla-user-model\n",
    "    id = models.IntegerField()\n",
    "    username = models.CharField()\n",
    "    email = models.EmailField()\n",
    "\"\"\".strip(),\n",
    ")"
   ]
  },
  {
   "cell_type": "code",
   "execution_count": null,
   "id": "e37ad819-6f5e-4c30-9c3e-196fd90ffc73",
   "metadata": {},
   "outputs": [],
   "source": [
    "# | hide\n",
    "\n",
    "destination = tempfile.NamedTemporaryFile()\n",
    "s_file = xml_to_data(\n",
    "    f\"\"\"\n",
    "    <wrapper>\n",
    "<to-file to=\"{destination.name}\">\n",
    "    <model name=\"User\">\n",
    "        <field name=\"id\" type=\"integer\"/>\n",
    "        <field name=\"username\" type=\"char\"/>\n",
    "        <field name=\"email\" type=\"email\"/>\n",
    "    </model>\n",
    "</to-file>\n",
    "    </wrapper>\n",
    "\"\"\"\n",
    ")\n",
    "\n",
    "# sal = Sal(template_renderer2)\n",
    "# sal.pre_process_data(s_file.clone())"
   ]
  },
  {
   "cell_type": "code",
   "execution_count": null,
   "id": "bdb85a2f",
   "metadata": {},
   "outputs": [],
   "source": [
    "sal = Sal(template_renderer2)\n",
    "sal.process(s_file)\n",
    "\n",
    "with open(destination.name, \"r\") as h:\n",
    "    test_eq(\n",
    "        h.read().strip(),\n",
    "        \"\"\"\n",
    "class UserModel(models.Model): # sigla-user-model\n",
    "    id = models.IntegerField()\n",
    "    username = models.CharField()\n",
    "    email = models.EmailField()\n",
    "    \"\"\".strip(),\n",
    "    )"
   ]
  },
  {
   "cell_type": "code",
   "execution_count": null,
   "id": "dcf9440c-d1e7-4be3-8cfd-8995ca22d3b9",
   "metadata": {},
   "outputs": [],
   "source": [
    "xml = xml_to_data(\n",
    "    \"\"\"\n",
    "<to-string>\n",
    "    <W>\n",
    "        <a/>\n",
    "        <a/>\n",
    "        <b/>\n",
    "    </W>\n",
    "</to-string>\n",
    "\"\"\"\n",
    ")\n",
    "\n",
    "\n",
    "w = \"\"\"\n",
    "---\n",
    "---\n",
    "{%- for i in node|imports|sum(None, [])|unique %}\n",
    "{{ i }}\n",
    "{%- endfor %}\n",
    "\n",
    "\n",
    "class W:\n",
    "    {%- for child in children %}\n",
    "    {{ child | render }}\n",
    "    {%- endfor %}\n",
    "    \n",
    "\"\"\"\n",
    "\n",
    "\n",
    "a = \"\"\"\n",
    "---\n",
    "imports: \n",
    "    - from AAA import A\n",
    "---\n",
    "a = AAA()\n",
    "\"\"\"\n",
    "b = \"\"\"\n",
    "---\n",
    "imports: \n",
    "    - from BBB import B\n",
    "---\n",
    "b = BBB()\n",
    "\"\"\"\n",
    "\n",
    "repository = InMemoryTemplateLoader(\n",
    "    templates={\n",
    "        \"W\": w,\n",
    "        \"a\": a,\n",
    "        \"b\": b,\n",
    "    }\n",
    ")\n",
    "\n",
    "\n",
    "def imports(data: Data):\n",
    "    imports_ = [d.attrs.get(\"imports\") for d, _ in data]\n",
    "    imports_ = [d for d in imports_ if d]\n",
    "    return imports_\n",
    "\n",
    "\n",
    "template_renderer2 = Renderer(\n",
    "    repository=repository,\n",
    "    renderer=TemplateRenderer(),\n",
    "    filters={\"imports\": imports},\n",
    ")\n",
    "\n",
    "\n",
    "sal = Sal(template_renderer2)\n",
    "res = sal.process(xml)\n",
    "\n",
    "assert (\n",
    "    res.strip()\n",
    "    == \"\"\"\n",
    "from AAA import A\n",
    "from BBB import B\n",
    "\n",
    "\n",
    "class W:\n",
    "    a = AAA()\n",
    "    a = AAA()\n",
    "    b = BBB()\n",
    "\"\"\".strip()\n",
    ")"
   ]
  },
  {
   "cell_type": "markdown",
   "id": "00fc23fb",
   "metadata": {},
   "source": [
    "---"
   ]
  },
  {
   "cell_type": "code",
   "execution_count": null,
   "id": "9b831110",
   "metadata": {},
   "outputs": [],
   "source": [
    "# | hide\n",
    "import nbdev\n",
    "\n",
    "nbdev.nbdev_export()"
   ]
  },
  {
   "cell_type": "code",
   "execution_count": null,
   "id": "476f3aff-e50e-46da-a3e0-def91a864331",
   "metadata": {},
   "outputs": [],
   "source": []
  }
 ],
 "metadata": {
  "kernelspec": {
   "display_name": "python3",
   "language": "python",
   "name": "python3"
  }
 },
 "nbformat": 4,
 "nbformat_minor": 5
}
