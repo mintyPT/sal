{
 "cells": [
  {
   "cell_type": "markdown",
   "id": "65f18b0d",
   "metadata": {},
   "source": [
    "# Code Generation"
   ]
  },
  {
   "cell_type": "code",
   "execution_count": null,
   "id": "4df92313",
   "metadata": {},
   "outputs": [],
   "source": [
    "#| default_exp codegen"
   ]
  },
  {
   "cell_type": "code",
   "execution_count": null,
   "id": "e26954c2",
   "metadata": {},
   "outputs": [],
   "source": [
    "# | export\n",
    "from sal.loaders import xml_to_data\n",
    "from pathlib import Path\n",
    "from sal.core import Data, iter_data, render, FrontMatter\n",
    "from jinja2 import Environment, BaseLoader, Template\n",
    "from typing import Optional, Any\n",
    "import abc\n",
    "from jinja2 import StrictUndefined\n",
    "from textwrap import dedent\n",
    "from yaml.parser import ParserError\n",
    "from black import format_str, FileMode"
   ]
  },
  {
   "cell_type": "code",
   "execution_count": null,
   "id": "9e3b7178",
   "metadata": {},
   "outputs": [],
   "source": [
    "# | hide\n",
    "import tempfile\n",
    "from fastcore.test import *\n",
    "from jinja2 import UndefinedError\n",
    "import nbdev.showdoc as showdoc"
   ]
  },
  {
   "cell_type": "markdown",
   "id": "065b74fd",
   "metadata": {},
   "source": [
    "## What code generation means with sal? "
   ]
  },
  {
   "cell_type": "markdown",
   "id": "1d77e29c",
   "metadata": {},
   "source": [
    "In it's basic form, it will combine xml files converted to `Data` structures, with jinja templates, to render code. Later we will also introduce some frontmatter.\n",
    "\n",
    "For this, we need a basic structure to work with for generating code. As an example, we'll be working with an hypotetical \"model\""
   ]
  },
  {
   "cell_type": "code",
   "execution_count": null,
   "id": "02276124",
   "metadata": {},
   "outputs": [],
   "source": [
    "struct: Data = xml_to_data(\n",
    "    \"\"\"\n",
    "    <model name=\"User\">\n",
    "        <field name=\"id\" type=\"integer\"/>\n",
    "        <field name=\"username\" type=\"char\"/>\n",
    "        <field name=\"email\" type=\"email\"/>\n",
    "    </model>\n",
    "    \"\"\"\n",
    ")"
   ]
  },
  {
   "cell_type": "markdown",
   "id": "9b9efe68",
   "metadata": {},
   "source": [
    "...and the basic templates used with this structure are:"
   ]
  },
  {
   "cell_type": "code",
   "execution_count": null,
   "id": "e4e0a6ae",
   "metadata": {},
   "outputs": [],
   "source": [
    "model = (\n",
    "    \"class {{ name }}Model(models.Model):\\n\"\n",
    "    \"    {%- for child in children %}\\n\"\n",
    "    \"    {{ child | render }}\\n\"\n",
    "    \"    {%- endfor %}\\n\"\n",
    ")\n",
    "\n",
    "field = \"{{ name }} = models.{{ type | title }}Field()\""
   ]
  },
  {
   "cell_type": "markdown",
   "id": "3df08dbf",
   "metadata": {},
   "source": [
    "## Template rendering with jinja2"
   ]
  },
  {
   "cell_type": "markdown",
   "id": "e00fa1ae",
   "metadata": {},
   "source": [
    "Let's wrap up the rendering function from the `core` into an usable class"
   ]
  },
  {
   "cell_type": "code",
   "execution_count": null,
   "id": "3f763027",
   "metadata": {},
   "outputs": [],
   "source": [
    "# | export\n",
    "class JinjaTemplateRenderer:\n",
    "    def render(self, template = None, **kwargs) -> str:\n",
    "        if template is None:\n",
    "            raise RuntimeError(\"Missing template\")\n",
    "        return render(template, **kwargs)"
   ]
  },
  {
   "cell_type": "markdown",
   "id": "4fbcfbae",
   "metadata": {},
   "source": [
    "## Template loading\n",
    "\n",
    "We will need a way to get the templates"
   ]
  },
  {
   "cell_type": "code",
   "execution_count": null,
   "id": "43c78ab3",
   "metadata": {},
   "outputs": [],
   "source": [
    "# | export\n",
    "class TemplateLoader(abc.ABC):\n",
    "    @abc.abstractmethod\n",
    "    def get_template(self, name: str) -> str:\n",
    "        \"\"\"Separate method to allow an override to the template, before returning\"\"\"\n",
    "        raise NotImplementedError\n",
    "\n",
    "class MissingTemplate(Exception):\n",
    "    def __init__(self, name):\n",
    "        super().__init__(f\"The template {name} is missing\")\n",
    "        self.name = name"
   ]
  },
  {
   "cell_type": "code",
   "execution_count": null,
   "id": "8cc1be86-27e0-4456-8731-c1dfb6d220be",
   "metadata": {},
   "outputs": [],
   "source": [
    "#| export\n",
    "class InMemoryTemplateLoader(TemplateLoader):\n",
    "    \"\"\"\n",
    "        Will keep a list of templates names + templates content\n",
    "    \"\"\"\n",
    "    def __init__(self, *args, templates=None, **kwargs):\n",
    "        super().__init__(*args, **kwargs)\n",
    "        self.templates = templates\n",
    "\n",
    "    def get_template(self, name: str):\n",
    "        if name in self.templates.keys():\n",
    "            return self.templates[name]\n",
    "        raise MissingTemplate(name)\n",
    "        \n",
    "    @classmethod\n",
    "    def from_directory(cls, directory):\n",
    "        path = Path(directory)\n",
    "        glob = path.glob('*.jinja2')\n",
    "\n",
    "        templates_raw = {}\n",
    "        for p in glob:\n",
    "            model_name = p.name.replace('.jinja2', '')\n",
    "            with open(p, 'r') as h:\n",
    "                tpl = h.read()\n",
    "            templates_raw[model_name] = tpl\n",
    "\n",
    "        return cls(\n",
    "            templates=templates_raw\n",
    "        )"
   ]
  },
  {
   "cell_type": "markdown",
   "id": "23460ce4",
   "metadata": {},
   "source": [
    "## Tying rendering and loading together"
   ]
  },
  {
   "cell_type": "markdown",
   "id": "b973cc93",
   "metadata": {},
   "source": [
    "And finally, put these 2 together to form a class to render a `Data` instance"
   ]
  },
  {
   "cell_type": "code",
   "execution_count": null,
   "id": "aa14502a",
   "metadata": {},
   "outputs": [],
   "source": [
    "# | export\n",
    "class Renderer:\n",
    "    \n",
    "    # if no template is passed in, we use the DEFAULT_TEMPLATE\n",
    "    DEFAULT_TEMPLATE = \"{% for child in children %}{{ child | render }}{% endfor %}\"\n",
    "    \n",
    "    def __init__(\n",
    "        self,\n",
    "        *,\n",
    "        renderer: JinjaTemplateRenderer = None,\n",
    "        repository: TemplateLoader = None,\n",
    "        filters=None\n",
    "    ):\n",
    "        self.renderer = renderer\n",
    "        self.repository = repository\n",
    "        self.filters = filters or {}\n",
    "\n",
    "    def render(self, data: Data, template: Optional[str] = None) -> str:\n",
    "        if template is None:\n",
    "            template = self.repository.get_template(data.name)\n",
    "\n",
    "        return self.renderer.render(\n",
    "            template=template,\n",
    "            **data.attrs,\n",
    "            filters={**self.filters, \"render\": self.render},\n",
    "            node=data,\n",
    "            children=data.children,\n",
    "        )\n",
    "\n",
    "    def process(self, data: Data) -> str:\n",
    "        return self.render(data)"
   ]
  },
  {
   "cell_type": "markdown",
   "id": "a7cb61c5",
   "metadata": {},
   "source": [
    "The entry point for this class, after `__init__`, is the `process` method"
   ]
  },
  {
   "cell_type": "markdown",
   "id": "25778cc4",
   "metadata": {},
   "source": [
    "## Code generator I (jinja only)"
   ]
  },
  {
   "cell_type": "markdown",
   "id": "d6ecee83",
   "metadata": {},
   "source": [
    "Now that we can render `jinja2`, we can make a basic code generator"
   ]
  },
  {
   "cell_type": "code",
   "execution_count": null,
   "id": "da61611d",
   "metadata": {},
   "outputs": [],
   "source": [
    "# | export\n",
    "class SalBasic:\n",
    "    def __init__(self, renderer: Optional[Renderer] = None):\n",
    "        self.renderer = renderer or Renderer()\n",
    "\n",
    "    def pre_process_data(self, data: Data):\n",
    "        return data\n",
    "\n",
    "    def action_default(self, data: Data):\n",
    "        return self.renderer.process(data)\n",
    "\n",
    "    def action_to_file(self, data: Data):\n",
    "        rendered = self.renderer.render(\n",
    "            data, template=Renderer.DEFAULT_TEMPLATE\n",
    "        )\n",
    "        to = data.attrs[\"to\"]\n",
    "        with open(to, \"w\") as h:\n",
    "            h.write(rendered)\n",
    "        return rendered\n",
    "\n",
    "    def action_black(self, data: Data):\n",
    "        rendered = self.renderer.render(\n",
    "            data, template=Renderer.DEFAULT_TEMPLATE\n",
    "        )\n",
    "        print(repr(rendered))\n",
    "        return format_str(rendered, mode=FileMode())\n",
    "    \n",
    "    def process_data(self, data: Data):\n",
    "        if data.name == \"to-file\":\n",
    "            return self.action_to_file(data)\n",
    "        if data.name == \"black\":\n",
    "            return self.action_black(data)\n",
    "        elif data.name == \"wrapper\":\n",
    "            return [self.process(d) for d in data.children]\n",
    "        else:\n",
    "            return self.action_default(data)\n",
    "\n",
    "    def process(self, data: Data):\n",
    "        data = self.pre_process_data(data)\n",
    "        return self.process_data(data)"
   ]
  },
  {
   "cell_type": "markdown",
   "id": "361a5419",
   "metadata": {},
   "source": [
    "It's important to note that a parent should be able the trigger the rendering of his children (this enures the recursive nature of the template rendering). Look at the `model` template for an example:"
   ]
  },
  {
   "cell_type": "code",
   "execution_count": null,
   "id": "fdd5be6e",
   "metadata": {},
   "outputs": [],
   "source": [
    "model = (\n",
    "    \"class {{ name }}Model(models.Model):\\n\"\n",
    "    \"    {%- for child in children %}\\n\"\n",
    "    \"    {{ child | render }}\\n\"\n",
    "    \"    {%- endfor %}\\n\"\n",
    ")\n",
    "\n",
    "field = \"{{ name }} = models.{{ type | title }}Field()\""
   ]
  },
  {
   "cell_type": "code",
   "execution_count": null,
   "id": "b4ea1eec",
   "metadata": {},
   "outputs": [],
   "source": [
    "# | hide\n",
    "repository = InMemoryTemplateLoader(\n",
    "    templates={\n",
    "        \"model\": model,\n",
    "        \"field\": field,\n",
    "    }\n",
    ")\n",
    "template_renderer = Renderer(repository=repository, renderer=JinjaTemplateRenderer())"
   ]
  },
  {
   "cell_type": "markdown",
   "id": "38ea1732",
   "metadata": {},
   "source": [
    "With this, here's a basic jinja2-based code generator using the hard coded templates:"
   ]
  },
  {
   "cell_type": "code",
   "execution_count": null,
   "id": "d220cdf4",
   "metadata": {},
   "outputs": [
    {
     "name": "stdout",
     "output_type": "stream",
     "text": [
      "class UserModel(models.Model):\n",
      "    id = models.IntegerField()\n",
      "    username = models.CharField()\n",
      "    email = models.EmailField()\n"
     ]
    }
   ],
   "source": [
    "sal = SalBasic(template_renderer)\n",
    "print(sal.process(struct.clone()))"
   ]
  },
  {
   "cell_type": "code",
   "execution_count": null,
   "id": "fb6b94b3",
   "metadata": {},
   "outputs": [],
   "source": [
    "# | hide\n",
    "sal = SalBasic(template_renderer)\n",
    "test_eq(\n",
    "    sal.process(struct.clone()).strip(),\n",
    "    \"\"\"\n",
    "class UserModel(models.Model):\n",
    "    id = models.IntegerField()\n",
    "    username = models.CharField()\n",
    "    email = models.EmailField()\n",
    "\"\"\".strip(),\n",
    ")"
   ]
  },
  {
   "cell_type": "markdown",
   "id": "53bc034f",
   "metadata": {},
   "source": [
    "**todo: document to-file**"
   ]
  },
  {
   "cell_type": "markdown",
   "id": "cd699af0-0096-4b6b-af4a-8d652f0d6b2b",
   "metadata": {},
   "source": [
    "**todo: document black**"
   ]
  },
  {
   "cell_type": "markdown",
   "id": "03ffc5b7",
   "metadata": {},
   "source": [
    "**todo: document wrapper**"
   ]
  },
  {
   "cell_type": "code",
   "execution_count": null,
   "id": "eb651426",
   "metadata": {},
   "outputs": [],
   "source": [
    "# | hide\n",
    "struct2: Data = xml_to_data(\n",
    "    \"\"\"\n",
    "<wrapper>\n",
    "    <model name=\"User\">\n",
    "        <field name=\"id\" type=\"integer\"/>\n",
    "        <field name=\"username\" type=\"char\"/>\n",
    "        <field name=\"email\" type=\"email\"/>\n",
    "    </model>\n",
    "</wrapper>\"\"\"\n",
    ")\n",
    "\n",
    "sal = SalBasic(template_renderer)\n",
    "test_eq(\n",
    "    sal.process(struct2.clone())[0].strip(),\n",
    "    \"\"\"\n",
    "class UserModel(models.Model):\n",
    "    id = models.IntegerField()\n",
    "    username = models.CharField()\n",
    "    email = models.EmailField()\n",
    "\"\"\".strip(),\n",
    ")"
   ]
  },
  {
   "cell_type": "markdown",
   "id": "627a14bf",
   "metadata": {},
   "source": [
    "We are missing one more thing, we need to be able to save the result to a file and we'd like to have that info in the xml and not mess with code to get the job done. So, here's a new struct:"
   ]
  },
  {
   "cell_type": "code",
   "execution_count": null,
   "id": "36bae64e",
   "metadata": {},
   "outputs": [
    {
     "name": "stdout",
     "output_type": "stream",
     "text": [
      "class UserModel(models.Model):\n",
      "    id = models.IntegerField()\n",
      "    username = models.CharField()\n",
      "    email = models.EmailField()\n"
     ]
    }
   ],
   "source": [
    "destination = tempfile.NamedTemporaryFile()\n",
    "\n",
    "s_file = xml_to_data(\n",
    "    f\"\"\"\n",
    "<to-file to=\"{destination.name}\">\n",
    "    <model name=\"User\">\n",
    "        <field name=\"id\" type=\"integer\"/>\n",
    "        <field name=\"username\" type=\"char\"/>\n",
    "        <field name=\"email\" type=\"email\"/>\n",
    "    </model>\n",
    "</to-file>\"\"\"\n",
    ")\n",
    "\n",
    "\n",
    "sal = SalBasic(template_renderer)\n",
    "print(sal.process(s_file.clone()))"
   ]
  },
  {
   "cell_type": "code",
   "execution_count": null,
   "id": "4062fabc",
   "metadata": {},
   "outputs": [],
   "source": [
    "# | hide\n",
    "\n",
    "destination = tempfile.NamedTemporaryFile()\n",
    "\n",
    "s_file = xml_to_data(f\"\"\"\n",
    "<to-file to=\"{destination.name}\">\n",
    "    <model name=\"User\">\n",
    "        <field name=\"id\" type=\"integer\"/>\n",
    "        <field name=\"username\" type=\"char\"/>\n",
    "        <field name=\"email\" type=\"email\"/>\n",
    "    </model>\n",
    "</to-file>\"\"\")\n",
    "\n",
    "sal = SalBasic(template_renderer)\n",
    "sal.process(s_file)\n",
    "\n",
    "with open(destination.name, \"r\") as h:\n",
    "    test_eq(\n",
    "        h.read(),\n",
    "        \"\"\"\n",
    "class UserModel(models.Model):\n",
    "    id = models.IntegerField()\n",
    "    username = models.CharField()\n",
    "    email = models.EmailField()\n",
    "    \"\"\".strip(),\n",
    "    )"
   ]
  },
  {
   "cell_type": "markdown",
   "id": "a9edaf84",
   "metadata": {},
   "source": [
    "## Code generator II (jinja + frontmatter)"
   ]
  },
  {
   "cell_type": "markdown",
   "id": "56db0549",
   "metadata": {},
   "source": [
    "To make this even more powerful, we can use `frontmatter` to embed meta data into the templates themself and merge those with the attributes of the node. "
   ]
  },
  {
   "cell_type": "markdown",
   "id": "c1669d41",
   "metadata": {},
   "source": [
    "To make it even more powerful, the frontmatter can contain any attribute from the struct so it needs to be extracted in a raw formar, rendered and then extracted. But first, we need new templates.."
   ]
  },
  {
   "cell_type": "code",
   "execution_count": null,
   "id": "ed5de91b",
   "metadata": {},
   "outputs": [],
   "source": [
    "model = \"\"\"\n",
    "---\n",
    "reference:  \"sigla-{{ node.attrs.name | lower }}-model\"\n",
    "---\n",
    "class {{ name }}Model(models.Model): # {{ reference }}\n",
    "    {% for child in children -%}\n",
    "    {{ child | render }}\n",
    "    {% endfor %}\n",
    "\"\"\"\n",
    "\n",
    "field = \"\"\"\n",
    "---\n",
    "reference:  \"sigla-{{ node.name | lower }}-model\"\n",
    "---\n",
    "{{ name }} = models.{{ type | title }}Field() \n",
    "\"\"\""
   ]
  },
  {
   "cell_type": "code",
   "execution_count": null,
   "id": "457890d5",
   "metadata": {},
   "outputs": [],
   "source": [
    "# | hide\n",
    "fm = FrontMatter().get_raw_frontmatter(model)\n",
    "assert fm == 'reference:  \"sigla-{{ node.attrs.name | lower }}-model\"'"
   ]
  },
  {
   "cell_type": "markdown",
   "id": "3ac74a87",
   "metadata": {},
   "source": [
    "**todo**"
   ]
  },
  {
   "cell_type": "code",
   "execution_count": null,
   "id": "5a9a6db4",
   "metadata": {},
   "outputs": [],
   "source": [
    "# | export\n",
    "\n",
    "class FrontMatterMixin:\n",
    "    def __init__(self, *args, **kwargs):\n",
    "        super().__init__(*args, **kwargs)\n",
    "        self.frontmatter_handler = FrontMatter()\n",
    "\n",
    "    def get_template(self, data: Data, frontmatter=False):\n",
    "        template = super().get_template(data)\n",
    "        if not frontmatter:\n",
    "            template = self.frontmatter_handler.get_content(template)\n",
    "        else:\n",
    "            template = self.frontmatter_handler.get_raw_frontmatter(template)\n",
    "        return template\n",
    "\n",
    "    \n",
    "class FrontMatterInMemoryTemplateLoader(FrontMatterMixin, InMemoryTemplateLoader):\n",
    "    pass"
   ]
  },
  {
   "cell_type": "markdown",
   "id": "1caf1c1d",
   "metadata": {},
   "source": [
    "**todo**"
   ]
  },
  {
   "cell_type": "code",
   "execution_count": null,
   "id": "eb232357",
   "metadata": {},
   "outputs": [],
   "source": [
    "# | export\n",
    "class Sal(SalBasic):\n",
    "    def get_frontmatter_attributes_for_data(self, template: str, data: Data) -> dict:\n",
    "        rendered = self.renderer.render(data, template)\n",
    "        parsed = self.renderer.repository.frontmatter_handler.parse(rendered)\n",
    "        return parsed\n",
    "\n",
    "    def pre_process_data(self, data: Data):\n",
    "        for d, _ in iter_data(data):\n",
    "            \n",
    "            if d.name in ['to-file', 'black']:\n",
    "                continue\n",
    "            \n",
    "            # load template\n",
    "            template = self.renderer.repository.get_template(\n",
    "                d.name, frontmatter=True\n",
    "            )\n",
    "            # handle front matter\n",
    "            new_attributes = self.get_frontmatter_attributes_for_data(template, d)\n",
    "            \n",
    "            # update attributes\n",
    "            d.attrs.update(new_attributes)\n",
    "        return data"
   ]
  },
  {
   "cell_type": "code",
   "execution_count": null,
   "id": "7cd7add7",
   "metadata": {},
   "outputs": [
    {
     "name": "stdout",
     "output_type": "stream",
     "text": [
      "class UserModel(models.Model): # sigla-user-model\n",
      "    id = models.IntegerField()\n",
      "    username = models.CharField()\n",
      "    email = models.EmailField()\n",
      "    \n"
     ]
    }
   ],
   "source": [
    "repository = FrontMatterInMemoryTemplateLoader(\n",
    "    templates={\n",
    "        \"model\": model,\n",
    "        \"field\": field,\n",
    "    }\n",
    ")\n",
    "template_renderer2 = Renderer(repository=repository, renderer=JinjaTemplateRenderer())\n",
    "\n",
    "sal = Sal(template_renderer2)\n",
    "print(sal.process(struct.clone()))"
   ]
  },
  {
   "cell_type": "code",
   "execution_count": null,
   "id": "846753e9",
   "metadata": {},
   "outputs": [],
   "source": [
    "#| hide\n",
    "sal = Sal(template_renderer2)\n",
    "test_eq(\n",
    "    sal.process(struct.clone()).strip(),\n",
    "    \"\"\"\n",
    "class UserModel(models.Model): # sigla-user-model\n",
    "    id = models.IntegerField()\n",
    "    username = models.CharField()\n",
    "    email = models.EmailField()\n",
    "\"\"\".strip(),\n",
    ")"
   ]
  },
  {
   "cell_type": "code",
   "execution_count": null,
   "id": "e37ad819-6f5e-4c30-9c3e-196fd90ffc73",
   "metadata": {},
   "outputs": [],
   "source": [
    "# | hide\n",
    "\n",
    "destination = tempfile.NamedTemporaryFile()\n",
    "\n",
    "s_file = xml_to_data(\n",
    "    f\"\"\"\n",
    "<to-file to=\"{destination.name}\">\n",
    "    <model name=\"User\">\n",
    "        <field name=\"id\" type=\"integer\"/>\n",
    "        <field name=\"username\" type=\"char\"/>\n",
    "        <field name=\"email\" type=\"email\"/>\n",
    "    </model>\n",
    "</to-file>\"\"\"\n",
    ")\n",
    "\n",
    "\n",
    "sal = Sal(template_renderer2)\n",
    "sal.process(s_file)\n",
    "\n",
    "with open(destination.name, \"r\") as h:\n",
    "    test_eq(\n",
    "        h.read().strip(),\n",
    "        \"\"\"\n",
    "class UserModel(models.Model): # sigla-user-model\n",
    "    id = models.IntegerField()\n",
    "    username = models.CharField()\n",
    "    email = models.EmailField()\n",
    "    \"\"\".strip(),\n",
    "    )"
   ]
  },
  {
   "cell_type": "code",
   "execution_count": null,
   "id": "dcf9440c-d1e7-4be3-8cfd-8995ca22d3b9",
   "metadata": {},
   "outputs": [
    {
     "name": "stdout",
     "output_type": "stream",
     "text": [
      "'\\nfrom AAA import A\\nfrom BBB import B\\n\\nclass W:\\n    a = AAA( )\\n    a = AAA( )\\n    b = BBB()'\n"
     ]
    }
   ],
   "source": [
    "xml = xml_to_data(\"\"\"\n",
    "<black>\n",
    "    <W>\n",
    "        <a/>\n",
    "        <a/>\n",
    "        <b/>\n",
    "    </W>\n",
    "</black>\n",
    "\"\"\")\n",
    "\n",
    "\n",
    "w = \"\"\"\n",
    "---\n",
    "---\n",
    "{%- for i in node|imports|sum(None, [])|unique %}\n",
    "{{ i }}\n",
    "{%- endfor %}\n",
    "\n",
    "class W:\n",
    "    {%- for child in children %}\n",
    "    {{ child | render }}\n",
    "    {%- endfor %}\n",
    "    \n",
    "\"\"\"\n",
    "\n",
    "\n",
    "a = \"\"\"\n",
    "---\n",
    "imports: \n",
    "    - from AAA import A\n",
    "---\n",
    "a = AAA( )\n",
    "\"\"\"\n",
    "b = \"\"\"\n",
    "---\n",
    "imports: \n",
    "    - from BBB import B\n",
    "---\n",
    "b = BBB()\n",
    "\"\"\"\n",
    "\n",
    "repository = FrontMatterInMemoryTemplateLoader(\n",
    "    templates={\n",
    "        \"W\": w,\n",
    "        \"a\": a,\n",
    "        \"b\": b,\n",
    "    }\n",
    ")\n",
    "\n",
    "\n",
    "def imports(data: Data):\n",
    "    imports_ = [d.attrs.get('imports') for d, _ in iter_data(data)]\n",
    "    imports_ = [d for d in imports_ if d]\n",
    "    return imports_\n",
    "\n",
    "\n",
    "template_renderer2 = Renderer(repository=repository, renderer=JinjaTemplateRenderer(), filters={'imports': imports})\n",
    "\n",
    "\n",
    "sal = Sal(template_renderer2)\n",
    "res = sal.process(xml)\n",
    "test_eq(res.strip(), \"\"\"\n",
    "from AAA import A\n",
    "from BBB import B\n",
    "\n",
    "\n",
    "class W:\n",
    "    a = AAA()\n",
    "    a = AAA()\n",
    "    b = BBB()\n",
    "\"\"\".strip())\n"
   ]
  },
  {
   "cell_type": "code",
   "execution_count": null,
   "id": "54dab3d2-f442-4b07-81e9-1798a8851851",
   "metadata": {},
   "outputs": [],
   "source": []
  },
  {
   "cell_type": "markdown",
   "id": "00fc23fb",
   "metadata": {},
   "source": [
    "---"
   ]
  },
  {
   "cell_type": "code",
   "execution_count": null,
   "id": "9b831110",
   "metadata": {},
   "outputs": [],
   "source": [
    "# | hide\n",
    "import nbdev\n",
    "\n",
    "nbdev.nbdev_export()"
   ]
  },
  {
   "cell_type": "code",
   "execution_count": null,
   "id": "9ba07f5f-4928-4c48-9335-3ff16c362348",
   "metadata": {},
   "outputs": [],
   "source": []
  },
  {
   "cell_type": "code",
   "execution_count": null,
   "id": "d820fa44-9aee-4021-b609-f49d9937021f",
   "metadata": {},
   "outputs": [],
   "source": []
  }
 ],
 "metadata": {
  "kernelspec": {
   "display_name": "Python 3 (ipykernel)",
   "language": "python",
   "name": "python3"
  }
 },
 "nbformat": 4,
 "nbformat_minor": 5
}
