{
 "cells": [
  {
   "cell_type": "code",
   "execution_count": 1,
   "metadata": {
    "tags": []
   },
   "outputs": [],
   "source": [
    "# | default_exp core"
   ]
  },
  {
   "cell_type": "code",
   "execution_count": 2,
   "metadata": {
    "tags": []
   },
   "outputs": [],
   "source": [
    "# | hide\n",
    "%load_ext autoreload\n",
    "%autoreload 2\n",
    "\n",
    "import nbdev\n",
    "import jupyter_black\n",
    "import nbdev.showdoc as showdoc\n",
    "from fastcore.test import *\n",
    "from fastcore.imports import *"
   ]
  },
  {
   "cell_type": "code",
   "execution_count": 3,
   "metadata": {
    "tags": []
   },
   "outputs": [
    {
     "data": {
      "text/html": [
       "\n",
       "                <script type=\"application/javascript\" id=\"jupyter_black\">\n",
       "                (function() {\n",
       "                    if (window.IPython === undefined) {\n",
       "                        return\n",
       "                    }\n",
       "                    var msg = \"WARNING: it looks like you might have loaded \" +\n",
       "                        \"jupyter_black in a non-lab notebook with \" +\n",
       "                        \"`is_lab=True`. Please double check, and if \" +\n",
       "                        \"loading with `%load_ext` please review the README!\"\n",
       "                    console.log(msg)\n",
       "                    alert(msg)\n",
       "                })()\n",
       "                </script>\n",
       "                "
      ],
      "text/plain": [
       "<IPython.core.display.HTML object>"
      ]
     },
     "metadata": {},
     "output_type": "display_data"
    }
   ],
   "source": [
    "# | hide\n",
    "jupyter_black.load()"
   ]
  },
  {
   "cell_type": "code",
   "execution_count": 4,
   "metadata": {
    "tags": []
   },
   "outputs": [],
   "source": [
    "# | export\n",
    "import logging\n",
    "from copy import deepcopy\n",
    "from textwrap import indent\n",
    "from collections import ChainMap\n",
    "from typing import Any, Generator, Sequence, Optional"
   ]
  },
  {
   "cell_type": "code",
   "execution_count": 5,
   "metadata": {
    "tags": []
   },
   "outputs": [],
   "source": [
    "# | hide\n",
    "import logging\n",
    "\n",
    "logging.getLogger().setLevel(logging.INFO)"
   ]
  },
  {
   "cell_type": "markdown",
   "metadata": {},
   "source": [
    "# Core\n",
    "\n",
    "> Core pieces needed to use during code generation."
   ]
  },
  {
   "cell_type": "markdown",
   "metadata": {},
   "source": [
    "## Data"
   ]
  },
  {
   "cell_type": "markdown",
   "metadata": {},
   "source": [
    "Out code generator will need a class to hold data while doing code generation. For this reason, the first class we are developing is creatively named `Data`"
   ]
  },
  {
   "cell_type": "code",
   "execution_count": 6,
   "metadata": {
    "tags": []
   },
   "outputs": [],
   "source": [
    "# | export\n",
    "class Data:\n",
    "    \"\"\"\n",
    "    Data holder used during code generation. Logic is kept as separate functions.\n",
    "    \"\"\"\n",
    "\n",
    "    parent: Optional[\"Data\"]\n",
    "    children: Sequence[\"Data\"]\n",
    "\n",
    "    def __init__(\n",
    "        self,\n",
    "        name: str,  # Name of this element\n",
    "        attrs: Optional[dict[str, Any]] = None,  # Attributes for this element\n",
    "    ) -> None:\n",
    "        \"\"\"\n",
    "        Initialize Data object.\n",
    "\n",
    "        \"\"\"\n",
    "\n",
    "        self.name = name\n",
    "        # TODO accept parent directly in init?\n",
    "        self.parent: Optional[\"Data\"] = None\n",
    "        self.children: Sequence[\"Data\"] = []\n",
    "\n",
    "        # we don't directly store them because the final attributes are\n",
    "        # composed by the attributes of itself and its parents.\n",
    "        self._attrs = {} if attrs is None else attrs\n",
    "\n",
    "    @property\n",
    "    def attrs(self) -> ChainMap:\n",
    "        \"\"\"\n",
    "        Get the attributes for this element, merged with\n",
    "        parent's attributes, if available.\n",
    "        \"\"\"\n",
    "        if self.parent:\n",
    "            return ChainMap(self._attrs, self.parent.attrs)\n",
    "        return ChainMap(self._attrs)\n",
    "\n",
    "    def clone(self) -> \"Data\":\n",
    "        \"\"\"\n",
    "        Create a deep copy of this Data object.\n",
    "\n",
    "        \"\"\"\n",
    "        return deepcopy(self)\n",
    "\n",
    "    def append(self, child: \"Data\") -> \"Data\":\n",
    "        \"\"\"\n",
    "        Add a child element to the children list and set its parent to self.\n",
    "        \"\"\"\n",
    "        self.children.append(child)  # type: ignore[attr-defined]\n",
    "        child.set_parent(self)\n",
    "        return child\n",
    "\n",
    "    def set_parent(self, parent: \"Data\") -> None:\n",
    "        \"\"\"\n",
    "        Set the parent element of self.\n",
    "        \"\"\"\n",
    "        logging.info(\"Setting parent %s for %s\", parent, self)\n",
    "        self.parent = parent\n",
    "\n",
    "    def __eq__(self, a: Any) -> bool:\n",
    "        \"\"\"\n",
    "        Compare this Data object with another object for equality.\n",
    "\n",
    "        \"\"\"\n",
    "        same_name: bool = self.name == a.name\n",
    "        same_attrs: bool = self.attrs == a.attrs\n",
    "        same_children: bool = self.children == a.children\n",
    "        return same_name and same_attrs and same_children\n",
    "\n",
    "    def as_tree(self) -> str:\n",
    "        \"\"\"\n",
    "        Get the string representation of this Data object.\n",
    "\n",
    "        \"\"\"\n",
    "        is_self_closing = not self.children\n",
    "\n",
    "        if self.children:\n",
    "            children = \"\\n\".join(map(str, self.children))\n",
    "            children = children.strip()\n",
    "            children = f\"\\n{children}\\n\"\n",
    "            children = indent(children, \"    \")\n",
    "\n",
    "        if self.attrs:\n",
    "            if is_self_closing:\n",
    "                return f\"<{self.name} {dict(self.attrs)} />\"\n",
    "            else:\n",
    "                return f\"<{self.name} {dict(self.attrs)}>{children}</{self.name}>\"\n",
    "\n",
    "        if is_self_closing:\n",
    "            return f\"<{self.name} />\"\n",
    "        else:\n",
    "            return f\"<{self.name}>{children}</{self.name}>\"\n",
    "\n",
    "    def __str__(self) -> str:\n",
    "        return f\"[{self.name} {dict(self.attrs)}]\"\n",
    "\n",
    "    def __len__(self) -> int:\n",
    "        return len(self.children)\n",
    "\n",
    "    def __contains__(self, child: \"Data\") -> bool:\n",
    "        return child in self.children\n",
    "\n",
    "    def __iter__(self) -> Generator:\n",
    "        def iter_data(obj: \"Data\", level: Optional[int] = 0) -> Generator:\n",
    "            \"\"\"Simply yields parent and then children\"\"\"\n",
    "            yield obj, level\n",
    "            for child in obj.children:\n",
    "                yield from iter_data(child, level=(level or 0) + 1)\n",
    "\n",
    "        return iter_data(self)\n",
    "\n",
    "    __repr__ = as_tree"
   ]
  },
  {
   "cell_type": "code",
   "execution_count": 7,
   "metadata": {
    "tags": []
   },
   "outputs": [
    {
     "data": {
      "text/markdown": [
       "---\n",
       "\n",
       "[source](https://github.com/mintyPT/sal/blob/main/sal/core.py#L14){target=\"_blank\" style=\"float:right; font-size:smaller\"}\n",
       "\n",
       "### Data\n",
       "\n",
       ">      Data (name:str, attrs:Optional[dict[str,Any]]=None)\n",
       "\n",
       "Data holder used during code generation. Logic is kept as separate functions.\n",
       "\n",
       "|    | **Type** | **Default** | **Details** |\n",
       "| -- | -------- | ----------- | ----------- |\n",
       "| name | str |  | Name of this element |\n",
       "| attrs | Optional | None | Attributes for this element |\n",
       "| **Returns** | **None** |  |  |"
      ],
      "text/plain": [
       "---\n",
       "\n",
       "[source](https://github.com/mintyPT/sal/blob/main/sal/core.py#L14){target=\"_blank\" style=\"float:right; font-size:smaller\"}\n",
       "\n",
       "### Data\n",
       "\n",
       ">      Data (name:str, attrs:Optional[dict[str,Any]]=None)\n",
       "\n",
       "Data holder used during code generation. Logic is kept as separate functions.\n",
       "\n",
       "|    | **Type** | **Default** | **Details** |\n",
       "| -- | -------- | ----------- | ----------- |\n",
       "| name | str |  | Name of this element |\n",
       "| attrs | Optional | None | Attributes for this element |\n",
       "| **Returns** | **None** |  |  |"
      ]
     },
     "execution_count": 7,
     "metadata": {},
     "output_type": "execute_result"
    }
   ],
   "source": [
    "# | hide\n",
    "showdoc.show_doc(Data)"
   ]
  },
  {
   "cell_type": "markdown",
   "metadata": {},
   "source": [
    "### Basic operations"
   ]
  },
  {
   "cell_type": "code",
   "execution_count": 8,
   "metadata": {
    "tags": []
   },
   "outputs": [],
   "source": [
    "james = Data(\"person\", {\"name\": \"james\"})\n",
    "\n",
    "test_eq(james.name, \"person\")\n",
    "test_eq(james.attrs, {\"name\": \"james\"})"
   ]
  },
  {
   "cell_type": "markdown",
   "metadata": {},
   "source": [
    "We can add children (note: a child's attributes will also include those of his parent)"
   ]
  },
  {
   "cell_type": "code",
   "execution_count": 9,
   "metadata": {
    "tags": []
   },
   "outputs": [
    {
     "name": "stderr",
     "output_type": "stream",
     "text": [
      "INFO:root:Setting parent [person {'name': 'james', 'root': 'true'}] for [person {'name': 'olive'}]\n",
      "INFO:root:Setting parent [person {'name': 'james', 'root': 'true'}] for [person {'name': 'silva'}]\n",
      "INFO:root:Setting parent [person {'name': 'james', 'root': 'true'}] for [person {'name': 'john'}]\n",
      "INFO:root:Setting parent [person {'name': 'olive', 'root': 'true'}] for [person {'name': 'andrew'}]\n",
      "INFO:root:Setting parent [person {'name': 'olive', 'root': 'true'}] for [person {'name': 'jane'}]\n",
      "INFO:root:Setting parent [person {'name': 'olive', 'root': 'true'}] for [person {'name': ''}]\n"
     ]
    }
   ],
   "source": [
    "james = Data(\"person\", {\"name\": \"james\", \"root\": \"true\"})\n",
    "olive = Data(\"person\", {\"name\": \"olive\"})\n",
    "silva = Data(\"person\", {\"name\": \"silva\"})\n",
    "andrew = Data(\"person\", {\"name\": \"andrew\"})\n",
    "john = Data(\"person\", {\"name\": \"john\"})\n",
    "jane = Data(\"person\", {\"name\": \"jane\"})\n",
    "noname = Data(\"person\", {\"name\": \"\"})\n",
    "\n",
    "james.append(olive)\n",
    "james.append(silva)\n",
    "james.append(john)\n",
    "\n",
    "olive.append(andrew)\n",
    "olive.append(jane)\n",
    "olive.append(noname)\n",
    "\n",
    "\n",
    "# ---\n",
    "test_eq(james.children[0].attrs[\"name\"], \"olive\")\n",
    "test_eq(jane.attrs[\"root\"], \"true\")"
   ]
  },
  {
   "cell_type": "markdown",
   "metadata": {},
   "source": [
    "and a child will know its parent"
   ]
  },
  {
   "cell_type": "code",
   "execution_count": 10,
   "metadata": {
    "tags": []
   },
   "outputs": [
    {
     "name": "stdout",
     "output_type": "stream",
     "text": [
      "james\n"
     ]
    }
   ],
   "source": [
    "print(olive.parent.attrs[\"name\"])\n",
    "\n",
    "# ---\n",
    "assert james == olive.parent\n",
    "# test_eq(james, olive.parent)"
   ]
  },
  {
   "cell_type": "markdown",
   "metadata": {},
   "source": [
    "To check the number of children, simply use `len`"
   ]
  },
  {
   "cell_type": "code",
   "execution_count": 11,
   "metadata": {
    "tags": []
   },
   "outputs": [],
   "source": [
    "len(james)\n",
    "\n",
    "# ---\n",
    "assert len(james) == 3"
   ]
  },
  {
   "cell_type": "markdown",
   "metadata": {},
   "source": [
    "You can compare elements but they are tested based on their attributes and children"
   ]
  },
  {
   "cell_type": "code",
   "execution_count": 12,
   "metadata": {
    "tags": []
   },
   "outputs": [
    {
     "name": "stderr",
     "output_type": "stream",
     "text": [
      "INFO:root:Setting parent [b {'age': 22}] for [d {}]\n",
      "INFO:root:Setting parent [b {'age': 22}] for [d {'age': 22}]\n"
     ]
    }
   ],
   "source": [
    "b = Data(\"b\", {\"age\": 22})\n",
    "c = Data(\"b\", {\"age\": 22})\n",
    "d = Data(\"d\")\n",
    "b.append(d)\n",
    "c.append(d)\n",
    "\n",
    "# ---\n",
    "assert b == c\n",
    "# test_eq(b, c)\n",
    "assert Data(\"b\", {\"name\": \"santos\"}) == Data(\"b\", {\"name\": \"santos\"})\n",
    "# test_eq(Data(\"b\", {\"name\": \"santos\"}), Data(\"b\", {\"name\": \"santos\"}))\n",
    "assert Data(\"b\") != Data(\"c\")\n",
    "# test_ne(Data(\"b\"), Data(\"c\"))\n",
    "assert Data(\"b\", {\"name\": \"silva\"}) != Data(\"b\", {\"name\": \"santos\"})\n",
    "# test_ne(Data(\"b\", {\"name\": \"silva\"}), Data(\"b\", {\"name\": \"santos\"}))"
   ]
  },
  {
   "cell_type": "markdown",
   "metadata": {},
   "source": [
    "You can test if an element is a child of another"
   ]
  },
  {
   "cell_type": "code",
   "execution_count": 13,
   "metadata": {
    "tags": []
   },
   "outputs": [],
   "source": [
    "test_eq(olive in james, True)"
   ]
  },
  {
   "cell_type": "markdown",
   "metadata": {},
   "source": [
    "### Cloning"
   ]
  },
  {
   "cell_type": "markdown",
   "metadata": {},
   "source": [
    "You can duplicate any `Data` instance"
   ]
  },
  {
   "cell_type": "code",
   "execution_count": 14,
   "metadata": {
    "tags": []
   },
   "outputs": [
    {
     "data": {
      "text/plain": [
       "<person {'name': 'james', 'root': 'true'}>\n",
       "    [person {'name': 'olive', 'root': 'true'}]\n",
       "    [person {'name': 'silva', 'root': 'true'}]\n",
       "    [person {'name': 'john', 'root': 'true'}]\n",
       "</person>"
      ]
     },
     "execution_count": 14,
     "metadata": {},
     "output_type": "execute_result"
    }
   ],
   "source": [
    "james.clone()"
   ]
  },
  {
   "cell_type": "code",
   "execution_count": 15,
   "metadata": {
    "tags": []
   },
   "outputs": [
    {
     "name": "stderr",
     "output_type": "stream",
     "text": [
      "INFO:root:Setting parent [root {}] for [child {}]\n"
     ]
    }
   ],
   "source": [
    "# | hide\n",
    "\n",
    "root = Data(\"root\")\n",
    "root.append(Data(\"child\"))\n",
    "\n",
    "boot = root\n",
    "assert root == boot\n",
    "\n",
    "root.attrs[\"extra\"] = \"please\"\n",
    "assert root == boot\n",
    "\n",
    "shoe = root.clone()\n",
    "shoe.attrs[\"extra\"] = \"please2\"\n",
    "assert root != shoe"
   ]
  },
  {
   "cell_type": "markdown",
   "metadata": {},
   "source": [
    "### Logic"
   ]
  },
  {
   "cell_type": "markdown",
   "metadata": {},
   "source": [
    "#### Basic iteration of all the elements"
   ]
  },
  {
   "cell_type": "markdown",
   "metadata": {},
   "source": [
    "If you just need to iterate through all the elements, a simple loop will suffice"
   ]
  },
  {
   "cell_type": "code",
   "execution_count": 16,
   "metadata": {
    "tags": []
   },
   "outputs": [
    {
     "name": "stdout",
     "output_type": "stream",
     "text": [
      " person::james\n",
      "    person::olive\n",
      "       person::andrew\n",
      "       person::jane\n",
      "       person::\n",
      "    person::silva\n",
      "    person::john\n"
     ]
    }
   ],
   "source": [
    "for person, level in james:\n",
    "    print(\"   \" * level, person.name + \"::\" + person.attrs[\"name\"])"
   ]
  },
  {
   "cell_type": "markdown",
   "metadata": {},
   "source": [
    "---"
   ]
  },
  {
   "cell_type": "code",
   "execution_count": 17,
   "metadata": {
    "tags": []
   },
   "outputs": [],
   "source": [
    "# | hide\n",
    "import nbdev\n",
    "\n",
    "nbdev.nbdev_export()"
   ]
  },
  {
   "cell_type": "code",
   "execution_count": null,
   "metadata": {},
   "outputs": [],
   "source": []
  }
 ],
 "metadata": {
  "kernelspec": {
   "display_name": "Python 3 (ipykernel)",
   "language": "python",
   "name": "python3"
  },
  "language_info": {
   "codemirror_mode": {
    "name": "ipython",
    "version": 3
   },
   "file_extension": ".py",
   "mimetype": "text/x-python",
   "name": "python",
   "nbconvert_exporter": "python",
   "pygments_lexer": "ipython3",
   "version": "3.11.9"
  }
 },
 "nbformat": 4,
 "nbformat_minor": 4
}
