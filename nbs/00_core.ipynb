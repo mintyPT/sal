{
 "cells": [
  {
   "cell_type": "markdown",
   "metadata": {},
   "source": [
    "# Core\n",
    "\n",
    "> Core pieces needed to use during code generation."
   ]
  },
  {
   "cell_type": "code",
   "execution_count": null,
   "metadata": {},
   "outputs": [],
   "source": [
    "#| default_exp core"
   ]
  },
  {
   "cell_type": "code",
   "execution_count": null,
   "metadata": {},
   "outputs": [],
   "source": [
    "#| export\n",
    "from typing import Any\n",
    "from copy import deepcopy\n",
    "from textwrap import indent\n",
    "from collections import ChainMap\n",
    "from typing import Callable, Optional\n",
    "from jinja2 import Environment, BaseLoader, Template, StrictUndefined\n",
    "from frontmatter.default_handlers import YAMLHandler\n",
    "from frontmatter.util import u"
   ]
  },
  {
   "cell_type": "code",
   "execution_count": null,
   "metadata": {},
   "outputs": [],
   "source": [
    "#| hide\n",
    "import nbdev\n",
    "import nbdev.showdoc as showdoc\n",
    "from fastcore.test import *\n",
    "from jinja2 import UndefinedError"
   ]
  },
  {
   "cell_type": "markdown",
   "metadata": {},
   "source": [
    "## Data"
   ]
  },
  {
   "cell_type": "markdown",
   "metadata": {},
   "source": [
    "We want to build a code generator but before getting to that part, we need a class to hold some data for use while doing code generation. For that reason, here, we develop `Data`"
   ]
  },
  {
   "cell_type": "markdown",
   "metadata": {},
   "source": [
    "First off, we will have a parent-children so we will represent that with a mixin. We don't directly put this into the main class because we'll need it for other usages later."
   ]
  },
  {
   "cell_type": "code",
   "execution_count": null,
   "metadata": {},
   "outputs": [],
   "source": [
    "#| export\n",
    "class WithChildrenMixin:\n",
    "    \"\"\"Adds `parent`/`children`\"\"\"\n",
    "    def __init__(self):\n",
    "        self.parent = None\n",
    "        self.children = []\n",
    "\n",
    "    def __len__(self):\n",
    "        return len(self.children)\n",
    "    \n",
    "    def __contains__(self, element):\n",
    "        return element in self.children\n",
    "            \n",
    "    def add_child(self, child: \"Data\"):\n",
    "        self.children.append(child)\n",
    "        child.set_parent(self)\n",
    "        return child\n",
    "    \n",
    "    def set_parent(self, parent: \"Data\"):\n",
    "        self.parent = parent"
   ]
  },
  {
   "cell_type": "markdown",
   "metadata": {},
   "source": [
    "So now, we can make the class to hold the data"
   ]
  },
  {
   "cell_type": "code",
   "execution_count": null,
   "metadata": {},
   "outputs": [],
   "source": [
    "#| export\n",
    "class Data(WithChildrenMixin):\n",
    "    \"\"\"Data holder used during code generation. Logic is kept as separate functions\"\"\"\n",
    "    def __init__(self, \n",
    "                 name:str, # name of this element\n",
    "                 attrs: dict[str, Any] = None): # attributes\n",
    "        \n",
    "        self.name = name\n",
    "        \n",
    "        if attrs is None:\n",
    "            attrs = {}\n",
    "        self._attrs = attrs\n",
    "        \n",
    "        super().__init__()\n",
    "    \n",
    "    @property\n",
    "    def attrs(self):\n",
    "        if self.parent:\n",
    "            return ChainMap(self._attrs, self.parent.attrs)\n",
    "        return ChainMap(self._attrs)\n",
    "            \n",
    "    def clone(self):\n",
    "        return deepcopy(self)\n",
    "        \n",
    "    def __eq__(self, a):\n",
    "        same_name = self.name == a.name\n",
    "        same_attrs = self.attrs == a.attrs\n",
    "        same_children = self.children == a.children\n",
    "        return same_name and same_attrs and same_children\n",
    "    \n",
    "    def __str__(self):\n",
    "        \n",
    "        is_self_closing = not self.children\n",
    "        \n",
    "        if self.children:\n",
    "            children = map(str, self.children)\n",
    "            children = \"\\n\".join(children)\n",
    "            children = children.strip()\n",
    "            children = f\"\\n{children}\\n\"\n",
    "            children = indent(children, \"    \")\n",
    "            \n",
    "        if self.attrs:\n",
    "            if is_self_closing:\n",
    "                return f\"<{self.name} {dict(self.attrs)} />\"\n",
    "            else:\n",
    "                return f\"<{self.name} {dict(self.attrs)}>{children}</{self.name}>\"\n",
    "            \n",
    "        if is_self_closing:\n",
    "            return f\"<{self.name} />\"\n",
    "        else:\n",
    "            return f\"<{self.name}>{children}</{self.name}>\"\n",
    "    \n",
    "    __repr__ = __str__"
   ]
  },
  {
   "cell_type": "code",
   "execution_count": null,
   "metadata": {},
   "outputs": [
    {
     "data": {
      "text/markdown": [
       "---\n",
       "\n",
       "### Data\n",
       "\n",
       ">      Data (name:str, attrs:dict[str,typing.Any]=None)\n",
       "\n",
       "Data holder used during code generation. Logic is kept as separate functions\n",
       "\n",
       "|    | **Type** | **Default** | **Details** |\n",
       "| -- | -------- | ----------- | ----------- |\n",
       "| name | str |  | name of this element |\n",
       "| attrs | dict | None | attributes |"
      ],
      "text/plain": [
       "---\n",
       "\n",
       "### Data\n",
       "\n",
       ">      Data (name:str, attrs:dict[str,typing.Any]=None)\n",
       "\n",
       "Data holder used during code generation. Logic is kept as separate functions\n",
       "\n",
       "|    | **Type** | **Default** | **Details** |\n",
       "| -- | -------- | ----------- | ----------- |\n",
       "| name | str |  | name of this element |\n",
       "| attrs | dict | None | attributes |"
      ]
     },
     "execution_count": null,
     "metadata": {},
     "output_type": "execute_result"
    }
   ],
   "source": [
    "#| hide\n",
    "showdoc.show_doc(Data)"
   ]
  },
  {
   "cell_type": "markdown",
   "metadata": {},
   "source": [
    "### Basic operations"
   ]
  },
  {
   "cell_type": "markdown",
   "metadata": {},
   "source": [
    "Now that we have a class to hold our data, and only for now, we declare structures to use for code generation, manually. Later, we'll create some data-loaders."
   ]
  },
  {
   "cell_type": "code",
   "execution_count": null,
   "metadata": {},
   "outputs": [],
   "source": [
    "james = Data('person', {\"name\": \"james\"})"
   ]
  },
  {
   "cell_type": "code",
   "execution_count": null,
   "metadata": {},
   "outputs": [
    {
     "data": {
      "text/plain": [
       "<person {'name': 'james'} />"
      ]
     },
     "execution_count": null,
     "metadata": {},
     "output_type": "execute_result"
    }
   ],
   "source": [
    "james"
   ]
  },
  {
   "cell_type": "code",
   "execution_count": null,
   "metadata": {},
   "outputs": [],
   "source": [
    "#| hide\n",
    "assert james.name == 'person'\n",
    "assert james.attrs == {\"name\": \"james\"}"
   ]
  },
  {
   "cell_type": "markdown",
   "metadata": {},
   "source": [
    "We can add children (note: a child's attributes will also include those of his parent)"
   ]
  },
  {
   "cell_type": "code",
   "execution_count": null,
   "metadata": {},
   "outputs": [
    {
     "data": {
      "text/plain": [
       "<person {'name': 'olive'} />"
      ]
     },
     "execution_count": null,
     "metadata": {},
     "output_type": "execute_result"
    }
   ],
   "source": [
    "james = Data('person', {\"name\": \"james\"})\n",
    "olive = james.add_child(Data('person', {\"name\": \"olive\"}))\n",
    "silva = james.add_child(Data('person', {\"name\": \"silva\"}))\n",
    "\n",
    "andrew = olive.add_child(Data('person', {\"name\": \"andrew\"}))\n",
    "\n",
    "james.add_child(Data('person'))\n",
    "olive.add_child(Data('person'))\n",
    "olive.add_child(Data('person'))"
   ]
  },
  {
   "cell_type": "markdown",
   "metadata": {},
   "source": [
    "and a child will know its parent"
   ]
  },
  {
   "cell_type": "code",
   "execution_count": null,
   "metadata": {},
   "outputs": [
    {
     "data": {
      "text/plain": [
       "'james'"
      ]
     },
     "execution_count": null,
     "metadata": {},
     "output_type": "execute_result"
    }
   ],
   "source": [
    "olive.parent.attrs['name']"
   ]
  },
  {
   "cell_type": "code",
   "execution_count": null,
   "metadata": {},
   "outputs": [],
   "source": [
    "#| hide\n",
    "assert james == olive.parent\n",
    "assert james.children[0].attrs[\"name\"] == \"olive\"\n",
    "assert silva.attrs['name'] == 'silva'\n",
    "assert andrew.attrs[\"name\"] == \"andrew\""
   ]
  },
  {
   "cell_type": "markdown",
   "metadata": {},
   "source": [
    "To check the number of children, simply use `len`"
   ]
  },
  {
   "cell_type": "code",
   "execution_count": null,
   "metadata": {},
   "outputs": [
    {
     "data": {
      "text/plain": [
       "3"
      ]
     },
     "execution_count": null,
     "metadata": {},
     "output_type": "execute_result"
    }
   ],
   "source": [
    "len(james)"
   ]
  },
  {
   "cell_type": "code",
   "execution_count": null,
   "metadata": {},
   "outputs": [],
   "source": [
    "#| hide\n",
    "assert len(james) == 3"
   ]
  },
  {
   "cell_type": "markdown",
   "metadata": {},
   "source": [
    "You can compare elements but they are tested based on their attributes and children"
   ]
  },
  {
   "cell_type": "code",
   "execution_count": null,
   "metadata": {},
   "outputs": [
    {
     "data": {
      "text/plain": [
       "True"
      ]
     },
     "execution_count": null,
     "metadata": {},
     "output_type": "execute_result"
    }
   ],
   "source": [
    "b = Data('b', {\"age\": 22})\n",
    "c = Data('b', {\"age\": 22})\n",
    "d = Data('d')\n",
    "b.add_child(d)\n",
    "c.add_child(d)\n",
    "b == c"
   ]
  },
  {
   "cell_type": "code",
   "execution_count": null,
   "metadata": {},
   "outputs": [],
   "source": [
    "#| hide\n",
    "b = Data('b')\n",
    "c = Data('b')\n",
    "assert b == c\n",
    "\n",
    "b = Data('b')\n",
    "c = Data('c')\n",
    "assert b != c\n",
    "\n",
    "b = Data('b', {\"name\": \"santos\"})\n",
    "c = Data('b', {\"name\": \"santos\"})\n",
    "assert b == c\n",
    "\n",
    "b = Data('b', {\"name\": \"silva\"})\n",
    "c = Data('b', {\"name\": \"santos\"})\n",
    "assert b != c\n",
    "\n",
    "b = Data('b', {\"age\": 22})\n",
    "c = Data('b', {\"age\": 22})\n",
    "d = Data('d')\n",
    "b.add_child(d)\n",
    "c.add_child(d)\n",
    "assert b == c"
   ]
  },
  {
   "cell_type": "markdown",
   "metadata": {},
   "source": [
    "You can test if an element is a child of another"
   ]
  },
  {
   "cell_type": "code",
   "execution_count": null,
   "metadata": {},
   "outputs": [
    {
     "data": {
      "text/plain": [
       "True"
      ]
     },
     "execution_count": null,
     "metadata": {},
     "output_type": "execute_result"
    }
   ],
   "source": [
    "olive in james"
   ]
  },
  {
   "cell_type": "code",
   "execution_count": null,
   "metadata": {},
   "outputs": [],
   "source": [
    "#| hide\n",
    "assert olive in james"
   ]
  },
  {
   "cell_type": "markdown",
   "metadata": {},
   "source": [
    "### Cloning"
   ]
  },
  {
   "cell_type": "markdown",
   "metadata": {},
   "source": [
    "You can duplicate any `Data` instance"
   ]
  },
  {
   "cell_type": "code",
   "execution_count": null,
   "metadata": {},
   "outputs": [
    {
     "data": {
      "text/plain": [
       "<person {'name': 'james'}>\n",
       "    <person {'name': 'olive'}>\n",
       "        <person {'name': 'andrew'} />\n",
       "        <person {'name': 'olive'} />\n",
       "        <person {'name': 'olive'} />\n",
       "    </person>\n",
       "    <person {'name': 'silva'} />\n",
       "    <person {'name': 'james'} />\n",
       "</person>"
      ]
     },
     "execution_count": null,
     "metadata": {},
     "output_type": "execute_result"
    }
   ],
   "source": [
    "james.clone()"
   ]
  },
  {
   "cell_type": "code",
   "execution_count": null,
   "metadata": {},
   "outputs": [],
   "source": [
    "#| hide\n",
    "\n",
    "root = Data('root')\n",
    "root.add_child(Data('child'))\n",
    "\n",
    "boot = root\n",
    "assert root == boot\n",
    "\n",
    "root.attrs[\"extra\"] = \"please\"\n",
    "assert root == boot\n",
    "\n",
    "\n",
    "shoe = root.clone()\n",
    "shoe.attrs[\"extra\"] = \"please2\"\n",
    "assert root != shoe"
   ]
  },
  {
   "cell_type": "markdown",
   "metadata": {},
   "source": [
    "### Logic"
   ]
  },
  {
   "cell_type": "markdown",
   "metadata": {},
   "source": [
    "#### Basic iteration of all the elements"
   ]
  },
  {
   "cell_type": "markdown",
   "metadata": {},
   "source": [
    "If you just need to iterate through all the elemnts, use `iter_data`"
   ]
  },
  {
   "cell_type": "code",
   "execution_count": null,
   "metadata": {},
   "outputs": [],
   "source": [
    "#| export\n",
    "def iter_data(obj, level=0):\n",
    "    \"\"\"Simply yields parent and then children\"\"\"\n",
    "    yield obj, level\n",
    "    for child in obj.children:\n",
    "        yield from iter_data(child, level=level+1)"
   ]
  },
  {
   "cell_type": "markdown",
   "metadata": {},
   "source": [
    "Altough `__str__` already implements a better version of this, here's an example, using `iter_data` on how to pretty print the tree of a `Data` instance"
   ]
  },
  {
   "cell_type": "code",
   "execution_count": null,
   "metadata": {},
   "outputs": [
    {
     "name": "stdout",
     "output_type": "stream",
     "text": [
      " person::james\n",
      "    person::olive\n",
      "       person::andrew\n",
      "       person::olive\n",
      "       person::olive\n",
      "    person::silva\n",
      "    person::james\n"
     ]
    }
   ],
   "source": [
    "def print_data(a):\n",
    "    \"\"\"Prints the tree of a Data instance\"\"\"\n",
    "    for obj, level in iter_data(a):\n",
    "        print(\"   \" * level, obj.name+\"::\"+obj.attrs['name'])\n",
    "        \n",
    "print_data(james)"
   ]
  },
  {
   "cell_type": "markdown",
   "metadata": {},
   "source": [
    "#### Map"
   ]
  },
  {
   "cell_type": "markdown",
   "metadata": {},
   "source": [
    "To do a `map-like` sequencial processing, you can use `map_data` which will return instances of `MappedData`"
   ]
  },
  {
   "cell_type": "code",
   "execution_count": null,
   "metadata": {},
   "outputs": [],
   "source": [
    "#| export\n",
    "class MappedData(WithChildrenMixin):\n",
    "    \"\"\"Data structure used to return results from the `map_data` function\"\"\"\n",
    "    def __init__(self, value):\n",
    "        self.value = value\n",
    "        super().__init__()"
   ]
  },
  {
   "cell_type": "code",
   "execution_count": null,
   "metadata": {},
   "outputs": [],
   "source": [
    "#| export\n",
    "def map_data(obj: Data, process: Callable, level=0) -> MappedData:\n",
    "    \"\"\"Maps over a `Data` inst returning `MappedData` instances\"\"\"\n",
    "    child_results = [map_data(c, process, level=level+1) for c in obj.children]\n",
    "    value = process(obj, level)\n",
    "    data = MappedData(value)\n",
    "    for c in child_results:\n",
    "        data.add_child(c)\n",
    "    return data"
   ]
  },
  {
   "cell_type": "markdown",
   "metadata": {},
   "source": [
    "Here's an example showing how to process all the `Data` instances in a tree..."
   ]
  },
  {
   "cell_type": "code",
   "execution_count": null,
   "metadata": {},
   "outputs": [],
   "source": [
    "def fun(data: Data, level: int=0):\n",
    "    name = data.attrs['name']\n",
    "    level_str = \" \" * (level+1)\n",
    "    return f'{level_str}-I\\'m {name}-'\n",
    "\n",
    "result = map_data(james.clone(), fun)"
   ]
  },
  {
   "cell_type": "markdown",
   "metadata": {},
   "source": [
    "...and print the result"
   ]
  },
  {
   "cell_type": "code",
   "execution_count": null,
   "metadata": {},
   "outputs": [
    {
     "name": "stdout",
     "output_type": "stream",
     "text": [
      " -I'm james-\n",
      "  -I'm olive-\n",
      "   -I'm andrew-\n",
      "   -I'm olive-\n",
      "   -I'm olive-\n",
      "  -I'm silva-\n",
      "  -I'm james-\n"
     ]
    }
   ],
   "source": [
    "for obj, level in iter_data(result):\n",
    "    print(obj.value)"
   ]
  },
  {
   "cell_type": "code",
   "execution_count": null,
   "metadata": {},
   "outputs": [],
   "source": [
    "#| hide\n",
    "test_eq(result.children[0].value ,\"  -I'm olive-\")"
   ]
  },
  {
   "cell_type": "markdown",
   "metadata": {},
   "source": [
    "## Jinja2"
   ]
  },
  {
   "cell_type": "code",
   "execution_count": null,
   "metadata": {},
   "outputs": [],
   "source": [
    "#| export\n",
    "#| hide\n",
    "def _get_env():\n",
    "    return Environment(\n",
    "        loader=BaseLoader(), \n",
    "        undefined=StrictUndefined\n",
    "    )"
   ]
  },
  {
   "cell_type": "markdown",
   "metadata": {},
   "source": [
    "We need a rendering function capable of renderering a `template`, with `filters` and `context variables`..."
   ]
  },
  {
   "cell_type": "code",
   "execution_count": null,
   "metadata": {},
   "outputs": [],
   "source": [
    "#| export\n",
    "#| hide\n",
    "def render(\n",
    "    template: str, # template in string form\n",
    "    filters: Optional[dict]=None, # jinja filters\n",
    "    **kwargs: Any,\n",
    ") -> str:\n",
    "    if not filters:\n",
    "        filters = {}\n",
    "    \n",
    "    env = _get_env()\n",
    "    env.filters.update(filters)\n",
    "    \n",
    "    jinja: Template = env.from_string(template)\n",
    "    result: str = jinja.render(**kwargs)\n",
    "        \n",
    "    return result"
   ]
  },
  {
   "cell_type": "code",
   "execution_count": null,
   "metadata": {},
   "outputs": [
    {
     "data": {
      "text/markdown": [
       "---\n",
       "\n",
       "### render\n",
       "\n",
       ">      render (template:str, filters:Optional[dict]=None, **kwargs:Any)\n",
       "\n",
       "|    | **Type** | **Default** | **Details** |\n",
       "| -- | -------- | ----------- | ----------- |\n",
       "| template | str |  | template in string form |\n",
       "| filters | Optional | None | jinja filters |\n",
       "| kwargs | Any |  |  |\n",
       "| **Returns** | **str** |  |  |"
      ],
      "text/plain": [
       "---\n",
       "\n",
       "### render\n",
       "\n",
       ">      render (template:str, filters:Optional[dict]=None, **kwargs:Any)\n",
       "\n",
       "|    | **Type** | **Default** | **Details** |\n",
       "| -- | -------- | ----------- | ----------- |\n",
       "| template | str |  | template in string form |\n",
       "| filters | Optional | None | jinja filters |\n",
       "| kwargs | Any |  |  |\n",
       "| **Returns** | **str** |  |  |"
      ]
     },
     "execution_count": null,
     "metadata": {},
     "output_type": "execute_result"
    }
   ],
   "source": [
    "showdoc.show_doc(render)"
   ]
  },
  {
   "cell_type": "code",
   "execution_count": null,
   "metadata": {},
   "outputs": [],
   "source": [
    "#| hide\n",
    "filters = {\"upper\": lambda n: n.upper()}\n",
    "template = 'this is a template is this is my name \"{{ name | upper }}\" in upper case'\n",
    "kwargs = dict(name=\"mauro\")\n",
    "\n",
    "result = render(template, filters=filters, **kwargs)\n",
    "expected = 'this is a template is this is my name \"MAURO\" in upper case'\n",
    "test_eq(result, expected)\n",
    "\n",
    "try:\n",
    "    render(\"{{ name }}\")\n",
    "except UndefinedError:\n",
    "    pass"
   ]
  },
  {
   "cell_type": "markdown",
   "metadata": {},
   "source": [
    "## Frontmatter"
   ]
  },
  {
   "cell_type": "markdown",
   "metadata": {},
   "source": [
    "Later one we will also use frontmatter to make our code generator more powerful. For now, we only need some helpers"
   ]
  },
  {
   "cell_type": "code",
   "execution_count": null,
   "metadata": {},
   "outputs": [],
   "source": [
    "#| hide\n",
    "#| export\n",
    "class FrontMatter:\n",
    "    def __init__(self, handler=None):\n",
    "        if handler is None:\n",
    "            handler = YAMLHandler()\n",
    "        self.handler = handler\n",
    "\n",
    "    def split(self, raw_content, *, encoding=\"utf-8\"):\n",
    "        raw_content = u(raw_content, encoding).strip()\n",
    "\n",
    "        try:\n",
    "            fm, content = self.handler.split(raw_content)\n",
    "        except ValueError:\n",
    "            return None, raw_content\n",
    "\n",
    "        return fm, content\n",
    "\n",
    "    def parse(self, raw_frontmatter, *, metadata=None):\n",
    "        if metadata is None:\n",
    "            metadata = {}\n",
    "\n",
    "        try:\n",
    "            raw_frontmatter = self.handler.load(raw_frontmatter)\n",
    "        except ParserError as e:\n",
    "            msg = dedent(f\"\"\"\n",
    "            ===\n",
    "            There is an error with the following yaml (front matter)\n",
    "            \n",
    "            ```\n",
    "            {raw_frontmatter}\n",
    "            ```\n",
    "\n",
    "            ===\n",
    "\n",
    "            \"\"\")\n",
    "\n",
    "            print(msg)\n",
    "            raise e\n",
    "\n",
    "        if isinstance(raw_frontmatter, dict):\n",
    "            metadata.update(raw_frontmatter)\n",
    "\n",
    "        return metadata\n",
    "\n",
    "    \n",
    "    def get_content(self, template):\n",
    "        frontmatter, content = self.split(template)\n",
    "        return content.strip()\n",
    "    \n",
    "    def get_raw_frontmatter(self, template):\n",
    "        resp = self.split(template)\n",
    "        frontmatter, content = resp\n",
    "        if frontmatter:\n",
    "            return frontmatter.strip()\n"
   ]
  },
  {
   "cell_type": "markdown",
   "metadata": {},
   "source": [
    "## Argument parsing"
   ]
  },
  {
   "cell_type": "code",
   "execution_count": null,
   "metadata": {},
   "outputs": [],
   "source": [
    "#| export\n",
    "import json"
   ]
  },
  {
   "cell_type": "code",
   "execution_count": null,
   "metadata": {},
   "outputs": [],
   "source": [
    "#| export\n",
    "\n",
    "def parse_arg(arg):\n",
    "    try:\n",
    "        v = json.loads(arg)\n",
    "    except json.JSONDecodeError:\n",
    "        v = arg\n",
    "    return v"
   ]
  },
  {
   "cell_type": "code",
   "execution_count": null,
   "metadata": {},
   "outputs": [],
   "source": [
    "# TODO test this\n",
    "# def eval_arg(arg, locals_):\n",
    "#    return eval(arg, None, locals_)"
   ]
  },
  {
   "cell_type": "code",
   "execution_count": null,
   "metadata": {},
   "outputs": [],
   "source": [
    "#| hide\n",
    "for raw, expected  in [\n",
    "    # number\n",
    "    [\"1\", 1], \n",
    "    [\"1.1\", 1.1], \n",
    "    \n",
    "    # string\n",
    "    [\"santos\", \"santos\"], \n",
    "    \n",
    "    # json\n",
    "    ['{\"name\": \"santos\"}', {\"name\": \"santos\"}], \n",
    "    [\"[1, 2, 3]\", [1, 2, 3]], \n",
    "    ['[\"1\", \"2\"]', [\"1\", \"2\"]],\n",
    "    \n",
    "    # bool\n",
    "    ['true', True],\n",
    "    ['false', False],\n",
    "]:\n",
    "    v = parse_arg(raw)\n",
    "    # print(v, type(v))\n",
    "    test_eq(v, expected)\n",
    "    "
   ]
  },
  {
   "cell_type": "code",
   "execution_count": null,
   "metadata": {},
   "outputs": [],
   "source": [
    "#| export\n",
    "\n",
    "def parse_attrs(attrs):\n",
    "    for k, y in attrs.items():\n",
    "        attrs[k] = parse_arg(y)\n",
    "    return attrs"
   ]
  },
  {
   "cell_type": "code",
   "execution_count": null,
   "metadata": {},
   "outputs": [],
   "source": [
    "#| hide\n",
    "raw = {\n",
    "    \"name\": \"john\", # string\n",
    "    \"age\": \"1\", # int\n",
    "    \"money\": \"98123.45\", # float\n",
    "    \"happy\": \"true\", # bool\n",
    "    \"sad\": \"false\", # bool\n",
    "    \"colors\": '[\"red\", \"blue\"]' # json\n",
    "}\n",
    "expected = {\"name\": \"john\", \"age\": 1, \"money\": 98123.45, \"happy\": True, \"sad\": False, \"colors\": [\"red\", \"blue\"]}\n",
    "parsed = parse_attrs(raw)\n",
    "\n",
    "test_eq(parsed, expected)"
   ]
  },
  {
   "cell_type": "markdown",
   "metadata": {},
   "source": [
    "---"
   ]
  },
  {
   "cell_type": "code",
   "execution_count": null,
   "metadata": {},
   "outputs": [],
   "source": [
    "#| hide\n",
    "import nbdev\n",
    "nbdev.nbdev_export()"
   ]
  },
  {
   "cell_type": "code",
   "execution_count": null,
   "metadata": {},
   "outputs": [],
   "source": []
  },
  {
   "cell_type": "code",
   "execution_count": null,
   "metadata": {},
   "outputs": [],
   "source": []
  },
  {
   "cell_type": "code",
   "execution_count": null,
   "metadata": {},
   "outputs": [],
   "source": []
  },
  {
   "cell_type": "code",
   "execution_count": null,
   "metadata": {},
   "outputs": [],
   "source": []
  },
  {
   "cell_type": "code",
   "execution_count": null,
   "metadata": {},
   "outputs": [],
   "source": []
  },
  {
   "cell_type": "code",
   "execution_count": null,
   "metadata": {},
   "outputs": [
    {
     "data": {
      "text/plain": [
       "{'a': 1, 'b': 2, 'c': 6}"
      ]
     },
     "execution_count": null,
     "metadata": {},
     "output_type": "execute_result"
    }
   ],
   "source": [
    "my_dict = {\"a\":1, \"b\":2, \"c\":3}\n",
    "{**my_dict, \"c\": my_dict[\"c\"] * 2}"
   ]
  },
  {
   "cell_type": "code",
   "execution_count": null,
   "metadata": {},
   "outputs": [],
   "source": []
  }
 ],
 "metadata": {
  "kernelspec": {
   "display_name": "Python 3 (ipykernel)",
   "language": "python",
   "name": "python3"
  }
 },
 "nbformat": 4,
 "nbformat_minor": 4
}
