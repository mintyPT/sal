{
 "cells": [
  {
   "cell_type": "code",
   "execution_count": null,
   "metadata": {},
   "outputs": [],
   "source": [
    "# | default_exp core"
   ]
  },
  {
   "cell_type": "markdown",
   "metadata": {},
   "source": [
    "# Core\n",
    "\n",
    "> Core pieces needed to use during code generation."
   ]
  },
  {
   "cell_type": "code",
   "execution_count": null,
   "metadata": {},
   "outputs": [],
   "source": [
    "# | hide\n",
    "import jupyter_black"
   ]
  },
  {
   "cell_type": "code",
   "execution_count": null,
   "metadata": {},
   "outputs": [
    {
     "data": {
      "text/html": [
       "\n",
       "                <script type=\"application/javascript\" id=\"jupyter_black\">\n",
       "                (function() {\n",
       "                    if (window.IPython === undefined) {\n",
       "                        return\n",
       "                    }\n",
       "                    var msg = \"WARNING: it looks like you might have loaded \" +\n",
       "                        \"jupyter_black in a non-lab notebook with \" +\n",
       "                        \"`is_lab=True`. Please double check, and if \" +\n",
       "                        \"loading with `%load_ext` please review the README!\"\n",
       "                    console.log(msg)\n",
       "                    alert(msg)\n",
       "                })()\n",
       "                </script>\n",
       "                "
      ],
      "text/plain": [
       "<IPython.core.display.HTML object>"
      ]
     },
     "metadata": {},
     "output_type": "display_data"
    }
   ],
   "source": [
    "# | hide\n",
    "jupyter_black.load()"
   ]
  },
  {
   "cell_type": "code",
   "execution_count": null,
   "metadata": {},
   "outputs": [],
   "source": [
    "# | export\n",
    "from typing import Any\n",
    "from copy import deepcopy\n",
    "from textwrap import indent\n",
    "from collections import ChainMap\n",
    "from typing import Callable, Optional\n",
    "from jinja2 import Environment, BaseLoader, Template, StrictUndefined\n",
    "from frontmatter.default_handlers import YAMLHandler\n",
    "from frontmatter.util import u\n",
    "from textwrap import dedent"
   ]
  },
  {
   "cell_type": "code",
   "execution_count": null,
   "metadata": {},
   "outputs": [],
   "source": [
    "# | hide\n",
    "import nbdev\n",
    "import nbdev.showdoc as showdoc\n",
    "from fastcore.test import *\n",
    "from fastcore.imports import *\n",
    "from jinja2 import UndefinedError"
   ]
  },
  {
   "cell_type": "markdown",
   "metadata": {},
   "source": [
    "## Data"
   ]
  },
  {
   "cell_type": "markdown",
   "metadata": {},
   "source": [
    "We want a code generator, but before, we need a class to hold data while doing code generation. For this reason, the first class we are developing is creatively named `Data`"
   ]
  },
  {
   "cell_type": "markdown",
   "metadata": {},
   "source": [
    "We'll see later that our nodes/elements will be nested, creating a parent-children. Instead of backing that in, we'll create that with a mixin, because we'll need it for other purposes later."
   ]
  },
  {
   "cell_type": "code",
   "execution_count": null,
   "metadata": {},
   "outputs": [],
   "source": [
    "# | export\n",
    "class WithChildrenMixin:\n",
    "    \"\"\"\n",
    "    Adds `parent`/`children` functionality to a class.\n",
    "    \"\"\"\n",
    "\n",
    "    def __init__(self):\n",
    "        self.parent = None\n",
    "        self.children = []\n",
    "\n",
    "    def __len__(self):\n",
    "        return len(self.children)\n",
    "\n",
    "    def __contains__(self, element):\n",
    "        return element in self.children\n",
    "\n",
    "    def append(self, child: \"Data\"):\n",
    "        \"\"\"\n",
    "        Add a child element to the children list and set its parent to self.\n",
    "        \"\"\"\n",
    "        self.children.append(child)\n",
    "        child.set_parent(self)\n",
    "        return child\n",
    "\n",
    "    def set_parent(self, parent: \"Data\"):\n",
    "        \"\"\"\n",
    "        Set the parent element of self.\n",
    "        \"\"\"\n",
    "        self.parent = parent\n",
    "\n",
    "    def __iter__(self):\n",
    "        def iter_data(obj, level=0):\n",
    "            \"\"\"Simply yields parent and then children\"\"\"\n",
    "            yield obj, level\n",
    "            for child in obj.children:\n",
    "                yield from iter_data(child, level=level + 1)\n",
    "\n",
    "        return iter_data(self)"
   ]
  },
  {
   "cell_type": "markdown",
   "metadata": {},
   "source": [
    "So now, we can make the class to hold the data"
   ]
  },
  {
   "cell_type": "code",
   "execution_count": null,
   "metadata": {},
   "outputs": [],
   "source": [
    "# | export\n",
    "class Data(WithChildrenMixin):\n",
    "    \"\"\"\n",
    "    Data holder used during code generation. Logic is kept as separate functions.\n",
    "    \"\"\"\n",
    "\n",
    "    def __init__(\n",
    "        self,\n",
    "        name: str,  # Name of this element\n",
    "        attrs: dict[str, Any] = None,  # Attributes for this element\n",
    "    ):\n",
    "        \"\"\"\n",
    "        Initialize Data object.\n",
    "\n",
    "        \"\"\"\n",
    "\n",
    "        self.name = name\n",
    "\n",
    "        if attrs is None:\n",
    "            attrs = {}\n",
    "        self._attrs = attrs\n",
    "\n",
    "        super().__init__()\n",
    "\n",
    "    @property\n",
    "    def attrs(self):\n",
    "        \"\"\"\n",
    "        Get the attributes for this element, merged with parent's attributes, if available.\n",
    "\n",
    "        \"\"\"\n",
    "        if self.parent:\n",
    "            return ChainMap(self._attrs, self.parent.attrs)\n",
    "        return ChainMap(self._attrs)\n",
    "\n",
    "    def clone(self):\n",
    "        \"\"\"\n",
    "        Create a deep copy of this Data object.\n",
    "\n",
    "        \"\"\"\n",
    "        return deepcopy(self)\n",
    "\n",
    "    def __eq__(self, a):\n",
    "        \"\"\"\n",
    "        Compare this Data object with another object for equality.\n",
    "\n",
    "        \"\"\"\n",
    "        print(\"==\")\n",
    "        same_name = self.name == a.name\n",
    "        same_attrs = self.attrs == a.attrs\n",
    "        same_children = self.children == a.children\n",
    "        return same_name and same_attrs and same_children\n",
    "\n",
    "    def __str__(self):\n",
    "        \"\"\"\n",
    "        Get the string representation of this Data object.\n",
    "\n",
    "        \"\"\"\n",
    "        is_self_closing = not self.children\n",
    "\n",
    "        if self.children:\n",
    "            children = map(str, self.children)\n",
    "            children = \"\\n\".join(children)\n",
    "            children = children.strip()\n",
    "            children = f\"\\n{children}\\n\"\n",
    "            children = indent(children, \"    \")\n",
    "\n",
    "        if self.attrs:\n",
    "            if is_self_closing:\n",
    "                return f\"<{self.name} {dict(self.attrs)} />\"\n",
    "            else:\n",
    "                return f\"<{self.name} {dict(self.attrs)}>{children}</{self.name}>\"\n",
    "\n",
    "        if is_self_closing:\n",
    "            return f\"<{self.name} />\"\n",
    "        else:\n",
    "            return f\"<{self.name}>{children}</{self.name}>\"\n",
    "\n",
    "    __repr__ = __str__"
   ]
  },
  {
   "cell_type": "code",
   "execution_count": null,
   "metadata": {},
   "outputs": [
    {
     "data": {
      "text/markdown": [
       "---\n",
       "\n",
       "[source](https://github.com/mintyPT/sal/blob/main/sal/core.py#L47){target=\"_blank\" style=\"float:right; font-size:smaller\"}\n",
       "\n",
       "### Data\n",
       "\n",
       ">      Data (name:str, attrs:dict[str,typing.Any]=None)\n",
       "\n",
       "Data holder used during code generation. Logic is kept as separate functions.\n",
       "\n",
       "|    | **Type** | **Default** | **Details** |\n",
       "| -- | -------- | ----------- | ----------- |\n",
       "| name | str |  | Name of this element |\n",
       "| attrs | dict | None | Attributes for this element |"
      ],
      "text/plain": [
       "---\n",
       "\n",
       "[source](https://github.com/mintyPT/sal/blob/main/sal/core.py#L47){target=\"_blank\" style=\"float:right; font-size:smaller\"}\n",
       "\n",
       "### Data\n",
       "\n",
       ">      Data (name:str, attrs:dict[str,typing.Any]=None)\n",
       "\n",
       "Data holder used during code generation. Logic is kept as separate functions.\n",
       "\n",
       "|    | **Type** | **Default** | **Details** |\n",
       "| -- | -------- | ----------- | ----------- |\n",
       "| name | str |  | Name of this element |\n",
       "| attrs | dict | None | Attributes for this element |"
      ]
     },
     "execution_count": null,
     "metadata": {},
     "output_type": "execute_result"
    }
   ],
   "source": [
    "# | hide\n",
    "showdoc.show_doc(Data)"
   ]
  },
  {
   "cell_type": "markdown",
   "metadata": {},
   "source": [
    "### Basic operations"
   ]
  },
  {
   "cell_type": "markdown",
   "metadata": {},
   "source": [
    "Now that we have a class to hold our data, and only for now, we declare structures to use for code generation, manually. Later, we'll create some data-loaders."
   ]
  },
  {
   "cell_type": "code",
   "execution_count": null,
   "metadata": {},
   "outputs": [
    {
     "name": "stdout",
     "output_type": "stream",
     "text": [
      "<person {'name': 'james'} />\n"
     ]
    }
   ],
   "source": [
    "james = Data(\"person\", {\"name\": \"james\"})\n",
    "\n",
    "print(james)\n",
    "\n",
    "# ---\n",
    "test_eq(james.name, \"person\")\n",
    "test_eq(james.attrs, {\"name\": \"james\"})"
   ]
  },
  {
   "cell_type": "markdown",
   "metadata": {},
   "source": [
    "We can add children (note: a child's attributes will also include those of his parent)"
   ]
  },
  {
   "cell_type": "code",
   "execution_count": null,
   "metadata": {},
   "outputs": [],
   "source": [
    "james = Data(\"person\", {\"name\": \"james\"})\n",
    "olive = james.append(Data(\"person\", {\"name\": \"olive\"}))\n",
    "silva = james.append(Data(\"person\", {\"name\": \"silva\"}))\n",
    "\n",
    "andrew = olive.append(Data(\"person\", {\"name\": \"andrew\"}))\n",
    "\n",
    "john = james.append(Data(\"person\", {\"name\": \"john\"}))\n",
    "jane = olive.append(Data(\"person\", {\"name\": \"jane\"}))\n",
    "noname = olive.append(Data(\"person\"))\n",
    "\n",
    "# ---\n",
    "test_eq(james.children[0].attrs[\"name\"], \"olive\")"
   ]
  },
  {
   "cell_type": "markdown",
   "metadata": {},
   "source": [
    "and a child will know its parent"
   ]
  },
  {
   "cell_type": "code",
   "execution_count": null,
   "metadata": {},
   "outputs": [
    {
     "name": "stdout",
     "output_type": "stream",
     "text": [
      "james\n",
      "==\n"
     ]
    }
   ],
   "source": [
    "print(olive.parent.attrs[\"name\"])\n",
    "\n",
    "# ---\n",
    "assert james == olive.parent\n",
    "# test_eq(james, olive.parent)"
   ]
  },
  {
   "cell_type": "markdown",
   "metadata": {},
   "source": [
    "To check the number of children, simply use `len`"
   ]
  },
  {
   "cell_type": "code",
   "execution_count": null,
   "metadata": {},
   "outputs": [],
   "source": [
    "len(james)\n",
    "\n",
    "# ---\n",
    "assert len(james) == 3"
   ]
  },
  {
   "cell_type": "markdown",
   "metadata": {},
   "source": [
    "You can compare elements but they are tested based on their attributes and children"
   ]
  },
  {
   "cell_type": "code",
   "execution_count": null,
   "metadata": {},
   "outputs": [
    {
     "name": "stdout",
     "output_type": "stream",
     "text": [
      "==\n",
      "==\n",
      "==\n",
      "==\n"
     ]
    }
   ],
   "source": [
    "b = Data(\"b\", {\"age\": 22})\n",
    "c = Data(\"b\", {\"age\": 22})\n",
    "d = Data(\"d\")\n",
    "b.append(d)\n",
    "c.append(d)\n",
    "\n",
    "# ---\n",
    "assert b == c\n",
    "# test_eq(b, c)\n",
    "assert Data(\"b\", {\"name\": \"santos\"}) == Data(\"b\", {\"name\": \"santos\"})\n",
    "# test_eq(Data(\"b\", {\"name\": \"santos\"}), Data(\"b\", {\"name\": \"santos\"}))\n",
    "assert Data(\"b\") != Data(\"c\")\n",
    "# test_ne(Data(\"b\"), Data(\"c\"))\n",
    "assert Data(\"b\", {\"name\": \"silva\"}) != Data(\"b\", {\"name\": \"santos\"})\n",
    "# test_ne(Data(\"b\", {\"name\": \"silva\"}), Data(\"b\", {\"name\": \"santos\"}))"
   ]
  },
  {
   "cell_type": "markdown",
   "metadata": {},
   "source": [
    "You can test if an element is a child of another"
   ]
  },
  {
   "cell_type": "code",
   "execution_count": null,
   "metadata": {},
   "outputs": [],
   "source": [
    "test_eq(olive in james, True)"
   ]
  },
  {
   "cell_type": "markdown",
   "metadata": {},
   "source": [
    "### Cloning"
   ]
  },
  {
   "cell_type": "markdown",
   "metadata": {},
   "source": [
    "You can duplicate any `Data` instance"
   ]
  },
  {
   "cell_type": "code",
   "execution_count": null,
   "metadata": {},
   "outputs": [
    {
     "data": {
      "text/plain": [
       "<person {'name': 'james'}>\n",
       "    <person {'name': 'olive'}>\n",
       "        <person {'name': 'andrew'} />\n",
       "        <person {'name': 'jane'} />\n",
       "        <person {'name': 'olive'} />\n",
       "    </person>\n",
       "    <person {'name': 'silva'} />\n",
       "    <person {'name': 'john'} />\n",
       "</person>"
      ]
     },
     "execution_count": null,
     "metadata": {},
     "output_type": "execute_result"
    }
   ],
   "source": [
    "james.clone()"
   ]
  },
  {
   "cell_type": "code",
   "execution_count": null,
   "metadata": {},
   "outputs": [
    {
     "name": "stdout",
     "output_type": "stream",
     "text": [
      "==\n",
      "==\n",
      "==\n",
      "==\n"
     ]
    }
   ],
   "source": [
    "# | hide\n",
    "\n",
    "root = Data(\"root\")\n",
    "root.append(Data(\"child\"))\n",
    "\n",
    "boot = root\n",
    "assert root == boot\n",
    "\n",
    "root.attrs[\"extra\"] = \"please\"\n",
    "assert root == boot\n",
    "\n",
    "\n",
    "shoe = root.clone()\n",
    "shoe.attrs[\"extra\"] = \"please2\"\n",
    "assert root != shoe"
   ]
  },
  {
   "cell_type": "markdown",
   "metadata": {},
   "source": [
    "### Logic"
   ]
  },
  {
   "cell_type": "markdown",
   "metadata": {},
   "source": [
    "#### Basic iteration of all the elements"
   ]
  },
  {
   "cell_type": "markdown",
   "metadata": {},
   "source": [
    "If you just need to iterate through all the elements, a simple loop will suffice"
   ]
  },
  {
   "cell_type": "code",
   "execution_count": null,
   "metadata": {},
   "outputs": [
    {
     "name": "stdout",
     "output_type": "stream",
     "text": [
      " person::james\n",
      "    person::olive\n",
      "       person::andrew\n",
      "       person::jane\n",
      "       person::olive\n",
      "    person::silva\n",
      "    person::john\n"
     ]
    }
   ],
   "source": [
    "for person, level in james:\n",
    "    print(\"   \" * level, person.name + \"::\" + person.attrs[\"name\"])"
   ]
  },
  {
   "cell_type": "markdown",
   "metadata": {},
   "source": [
    "#### Map"
   ]
  },
  {
   "cell_type": "markdown",
   "metadata": {},
   "source": [
    "To do a `map-like` sequencial processing on data and transform it to anything else, use `map_data` which will return instances of `MappedData`"
   ]
  },
  {
   "cell_type": "code",
   "execution_count": null,
   "metadata": {},
   "outputs": [],
   "source": [
    "# | export\n",
    "class MappedData(WithChildrenMixin):\n",
    "    \"\"\"Data structure used to return results from the `map_data` function\"\"\"\n",
    "\n",
    "    def __init__(self, value):\n",
    "        self.value = value\n",
    "        super().__init__()"
   ]
  },
  {
   "cell_type": "code",
   "execution_count": null,
   "metadata": {},
   "outputs": [],
   "source": [
    "# | export\n",
    "def map_data(obj: Data, process: Callable, level=0) -> MappedData:\n",
    "    \"\"\"Maps over a `Data` inst returning `MappedData` instances\"\"\"\n",
    "    child_results = [map_data(c, process, level=level + 1) for c in obj.children]\n",
    "    value = process(obj, level)\n",
    "    data = MappedData(value)\n",
    "    for c in child_results:\n",
    "        data.append(c)\n",
    "    return data"
   ]
  },
  {
   "cell_type": "markdown",
   "metadata": {},
   "source": [
    "Here's an example showing how to process all the `Data` instances in a tree..."
   ]
  },
  {
   "cell_type": "code",
   "execution_count": null,
   "metadata": {},
   "outputs": [],
   "source": [
    "def fun(data: Data, level: int = 0):\n",
    "    name = data.attrs[\"name\"]\n",
    "    level_str = \" \" * (level + 1)\n",
    "    return f\"{level_str}-I'm {name}-\"\n",
    "\n",
    "\n",
    "result = map_data(james.clone(), fun)"
   ]
  },
  {
   "cell_type": "markdown",
   "metadata": {},
   "source": [
    "...and print the result"
   ]
  },
  {
   "cell_type": "code",
   "execution_count": null,
   "metadata": {},
   "outputs": [
    {
     "name": "stdout",
     "output_type": "stream",
     "text": [
      " -I'm james-\n",
      "  -I'm olive-\n",
      "   -I'm andrew-\n",
      "   -I'm jane-\n",
      "   -I'm olive-\n",
      "  -I'm silva-\n",
      "  -I'm john-\n"
     ]
    }
   ],
   "source": [
    "for obj, level in result:\n",
    "    print(obj.value)"
   ]
  },
  {
   "cell_type": "code",
   "execution_count": null,
   "metadata": {},
   "outputs": [],
   "source": [
    "# | hide\n",
    "test_eq(result.children[0].value, \"  -I'm olive-\")"
   ]
  },
  {
   "cell_type": "markdown",
   "metadata": {},
   "source": [
    "## Jinja2"
   ]
  },
  {
   "cell_type": "code",
   "execution_count": null,
   "metadata": {},
   "outputs": [],
   "source": [
    "# | export\n",
    "# | hide\n",
    "def _get_env():\n",
    "    return Environment(loader=BaseLoader(), undefined=StrictUndefined)"
   ]
  },
  {
   "cell_type": "markdown",
   "metadata": {},
   "source": [
    "We need a rendering function capable of renderering a `template`, with `filters` and `context variables`..."
   ]
  },
  {
   "cell_type": "code",
   "execution_count": null,
   "metadata": {},
   "outputs": [],
   "source": [
    "# | export\n",
    "# | hide\n",
    "def render(\n",
    "    template: str,  # template in string form\n",
    "    filters: Optional[dict] = None,  # jinja filters\n",
    "    **kwargs: Any,\n",
    ") -> str:\n",
    "    if not filters:\n",
    "        filters = {}\n",
    "\n",
    "    env = _get_env()\n",
    "    env.filters.update(filters)\n",
    "\n",
    "    jinja: Template = env.from_string(template)\n",
    "    result: str = jinja.render(**kwargs)\n",
    "\n",
    "    return result"
   ]
  },
  {
   "cell_type": "code",
   "execution_count": null,
   "metadata": {},
   "outputs": [
    {
     "data": {
      "text/markdown": [
       "---\n",
       "\n",
       "[source](https://github.com/mintyPT/sal/blob/main/sal/core.py#L157){target=\"_blank\" style=\"float:right; font-size:smaller\"}\n",
       "\n",
       "### render\n",
       "\n",
       ">      render (template:str, filters:Optional[dict]=None, **kwargs:Any)\n",
       "\n",
       "|    | **Type** | **Default** | **Details** |\n",
       "| -- | -------- | ----------- | ----------- |\n",
       "| template | str |  | template in string form |\n",
       "| filters | Optional | None | jinja filters |\n",
       "| kwargs | Any |  |  |\n",
       "| **Returns** | **str** |  |  |"
      ],
      "text/plain": [
       "---\n",
       "\n",
       "[source](https://github.com/mintyPT/sal/blob/main/sal/core.py#L157){target=\"_blank\" style=\"float:right; font-size:smaller\"}\n",
       "\n",
       "### render\n",
       "\n",
       ">      render (template:str, filters:Optional[dict]=None, **kwargs:Any)\n",
       "\n",
       "|    | **Type** | **Default** | **Details** |\n",
       "| -- | -------- | ----------- | ----------- |\n",
       "| template | str |  | template in string form |\n",
       "| filters | Optional | None | jinja filters |\n",
       "| kwargs | Any |  |  |\n",
       "| **Returns** | **str** |  |  |"
      ]
     },
     "execution_count": null,
     "metadata": {},
     "output_type": "execute_result"
    }
   ],
   "source": [
    "showdoc.show_doc(render)"
   ]
  },
  {
   "cell_type": "code",
   "execution_count": null,
   "metadata": {},
   "outputs": [],
   "source": [
    "# | hide\n",
    "filters = {\"upper\": lambda n: n.upper()}\n",
    "template = 'this is a template is this is my name \"{{ name | upper }}\" in upper case'\n",
    "kwargs = dict(name=\"mauro\")\n",
    "\n",
    "result = render(template, filters=filters, **kwargs)\n",
    "expected = 'this is a template is this is my name \"MAURO\" in upper case'\n",
    "test_eq(result, expected)\n",
    "\n",
    "try:\n",
    "    render(\"{{ name }}\")\n",
    "except UndefinedError:\n",
    "    pass"
   ]
  },
  {
   "cell_type": "markdown",
   "metadata": {},
   "source": [
    "## Frontmatter"
   ]
  },
  {
   "cell_type": "markdown",
   "metadata": {},
   "source": [
    "Later on, we will use `frontmatter` to make our code generator more powerful. Let's build some helpers"
   ]
  },
  {
   "cell_type": "code",
   "execution_count": null,
   "metadata": {},
   "outputs": [],
   "source": [
    "# | hide\n",
    "# | export\n",
    "\n",
    "\n",
    "\n",
    "class FrontMatter:\n",
    "    def __init__(self, handler=None):\n",
    "        if handler is None:\n",
    "            handler = YAMLHandler()\n",
    "        self.handler = handler\n",
    "\n",
    "    def split(self, raw_content, *, encoding=\"utf-8\"):\n",
    "        raw_content = u(raw_content, encoding).strip()\n",
    "\n",
    "        try:\n",
    "            fm, content = self.handler.split(raw_content)\n",
    "        except ValueError:\n",
    "            return None, raw_content\n",
    "\n",
    "        return fm, content\n",
    "\n",
    "    def parse(self, raw_frontmatter, *, metadata=None):\n",
    "        if metadata is None:\n",
    "            metadata = {}\n",
    "\n",
    "        try:\n",
    "            raw_frontmatter = self.handler.load(raw_frontmatter)\n",
    "        except Exception as e:\n",
    "            msg = dedent(\n",
    "                f\"\"\"\n",
    "            ===\n",
    "            There is an error with the following yaml (front matter)\n",
    "            \n",
    "            ```\n",
    "            {raw_frontmatter}\n",
    "            ```\n",
    "\n",
    "            ===\n",
    "\n",
    "            \"\"\"\n",
    "            )\n",
    "\n",
    "            print(msg)\n",
    "            raise e\n",
    "\n",
    "        if isinstance(raw_frontmatter, dict):\n",
    "            metadata.update(raw_frontmatter)\n",
    "\n",
    "        return metadata\n",
    "\n",
    "    def get_content(self, template):\n",
    "        frontmatter, content = self.split(template)\n",
    "        return content.strip()\n",
    "\n",
    "    def get_raw_frontmatter(self, template):\n",
    "        resp = self.split(template)\n",
    "        frontmatter, content = resp\n",
    "        if frontmatter:\n",
    "            return frontmatter.strip()"
   ]
  },
  {
   "cell_type": "markdown",
   "metadata": {},
   "source": [
    "## Argument parsing"
   ]
  },
  {
   "cell_type": "code",
   "execution_count": null,
   "metadata": {},
   "outputs": [],
   "source": [
    "# | export\n",
    "import json"
   ]
  },
  {
   "cell_type": "code",
   "execution_count": null,
   "metadata": {},
   "outputs": [],
   "source": [
    "# | export\n",
    "\n",
    "\n",
    "def parse_arg(arg):\n",
    "    try:\n",
    "        v = json.loads(arg)\n",
    "    except json.JSONDecodeError:\n",
    "        v = arg\n",
    "    return v"
   ]
  },
  {
   "cell_type": "code",
   "execution_count": null,
   "metadata": {},
   "outputs": [],
   "source": [
    "# TODO test this\n",
    "# def eval_arg(arg, locals_):\n",
    "#    return eval(arg, None, locals_)"
   ]
  },
  {
   "cell_type": "code",
   "execution_count": null,
   "metadata": {},
   "outputs": [],
   "source": [
    "# | hide\n",
    "for raw, expected in [\n",
    "    # number\n",
    "    [\"1\", 1],\n",
    "    [\"1.1\", 1.1],\n",
    "    # string\n",
    "    [\"santos\", \"santos\"],\n",
    "    # json\n",
    "    ['{\"name\": \"santos\"}', {\"name\": \"santos\"}],\n",
    "    [\"[1, 2, 3]\", [1, 2, 3]],\n",
    "    ['[\"1\", \"2\"]', [\"1\", \"2\"]],\n",
    "    # bool\n",
    "    [\"true\", True],\n",
    "    [\"false\", False],\n",
    "]:\n",
    "    v = parse_arg(raw)\n",
    "    # print(v, type(v))\n",
    "    test_eq(v, expected)"
   ]
  },
  {
   "cell_type": "code",
   "execution_count": null,
   "metadata": {},
   "outputs": [],
   "source": [
    "# | export\n",
    "\n",
    "\n",
    "def parse_attrs(attrs):\n",
    "    for k, y in attrs.items():\n",
    "        attrs[k] = parse_arg(y)\n",
    "    return attrs"
   ]
  },
  {
   "cell_type": "code",
   "execution_count": null,
   "metadata": {},
   "outputs": [],
   "source": [
    "# | hide\n",
    "raw = {\n",
    "    \"name\": \"john\",  # string\n",
    "    \"age\": \"1\",  # int\n",
    "    \"money\": \"98123.45\",  # float\n",
    "    \"happy\": \"true\",  # bool\n",
    "    \"sad\": \"false\",  # bool\n",
    "    \"colors\": '[\"red\", \"blue\"]',  # json\n",
    "}\n",
    "expected = {\n",
    "    \"name\": \"john\",\n",
    "    \"age\": 1,\n",
    "    \"money\": 98123.45,\n",
    "    \"happy\": True,\n",
    "    \"sad\": False,\n",
    "    \"colors\": [\"red\", \"blue\"],\n",
    "}\n",
    "parsed = parse_attrs(raw)\n",
    "\n",
    "test_eq(parsed, expected)"
   ]
  },
  {
   "cell_type": "markdown",
   "metadata": {},
   "source": [
    "---"
   ]
  },
  {
   "cell_type": "code",
   "execution_count": null,
   "metadata": {},
   "outputs": [],
   "source": [
    "# | hide\n",
    "import nbdev\n",
    "\n",
    "nbdev.nbdev_export()"
   ]
  }
 ],
 "metadata": {
  "kernelspec": {
   "display_name": "Python 3 (ipykernel)",
   "language": "python",
   "name": "python3"
  }
 },
 "nbformat": 4,
 "nbformat_minor": 4
}
