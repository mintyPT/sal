{
 "cells": [
  {
   "cell_type": "code",
   "execution_count": null,
   "id": "f7e3d1c3-1b92-4256-bd99-3cb3ef0627af",
   "metadata": {},
   "outputs": [],
   "source": [
    "# | default_exp utils"
   ]
  },
  {
   "cell_type": "code",
   "execution_count": null,
   "id": "4ea75c1a-6783-4e2e-865a-b8655e9aadf4",
   "metadata": {},
   "outputs": [
    {
     "data": {
      "text/html": [
       "\n",
       "                <script type=\"application/javascript\" id=\"jupyter_black\">\n",
       "                (function() {\n",
       "                    if (window.IPython === undefined) {\n",
       "                        return\n",
       "                    }\n",
       "                    var msg = \"WARNING: it looks like you might have loaded \" +\n",
       "                        \"jupyter_black in a non-lab notebook with \" +\n",
       "                        \"`is_lab=True`. Please double check, and if \" +\n",
       "                        \"loading with `%load_ext` please review the README!\"\n",
       "                    console.log(msg)\n",
       "                    alert(msg)\n",
       "                })()\n",
       "                </script>\n",
       "                "
      ],
      "text/plain": [
       "<IPython.core.display.HTML object>"
      ]
     },
     "metadata": {},
     "output_type": "display_data"
    }
   ],
   "source": [
    "# | hide\n",
    "%load_ext autoreload\n",
    "%autoreload 2\n",
    "\n",
    "from fastcore.test import *\n",
    "\n",
    "import jupyter_black\n",
    "import nbdev.showdoc as showdoc\n",
    "\n",
    "\n",
    "jupyter_black.load()"
   ]
  },
  {
   "cell_type": "markdown",
   "id": "f2772e15-fadc-4ed3-b164-73f1a3cdbbb6",
   "metadata": {},
   "source": [
    "# Utils"
   ]
  },
  {
   "cell_type": "code",
   "execution_count": null,
   "id": "acd83b25-9f20-4376-9454-3c51900f5204",
   "metadata": {},
   "outputs": [],
   "source": [
    "# | export\n",
    "from contextlib import contextmanager\n",
    "from pathlib import Path\n",
    "from typing import Generator\n",
    "\n",
    "\n",
    "@contextmanager\n",
    "def files(content: dict[str, str]) -> Generator:\n",
    "    \"\"\"Setup files with content. No override if file already exists.\"\"\"\n",
    "    try:\n",
    "        for filepath, text in content.items():\n",
    "            path = Path(filepath)\n",
    "            if path.exists():\n",
    "                raise RuntimeError(\"This file already exists {path}\")\n",
    "            path.write_text(text)\n",
    "\n",
    "        yield\n",
    "\n",
    "    finally:\n",
    "        for filepath in content.keys():\n",
    "            path = Path(filepath)\n",
    "            path.unlink()"
   ]
  },
  {
   "cell_type": "code",
   "execution_count": null,
   "id": "02bf949c-df75-40f8-9ba2-d4f519aa0d49",
   "metadata": {},
   "outputs": [],
   "source": [
    "# | hide\n",
    "f = \"./hello.txt\"\n",
    "content = \"mauro\"\n",
    "with files({f: content}):\n",
    "    path = Path(f)\n",
    "    content_file = path.read_text()\n",
    "    assert content == content_file, content_file\n",
    "\n",
    "assert Path(f).exists() == False"
   ]
  },
  {
   "cell_type": "markdown",
   "id": "bccc5253-2599-42e5-86ca-78f3fb719b9c",
   "metadata": {},
   "source": [
    "---"
   ]
  },
  {
   "cell_type": "code",
   "execution_count": null,
   "id": "79854020-d399-4d1f-8abb-81784dd5afc6",
   "metadata": {},
   "outputs": [],
   "source": [
    "# | hide\n",
    "import nbdev\n",
    "\n",
    "nbdev.nbdev_export()"
   ]
  },
  {
   "cell_type": "code",
   "execution_count": null,
   "id": "cab450a9-eacb-43c4-8c76-bba9e5cf3b77",
   "metadata": {},
   "outputs": [],
   "source": []
  }
 ],
 "metadata": {
  "kernelspec": {
   "display_name": "python3",
   "language": "python",
   "name": "python3"
  }
 },
 "nbformat": 4,
 "nbformat_minor": 5
}
