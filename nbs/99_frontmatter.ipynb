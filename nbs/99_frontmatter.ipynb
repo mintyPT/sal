{
 "cells": [
  {
   "cell_type": "code",
   "execution_count": null,
   "id": "5c98c19c-8560-4665-b1a3-fa09315f008b",
   "metadata": {},
   "outputs": [],
   "source": [
    "# | default_exp frontmatter"
   ]
  },
  {
   "cell_type": "code",
   "execution_count": null,
   "id": "eedcd5c9-2539-4e18-b3a2-a07635fb975e",
   "metadata": {},
   "outputs": [],
   "source": [
    "# | hide\n",
    "%load_ext autoreload\n",
    "%autoreload 2\n",
    "\n",
    "import jupyter_black\n",
    "import nbdev.showdoc as showdoc\n",
    "from fastcore.test import *\n",
    "\n",
    "jupyter_black.load()"
   ]
  },
  {
   "cell_type": "code",
   "execution_count": null,
   "id": "170b1082-1df4-488a-9344-ab9455ccdaac",
   "metadata": {},
   "outputs": [],
   "source": [
    "# | export\n",
    "from typing import Any\n",
    "from textwrap import dedent\n",
    "from frontmatter.util import u  # type: ignore[import-untyped]\n",
    "from frontmatter.default_handlers import YAMLHandler  # type: ignore[import-untyped]"
   ]
  },
  {
   "cell_type": "markdown",
   "id": "fc4d4ceb-ead4-4d5c-90df-97347e088eb1",
   "metadata": {},
   "source": [
    "## Frontmatter"
   ]
  },
  {
   "cell_type": "markdown",
   "id": "1fb7af31-c24f-4b72-8b5d-7b15b8b1d85f",
   "metadata": {},
   "source": [
    "Later on, we will use `frontmatter` to make our code generator more powerful. Let's build some helpers"
   ]
  },
  {
   "cell_type": "code",
   "execution_count": null,
   "id": "54d1a77a-3c80-4dc2-bfb4-833b8078a24d",
   "metadata": {},
   "outputs": [],
   "source": [
    "# | hide\n",
    "# | export\n",
    "class FrontMatter:\n",
    "    def __init__(self, h: YAMLHandler | None = None):  # type: ignore[no-any-unimported]\n",
    "        if h is None:\n",
    "            h = YAMLHandler()\n",
    "        self.handler = h\n",
    "\n",
    "    def split(self, raw_content: str, *, encoding: str = \"utf-8\") -> Any:\n",
    "        raw_content = u(raw_content, encoding).strip()\n",
    "\n",
    "        try:\n",
    "            fm, content = self.handler.split(raw_content)\n",
    "        except ValueError:\n",
    "            return None, raw_content\n",
    "\n",
    "        return fm, content\n",
    "\n",
    "    def parse(self, raw_frontmatter: Any, *, metadata: Any = None) -> Any:\n",
    "        if metadata is None:\n",
    "            metadata = {}\n",
    "\n",
    "        try:\n",
    "            raw_frontmatter = self.handler.load(raw_frontmatter)\n",
    "        except Exception as e:\n",
    "            msg = dedent(\n",
    "                f\"\"\"\n",
    "            ===\n",
    "            There is an error with the following yaml (front matter)\n",
    "            \n",
    "            ```\n",
    "            {raw_frontmatter}\n",
    "            ```\n",
    "\n",
    "            ===\n",
    "\n",
    "            \"\"\"\n",
    "            )\n",
    "\n",
    "            print(msg)\n",
    "            raise e\n",
    "\n",
    "        if isinstance(raw_frontmatter, dict):\n",
    "            metadata.update(raw_frontmatter)\n",
    "\n",
    "        return metadata\n",
    "\n",
    "    def get_content(self, template: str) -> str:\n",
    "        frontmatter, content = self.split(template)\n",
    "        ret: str = content.strip()\n",
    "        return ret\n",
    "\n",
    "    def get_frontmatter_source(self, template: str) -> str:\n",
    "        resp = self.split(template)\n",
    "        frontmatter, content = resp\n",
    "        if frontmatter:\n",
    "            ret: str = frontmatter.strip()\n",
    "            return ret\n",
    "        return \"\""
   ]
  },
  {
   "cell_type": "code",
   "execution_count": null,
   "id": "1f33aa49-760b-49d4-901a-a3b8b7ff8282",
   "metadata": {},
   "outputs": [],
   "source": [
    "model = \"\"\"\n",
    "---\n",
    "reference:  \"sigla-{{ node.attrs.name | lower }}-model\"\n",
    "---\n",
    "class {{ name }}Model(models.Model): # {{ reference }}\n",
    "    {% for child in children -%}\n",
    "    {{ child | render }}\n",
    "    {% endfor %}\n",
    "\"\"\"\n",
    "\n",
    "fm = FrontMatter().get_frontmatter_source(model)\n",
    "test_eq(fm, 'reference:  \"sigla-{{ node.attrs.name | lower }}-model\"')"
   ]
  },
  {
   "cell_type": "markdown",
   "id": "b67ba25e-cca6-4e33-9fc2-fafd99ffb48e",
   "metadata": {},
   "source": [
    "---"
   ]
  },
  {
   "cell_type": "code",
   "execution_count": null,
   "id": "67b38c74-321d-474e-89be-baae3c845130",
   "metadata": {},
   "outputs": [],
   "source": [
    "# | hide\n",
    "import nbdev\n",
    "\n",
    "nbdev.nbdev_export()"
   ]
  }
 ],
 "metadata": {
  "kernelspec": {
   "display_name": "python3",
   "language": "python",
   "name": "python3"
  }
 },
 "nbformat": 4,
 "nbformat_minor": 5
}
