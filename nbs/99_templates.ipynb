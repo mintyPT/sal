{
 "cells": [
  {
   "cell_type": "code",
   "execution_count": null,
   "id": "b51b7edd-6096-4f57-9c30-0aba3f0bb4d9",
   "metadata": {},
   "outputs": [],
   "source": [
    "# | default_exp templates"
   ]
  },
  {
   "cell_type": "code",
   "execution_count": null,
   "id": "fc40ed69-bd15-4e13-8e44-d4e42f4f088f",
   "metadata": {},
   "outputs": [],
   "source": [
    "# | hide\n",
    "%load_ext autoreload\n",
    "%autoreload 2\n",
    "\n",
    "import jupyter_black\n",
    "import nbdev.showdoc as showdoc\n",
    "from fastcore.test import *\n",
    "from jinja2 import UndefinedError\n",
    "from sal.utils import files"
   ]
  },
  {
   "cell_type": "code",
   "execution_count": null,
   "id": "48bd2e43-e98a-4b77-974c-2222b3fca75e",
   "metadata": {},
   "outputs": [],
   "source": [
    "# | hide\n",
    "jupyter_black.load()"
   ]
  },
  {
   "cell_type": "code",
   "execution_count": null,
   "id": "7fc1e4e1-f89e-4e53-889d-4b7ac247431e",
   "metadata": {},
   "outputs": [],
   "source": [
    "# | exporti\n",
    "from pathlib import Path\n",
    "from typing import Any, Optional, Union\n",
    "from jinja2 import (\n",
    "    Environment,\n",
    "    BaseLoader,\n",
    "    Template,\n",
    "    StrictUndefined,\n",
    "    TemplateNotFound,\n",
    "    ChoiceLoader,\n",
    "    DictLoader,\n",
    "    FileSystemLoader,\n",
    ")\n",
    "\n",
    "from sal.core import Data\n",
    "from sal.frontmatter import FrontMatter"
   ]
  },
  {
   "cell_type": "markdown",
   "id": "e05b2a3f-9eca-4f67-bbbf-72357ce0ecfb",
   "metadata": {},
   "source": [
    "# Template relathed things"
   ]
  },
  {
   "cell_type": "code",
   "execution_count": null,
   "id": "0b4a0b46-bdb5-451d-974f-a24d6ac4af67",
   "metadata": {},
   "outputs": [],
   "source": [
    "# | exporti\n",
    "# | hide\n",
    "def _get_env() -> Environment:\n",
    "    return Environment(loader=BaseLoader(), undefined=StrictUndefined)"
   ]
  },
  {
   "cell_type": "markdown",
   "id": "007863da-b46a-4c3c-a88f-07a231352d8b",
   "metadata": {},
   "source": [
    "    We need a rendering function capable of renderering a `template`, with `filters` and `context variables`..."
   ]
  },
  {
   "cell_type": "code",
   "execution_count": null,
   "id": "1fad1db6-6665-4eab-961c-559b0bd77031",
   "metadata": {},
   "outputs": [],
   "source": [
    "# | export\n",
    "def render_to_remove(\n",
    "    template: str,  # template in string form\n",
    "    filters: Optional[dict] = None,  # jinja filters\n",
    "    **kwargs: Any,\n",
    ") -> str:\n",
    "    if not filters:\n",
    "        filters = {}\n",
    "\n",
    "    env = _get_env()\n",
    "    env.filters.update(filters)\n",
    "\n",
    "    jinja: Template = env.from_string(template)\n",
    "    result: str = jinja.render(**kwargs)\n",
    "\n",
    "    return result"
   ]
  },
  {
   "cell_type": "code",
   "execution_count": null,
   "id": "f67f130c-2b33-4915-9586-002af8b7c6b2",
   "metadata": {},
   "outputs": [],
   "source": [
    "showdoc.show_doc(render_to_remove)"
   ]
  },
  {
   "cell_type": "code",
   "execution_count": null,
   "id": "05c82fe1-ab8a-46fd-8b58-25a813ae3c5b",
   "metadata": {},
   "outputs": [],
   "source": [
    "# | hide\n",
    "filters = {\"upper\": lambda n: n.upper()}\n",
    "template = 'this is a template is this is my name \"{{ name | upper }}\" in upper case'\n",
    "kwargs = dict(name=\"mauro\")\n",
    "\n",
    "result = render_to_remove(template, filters=filters, **kwargs)\n",
    "expected = 'this is a template is this is my name \"MAURO\" in upper case'\n",
    "test_eq(result, expected)\n",
    "\n",
    "try:\n",
    "    render_to_remove(\"{{ name }}\")\n",
    "except UndefinedError:\n",
    "    pass"
   ]
  },
  {
   "cell_type": "markdown",
   "id": "168b5d53-78fc-43db-8fec-fb017a4e6a5f",
   "metadata": {},
   "source": [
    "    Let's wrap up the rendering function from the `core` into an usable class"
   ]
  },
  {
   "cell_type": "code",
   "execution_count": null,
   "id": "c3228cf6-080a-467a-b35c-5b24c3a8194e",
   "metadata": {},
   "outputs": [],
   "source": [
    "# | exporti\n",
    "class TemplateRenderer:\n",
    "    def render(self, template: Optional[str] = None, **kwargs: Any) -> str:\n",
    "        if template is None:\n",
    "            raise RuntimeError(\"Missing template\")\n",
    "        return render_to_remove(template, **kwargs)"
   ]
  },
  {
   "cell_type": "markdown",
   "id": "c5b26633-b92b-42ed-8d00-09341513d18a",
   "metadata": {},
   "source": [
    "## Template loading\n",
    "\n",
    "We will need a way to get the templates"
   ]
  },
  {
   "cell_type": "code",
   "execution_count": null,
   "id": "44b4e632-5edc-42d9-a4e7-81e32bed6e4e",
   "metadata": {},
   "outputs": [],
   "source": [
    "# | exporti\n",
    "MissingTemplateException = TemplateNotFound\n",
    "\n",
    "\n",
    "class TemplateLoader:\n",
    "    def __init__(\n",
    "        self,\n",
    "        templates: Optional[dict[str, str]] = None,\n",
    "        folders: Optional[list[Path]] = None,\n",
    "    ):\n",
    "        self.frontmatter_handler = FrontMatter()\n",
    "        loaders: list[Union[DictLoader, FileSystemLoader]] = [\n",
    "            DictLoader(templates or {})\n",
    "        ]\n",
    "        if folders:\n",
    "            for folder in folders:\n",
    "                loaders.append(FileSystemLoader(folder))\n",
    "        self.loader = ChoiceLoader(loaders)\n",
    "\n",
    "    def get_source(self, name: str, frontmatter: Optional[bool] = False) -> str:\n",
    "        if not name.endswith(\".jinja2\"):\n",
    "            name = name + \".jinja2\"\n",
    "        template, _, _ = self.loader.get_source(_get_env(), name)\n",
    "        if not frontmatter:\n",
    "            return self.frontmatter_handler.get_content(template)\n",
    "        return self.frontmatter_handler.get_frontmatter_source(template)\n",
    "\n",
    "    def get_frontmatter_source(self, name: str) -> str:\n",
    "        return self.get_source(name, frontmatter=True)\n",
    "\n",
    "    @classmethod\n",
    "    def from_directories(cls, directories: list[Path]) -> \"TemplateLoader\":\n",
    "        return cls(folders=directories)"
   ]
  },
  {
   "cell_type": "code",
   "execution_count": null,
   "id": "85834bfd-2faf-4e07-bdac-567e33656bb8",
   "metadata": {},
   "outputs": [],
   "source": [
    "# | hide\n",
    "\n",
    "with files(\n",
    "    {\n",
    "        f\"tmp/templates/model.jinja2\": \"my model template\",\n",
    "    }\n",
    "):\n",
    "    tpl_loader = TemplateLoader.from_directories([\"tmp/templates\"])\n",
    "    tpl_loader.get_source(\"model\")"
   ]
  },
  {
   "cell_type": "markdown",
   "id": "e9c704c0-48c0-4cb4-843b-d7a6977fa16b",
   "metadata": {},
   "source": [
    "## Tying rendering and loading together"
   ]
  },
  {
   "cell_type": "markdown",
   "id": "dced7f37-41fe-4b9e-b35a-a5189f2e7d72",
   "metadata": {},
   "source": [
    "And finally, put these 2 together to form a class to render a `Data` instance"
   ]
  },
  {
   "cell_type": "code",
   "execution_count": null,
   "id": "899e107b-a875-4eda-8abe-3f02514a238a",
   "metadata": {},
   "outputs": [],
   "source": [
    "# | exporti\n",
    "# TODO remove \"any\" typings\n",
    "class Renderer:\n",
    "    # if no template is passed in, we use the DEFAULT_TEMPLATE\n",
    "    DEFAULT_TEMPLATE = \"{% for child in children %}{{ child | render }}{% endfor %}\"\n",
    "\n",
    "    def __init__(\n",
    "        self,\n",
    "        *,\n",
    "        renderer: TemplateRenderer,\n",
    "        repository: TemplateLoader,\n",
    "        filters: Optional[dict] = None\n",
    "    ):\n",
    "        self.renderer = renderer\n",
    "        self.repository = repository\n",
    "        self.filters = filters or {}\n",
    "\n",
    "    def render(self, data: Data, template: Optional[str] = None) -> str:\n",
    "        if template is None:\n",
    "            template = self.repository.get_source(data.name)\n",
    "\n",
    "        return self.renderer.render(\n",
    "            template=template,\n",
    "            **data.attrs,\n",
    "            filters={**self.filters, \"render\": self.render},\n",
    "            node=data,\n",
    "            children=data.children,\n",
    "        )\n",
    "\n",
    "    def process(self, data: Data) -> str:\n",
    "        return self.render(data)\n",
    "\n",
    "    def get_source(self, *args: Any, **kwargs: Any) -> str:\n",
    "        return self.repository.get_source(*args, **kwargs)\n",
    "\n",
    "    def get_metadata_for_template(self, path: str, data: Data) -> dict:\n",
    "        template = self.repository.get_frontmatter_source(path)\n",
    "\n",
    "        rendered = self.render(data, template)\n",
    "\n",
    "        ret: dict = self.repository.frontmatter_handler.parse(rendered)\n",
    "\n",
    "        return ret"
   ]
  },
  {
   "cell_type": "markdown",
   "id": "ba54e43c-3101-4476-b6c5-1e21d60146bd",
   "metadata": {},
   "source": [
    "The entry point for this class, after `__init__`, is the `process` method"
   ]
  },
  {
   "cell_type": "markdown",
   "id": "14d1bfbf-f22e-4447-a9f3-8c608ae56538",
   "metadata": {},
   "source": [
    "---"
   ]
  },
  {
   "cell_type": "code",
   "execution_count": null,
   "id": "0e25ac60-26ce-49a1-ae8a-abc15b6da33e",
   "metadata": {},
   "outputs": [],
   "source": [
    "# | hide\n",
    "import nbdev\n",
    "\n",
    "nbdev.nbdev_export()"
   ]
  },
  {
   "cell_type": "code",
   "execution_count": null,
   "id": "96ea01ff-77be-4278-9475-72f2fdc2b49d",
   "metadata": {},
   "outputs": [],
   "source": []
  }
 ],
 "metadata": {
  "kernelspec": {
   "display_name": "python3",
   "language": "python",
   "name": "python3"
  }
 },
 "nbformat": 4,
 "nbformat_minor": 5
}
