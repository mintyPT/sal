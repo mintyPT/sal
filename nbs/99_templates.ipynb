{
 "cells": [
  {
   "cell_type": "code",
   "execution_count": null,
   "id": "b51b7edd-6096-4f57-9c30-0aba3f0bb4d9",
   "metadata": {},
   "outputs": [],
   "source": [
    "# | default_exp templates"
   ]
  },
  {
   "cell_type": "code",
   "execution_count": null,
   "id": "fc40ed69-bd15-4e13-8e44-d4e42f4f088f",
   "metadata": {},
   "outputs": [
    {
     "data": {
      "text/html": [
       "\n",
       "                <script type=\"application/javascript\" id=\"jupyter_black\">\n",
       "                (function() {\n",
       "                    if (window.IPython === undefined) {\n",
       "                        return\n",
       "                    }\n",
       "                    var msg = \"WARNING: it looks like you might have loaded \" +\n",
       "                        \"jupyter_black in a non-lab notebook with \" +\n",
       "                        \"`is_lab=True`. Please double check, and if \" +\n",
       "                        \"loading with `%load_ext` please review the README!\"\n",
       "                    console.log(msg)\n",
       "                    alert(msg)\n",
       "                })()\n",
       "                </script>\n",
       "                "
      ],
      "text/plain": [
       "<IPython.core.display.HTML object>"
      ]
     },
     "metadata": {},
     "output_type": "display_data"
    }
   ],
   "source": [
    "# | hide\n",
    "%load_ext autoreload\n",
    "%autoreload 2\n",
    "\n",
    "from fastcore.test import *\n",
    "from jinja2 import UndefinedError\n",
    "\n",
    "import jupyter_black\n",
    "import nbdev.showdoc as showdoc\n",
    "\n",
    "jupyter_black.load()"
   ]
  },
  {
   "cell_type": "code",
   "execution_count": null,
   "id": "7fc1e4e1-f89e-4e53-889d-4b7ac247431e",
   "metadata": {},
   "outputs": [],
   "source": [
    "# | export\n",
    "from sal.core import Data\n",
    "from typing import Any, Optional\n",
    "from jinja2 import Environment, BaseLoader, Template, StrictUndefined\n",
    "\n",
    "import abc"
   ]
  },
  {
   "cell_type": "markdown",
   "id": "e05b2a3f-9eca-4f67-bbbf-72357ce0ecfb",
   "metadata": {},
   "source": [
    "# Template relathed things"
   ]
  },
  {
   "cell_type": "code",
   "execution_count": null,
   "id": "0b4a0b46-bdb5-451d-974f-a24d6ac4af67",
   "metadata": {},
   "outputs": [],
   "source": [
    "# | export\n",
    "# | hide\n",
    "def _get_env():\n",
    "    return Environment(loader=BaseLoader(), undefined=StrictUndefined)"
   ]
  },
  {
   "cell_type": "markdown",
   "id": "007863da-b46a-4c3c-a88f-07a231352d8b",
   "metadata": {},
   "source": [
    "    We need a rendering function capable of renderering a `template`, with `filters` and `context variables`..."
   ]
  },
  {
   "cell_type": "code",
   "execution_count": null,
   "id": "1fad1db6-6665-4eab-961c-559b0bd77031",
   "metadata": {},
   "outputs": [],
   "source": [
    "# | export\n",
    "# | hide\n",
    "def render(\n",
    "    template: str,  # template in string form\n",
    "    filters: Optional[dict] = None,  # jinja filters\n",
    "    **kwargs: Any,\n",
    ") -> str:\n",
    "    if not filters:\n",
    "        filters = {}\n",
    "\n",
    "    env = _get_env()\n",
    "    env.filters.update(filters)\n",
    "\n",
    "    jinja: Template = env.from_string(template)\n",
    "    result: str = jinja.render(**kwargs)\n",
    "\n",
    "    return result"
   ]
  },
  {
   "cell_type": "code",
   "execution_count": null,
   "id": "f67f130c-2b33-4915-9586-002af8b7c6b2",
   "metadata": {},
   "outputs": [
    {
     "data": {
      "text/markdown": [
       "---\n",
       "\n",
       "[source](https://github.com/mintyPT/sal/blob/main/sal/templates.py#L15){target=\"_blank\" style=\"float:right; font-size:smaller\"}\n",
       "\n",
       "### render\n",
       "\n",
       ">      render (template:str, filters:Optional[dict]=None, **kwargs:Any)\n",
       "\n",
       "|    | **Type** | **Default** | **Details** |\n",
       "| -- | -------- | ----------- | ----------- |\n",
       "| template | str |  | template in string form |\n",
       "| filters | Optional | None | jinja filters |\n",
       "| kwargs | Any |  |  |\n",
       "| **Returns** | **str** |  |  |"
      ],
      "text/plain": [
       "---\n",
       "\n",
       "[source](https://github.com/mintyPT/sal/blob/main/sal/templates.py#L15){target=\"_blank\" style=\"float:right; font-size:smaller\"}\n",
       "\n",
       "### render\n",
       "\n",
       ">      render (template:str, filters:Optional[dict]=None, **kwargs:Any)\n",
       "\n",
       "|    | **Type** | **Default** | **Details** |\n",
       "| -- | -------- | ----------- | ----------- |\n",
       "| template | str |  | template in string form |\n",
       "| filters | Optional | None | jinja filters |\n",
       "| kwargs | Any |  |  |\n",
       "| **Returns** | **str** |  |  |"
      ]
     },
     "execution_count": null,
     "metadata": {},
     "output_type": "execute_result"
    }
   ],
   "source": [
    "showdoc.show_doc(render)"
   ]
  },
  {
   "cell_type": "code",
   "execution_count": null,
   "id": "05c82fe1-ab8a-46fd-8b58-25a813ae3c5b",
   "metadata": {},
   "outputs": [],
   "source": [
    "# | hide\n",
    "filters = {\"upper\": lambda n: n.upper()}\n",
    "template = 'this is a template is this is my name \"{{ name | upper }}\" in upper case'\n",
    "kwargs = dict(name=\"mauro\")\n",
    "\n",
    "result = render(template, filters=filters, **kwargs)\n",
    "expected = 'this is a template is this is my name \"MAURO\" in upper case'\n",
    "test_eq(result, expected)\n",
    "\n",
    "try:\n",
    "    render(\"{{ name }}\")\n",
    "except UndefinedError:\n",
    "    pass"
   ]
  },
  {
   "cell_type": "markdown",
   "id": "168b5d53-78fc-43db-8fec-fb017a4e6a5f",
   "metadata": {},
   "source": [
    "    Let's wrap up the rendering function from the `core` into an usable class"
   ]
  },
  {
   "cell_type": "code",
   "execution_count": null,
   "id": "c3228cf6-080a-467a-b35c-5b24c3a8194e",
   "metadata": {},
   "outputs": [],
   "source": [
    "# | export\n",
    "class JinjaTemplateRenderer:\n",
    "    def render(self, template=None, **kwargs) -> str:\n",
    "        if template is None:\n",
    "            raise RuntimeError(\"Missing template\")\n",
    "        return render(template, **kwargs)"
   ]
  },
  {
   "cell_type": "markdown",
   "id": "c5b26633-b92b-42ed-8d00-09341513d18a",
   "metadata": {},
   "source": [
    "## Template loading\n",
    "\n",
    "We will need a way to get the templates"
   ]
  },
  {
   "cell_type": "code",
   "execution_count": null,
   "id": "44b4e632-5edc-42d9-a4e7-81e32bed6e4e",
   "metadata": {},
   "outputs": [],
   "source": [
    "# | export\n",
    "class TemplateLoader(abc.ABC):\n",
    "    @abc.abstractmethod\n",
    "    def get_template(self, name: str) -> str:\n",
    "        \"\"\"Separate method to allow an override to the template, before returning\"\"\"\n",
    "        raise NotImplementedError\n",
    "\n",
    "\n",
    "class MissingTemplate(Exception):\n",
    "    def __init__(self, name):\n",
    "        super().__init__(f\"The template '{name}' is missing\")\n",
    "        self.name = name"
   ]
  },
  {
   "cell_type": "code",
   "execution_count": null,
   "id": "d8dc5936-cc87-4895-9b4d-c5b723c79962",
   "metadata": {},
   "outputs": [],
   "source": [
    "# | export\n",
    "class InMemoryTemplateLoader(TemplateLoader):\n",
    "    \"\"\"\n",
    "    Will keep a list of templates names + templates content\n",
    "    \"\"\"\n",
    "\n",
    "    def __init__(self, *args, templates=None, **kwargs):\n",
    "        super().__init__(*args, **kwargs)\n",
    "        self.templates = templates\n",
    "\n",
    "    def get_template(self, name: str):\n",
    "        if name in self.templates.keys():\n",
    "            return self.templates[name]\n",
    "        raise MissingTemplate(name)\n",
    "\n",
    "    @classmethod\n",
    "    def from_directory(cls, directory):\n",
    "        path = Path(directory)\n",
    "        glob = path.glob(\"*.jinja2\")\n",
    "\n",
    "        templates_raw = {}\n",
    "        for p in glob:\n",
    "            model_name = p.name.replace(\".jinja2\", \"\")\n",
    "            with open(p, \"r\") as h:\n",
    "                tpl = h.read()\n",
    "            templates_raw[model_name] = tpl\n",
    "\n",
    "        return cls(templates=templates_raw)"
   ]
  },
  {
   "cell_type": "markdown",
   "id": "e9c704c0-48c0-4cb4-843b-d7a6977fa16b",
   "metadata": {},
   "source": [
    "## Tying rendering and loading together"
   ]
  },
  {
   "cell_type": "markdown",
   "id": "dced7f37-41fe-4b9e-b35a-a5189f2e7d72",
   "metadata": {},
   "source": [
    "And finally, put these 2 together to form a class to render a `Data` instance"
   ]
  },
  {
   "cell_type": "code",
   "execution_count": null,
   "id": "899e107b-a875-4eda-8abe-3f02514a238a",
   "metadata": {},
   "outputs": [],
   "source": [
    "# | export\n",
    "class Renderer:\n",
    "    # if no template is passed in, we use the DEFAULT_TEMPLATE\n",
    "    DEFAULT_TEMPLATE = \"{% for child in children %}{{ child | render }}{% endfor %}\"\n",
    "\n",
    "    def __init__(\n",
    "        self,\n",
    "        *,\n",
    "        renderer: JinjaTemplateRenderer = None,\n",
    "        repository: TemplateLoader = None,\n",
    "        filters=None\n",
    "    ):\n",
    "        self.renderer = renderer\n",
    "        self.repository = repository\n",
    "        self.filters = filters or {}\n",
    "\n",
    "    def render(self, data: Data, template: Optional[str] = None) -> str:\n",
    "        if template is None:\n",
    "            template = self.repository.get_template(data.name)\n",
    "\n",
    "        ret = self.renderer.render(\n",
    "            template=template,\n",
    "            **data.attrs,\n",
    "            filters={**self.filters, \"render\": self.render},\n",
    "            node=data,\n",
    "            children=data.children,\n",
    "        )\n",
    "\n",
    "        return ret\n",
    "\n",
    "    def process(self, data: Data) -> str:\n",
    "        return self.render(data)"
   ]
  },
  {
   "cell_type": "markdown",
   "id": "ba54e43c-3101-4476-b6c5-1e21d60146bd",
   "metadata": {},
   "source": [
    "The entry point for this class, after `__init__`, is the `process` method"
   ]
  },
  {
   "cell_type": "markdown",
   "id": "14d1bfbf-f22e-4447-a9f3-8c608ae56538",
   "metadata": {},
   "source": [
    "---"
   ]
  },
  {
   "cell_type": "code",
   "execution_count": null,
   "id": "0e25ac60-26ce-49a1-ae8a-abc15b6da33e",
   "metadata": {},
   "outputs": [],
   "source": [
    "# | hide\n",
    "import nbdev\n",
    "\n",
    "nbdev.nbdev_export()"
   ]
  }
 ],
 "metadata": {
  "kernelspec": {
   "display_name": "python3",
   "language": "python",
   "name": "python3"
  }
 },
 "nbformat": 4,
 "nbformat_minor": 5
}
