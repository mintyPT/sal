{
 "cells": [
  {
   "cell_type": "markdown",
   "id": "597ebea9",
   "metadata": {},
   "source": [
    "# Loaders\n",
    "\n",
    "> ...todo..."
   ]
  },
  {
   "cell_type": "code",
   "execution_count": null,
   "id": "1ecd7c9b",
   "metadata": {},
   "outputs": [],
   "source": [
    "#| default_exp loaders"
   ]
  },
  {
   "cell_type": "code",
   "execution_count": null,
   "id": "855bf71c-42a0-4021-85db-c0afc5a01072",
   "metadata": {},
   "outputs": [
    {
     "data": {
      "text/html": [
       "\n",
       "                <script type=\"application/javascript\" id=\"jupyter_black\">\n",
       "                (function() {\n",
       "                    if (window.IPython === undefined) {\n",
       "                        return\n",
       "                    }\n",
       "                    var msg = \"WARNING: it looks like you might have loaded \" +\n",
       "                        \"jupyter_black in a non-lab notebook with \" +\n",
       "                        \"`is_lab=True`. Please double check, and if \" +\n",
       "                        \"loading with `%load_ext` please review the README!\"\n",
       "                    console.log(msg)\n",
       "                    alert(msg)\n",
       "                })()\n",
       "                </script>\n",
       "                "
      ],
      "text/plain": [
       "<IPython.core.display.HTML object>"
      ]
     },
     "metadata": {},
     "output_type": "display_data"
    }
   ],
   "source": [
    "# | hide\n",
    "import jupyter_black\n",
    "\n",
    "jupyter_black.load()"
   ]
  },
  {
   "cell_type": "code",
   "execution_count": null,
   "id": "85155948",
   "metadata": {},
   "outputs": [],
   "source": [
    "#| export\n",
    "from sal.core import Data\n",
    "from json import loads\n",
    "from xml.etree import ElementTree"
   ]
  },
  {
   "cell_type": "markdown",
   "id": "131b0b3a",
   "metadata": {},
   "source": [
    "## ElementTree\n",
    "\n",
    "To load from an ElementTree"
   ]
  },
  {
   "cell_type": "code",
   "execution_count": null,
   "id": "024d5307-4517-4ca6-a68b-bd0b2478c44e",
   "metadata": {},
   "outputs": [],
   "source": [
    "#| export\n",
    "def element_tree_to_data(obj: ElementTree) -> Data:\n",
    "    \"\"\"Takes an ElementTree, and loads it into a Data instance\"\"\"\n",
    "    attributes = obj.attrib.copy()\n",
    "    data = Data(obj.tag, attributes)\n",
    "    children = [element_tree_to_data(c) for c in obj]\n",
    "    for c in children:\n",
    "        data.add_child(c)\n",
    "    return data"
   ]
  },
  {
   "cell_type": "markdown",
   "id": "6009455a",
   "metadata": {},
   "source": [
    "## xml"
   ]
  },
  {
   "cell_type": "markdown",
   "id": "d582ded8",
   "metadata": {},
   "source": [
    "To load from xml"
   ]
  },
  {
   "cell_type": "code",
   "execution_count": null,
   "id": "4d893711",
   "metadata": {},
   "outputs": [],
   "source": [
    "#| export\n",
    "def xml_to_data(xml: str) -> Data:\n",
    "    \"\"\"Takes a xml string, and loads it into a Data instance\"\"\"\n",
    "    obj: ElementTree = ElementTree.fromstring(xml)\n",
    "    return element_tree_to_data(obj)"
   ]
  },
  {
   "cell_type": "code",
   "execution_count": null,
   "id": "a0f87cdd",
   "metadata": {},
   "outputs": [
    {
     "data": {
      "text/plain": [
       "<root {'at': 'b'}>\n",
       "    <child {'at': 'b'} />\n",
       "</root>"
      ]
     },
     "execution_count": null,
     "metadata": {},
     "output_type": "execute_result"
    }
   ],
   "source": [
    "xml_to_data(\"<root at=\\\"b\\\"><child></child></root>\")"
   ]
  },
  {
   "cell_type": "code",
   "execution_count": null,
   "id": "a837e1d8-7b03-417f-a1c9-248ab64b1120",
   "metadata": {},
   "outputs": [],
   "source": [
    "#| export\n",
    "def xml_file_to_data(path: str) -> Data:\n",
    "    with open(path, 'r') as h:\n",
    "        return xml_to_data(h.read())"
   ]
  },
  {
   "cell_type": "code",
   "execution_count": null,
   "id": "cde77f72",
   "metadata": {},
   "outputs": [],
   "source": [
    "#| hide\n",
    "assert xml_to_data(\"<root></root>\") == Data('root')\n",
    "assert xml_to_data(\"<root name=\\\"mauro\\\"></root>\") == Data('root', {\"name\": \"mauro\"})\n",
    "\n",
    "root = Data('root')\n",
    "root.add_child(Data('child'))\n",
    "assert xml_to_data(\"<root><child></child></root>\") == root"
   ]
  },
  {
   "cell_type": "markdown",
   "id": "c16d79fd",
   "metadata": {},
   "source": [
    "## dict"
   ]
  },
  {
   "cell_type": "markdown",
   "id": "2304c533",
   "metadata": {},
   "source": [
    "To load from a dict"
   ]
  },
  {
   "cell_type": "code",
   "execution_count": null,
   "id": "301c3677",
   "metadata": {},
   "outputs": [],
   "source": [
    "#| export\n",
    "def dict_to_data(arg: dict) -> Data:\n",
    "    \"\"\"Takes a dict, and loads it into a Data instance\"\"\"\n",
    "    name = arg['name']\n",
    "    del arg['name']\n",
    "    \n",
    "    children = arg.get('children', [])\n",
    "    if children:\n",
    "        del arg['children']\n",
    "    \n",
    "    data = Data(name, arg)\n",
    "    for c in children:\n",
    "        data.add_child(dict_to_data(c))\n",
    "    return data"
   ]
  },
  {
   "cell_type": "code",
   "execution_count": null,
   "id": "b8691571",
   "metadata": {},
   "outputs": [
    {
     "data": {
      "text/plain": [
       "<root>\n",
       "    <child {'color': 'blue'} />\n",
       "</root>"
      ]
     },
     "execution_count": null,
     "metadata": {},
     "output_type": "execute_result"
    }
   ],
   "source": [
    "dict_to_data({\"name\": \"root\", \"children\": [{\"name\": \"child\", \"color\": \"blue\"}]})"
   ]
  },
  {
   "cell_type": "code",
   "execution_count": null,
   "id": "1ef5efa3",
   "metadata": {},
   "outputs": [],
   "source": [
    "#| hide\n",
    "assert dict_to_data({\"name\": \"root\"}) == Data('root')\n",
    "assert dict_to_data({\"name\": \"root\", \"age\": 21}) == Data('root', {\"age\": 21})\n",
    "\n",
    "root = Data('root')\n",
    "root.add_child(Data('child'))\n",
    "assert dict_to_data({\"name\": \"root\", \"children\": [{\"name\": \"child\"}]}) == root"
   ]
  },
  {
   "cell_type": "markdown",
   "id": "c09ab4cf",
   "metadata": {},
   "source": [
    "## json"
   ]
  },
  {
   "cell_type": "markdown",
   "id": "e9e30021",
   "metadata": {},
   "source": [
    "To load from json"
   ]
  },
  {
   "cell_type": "code",
   "execution_count": null,
   "id": "251c7fba",
   "metadata": {},
   "outputs": [],
   "source": [
    "#| export\n",
    "def json_to_data(arg:str) -> Data:\n",
    "    \"\"\"Takes a json string, and loads it into a Data instance\"\"\"\n",
    "    j = loads(arg)\n",
    "    return dict_to_data(j)"
   ]
  },
  {
   "cell_type": "code",
   "execution_count": null,
   "id": "571ef908",
   "metadata": {},
   "outputs": [
    {
     "data": {
      "text/plain": [
       "<root>\n",
       "    <child />\n",
       "</root>"
      ]
     },
     "execution_count": null,
     "metadata": {},
     "output_type": "execute_result"
    }
   ],
   "source": [
    "json_to_data('{\"name\": \"root\", \"children\": [{\"name\": \"child\"}]}')"
   ]
  },
  {
   "cell_type": "code",
   "execution_count": null,
   "id": "ab27f500",
   "metadata": {},
   "outputs": [],
   "source": [
    "#| hide\n",
    "json_st = '{\"name\": \"root\", \"children\": [{\"name\": \"child\"}]}'\n",
    "root = Data('root')\n",
    "root.add_child(Data('child'))\n",
    "assert json_to_data(json_st) == root"
   ]
  },
  {
   "cell_type": "markdown",
   "id": "98244de8-a141-4ad3-9567-6cca5e79146f",
   "metadata": {},
   "source": [
    "---"
   ]
  },
  {
   "cell_type": "code",
   "execution_count": null,
   "id": "b39efcfe-36e5-421a-80c9-d639ff6d9e0b",
   "metadata": {},
   "outputs": [],
   "source": [
    "#| hide\n",
    "import nbdev\n",
    "nbdev.nbdev_export()"
   ]
  }
 ],
 "metadata": {
  "kernelspec": {
   "display_name": "Python 3 (ipykernel)",
   "language": "python",
   "name": "python3"
  }
 },
 "nbformat": 4,
 "nbformat_minor": 5
}
