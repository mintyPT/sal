{
 "cells": [
  {
   "cell_type": "code",
   "execution_count": null,
   "id": "5c98c19c-8560-4665-b1a3-fa09315f008b",
   "metadata": {},
   "outputs": [],
   "source": [
    "# | default_exp frontmatter"
   ]
  },
  {
   "cell_type": "code",
   "execution_count": null,
   "id": "eedcd5c9-2539-4e18-b3a2-a07635fb975e",
   "metadata": {},
   "outputs": [
    {
     "data": {
      "text/html": [
       "\n",
       "                <script type=\"application/javascript\" id=\"jupyter_black\">\n",
       "                (function() {\n",
       "                    if (window.IPython === undefined) {\n",
       "                        return\n",
       "                    }\n",
       "                    var msg = \"WARNING: it looks like you might have loaded \" +\n",
       "                        \"jupyter_black in a non-lab notebook with \" +\n",
       "                        \"`is_lab=True`. Please double check, and if \" +\n",
       "                        \"loading with `%load_ext` please review the README!\"\n",
       "                    console.log(msg)\n",
       "                    alert(msg)\n",
       "                })()\n",
       "                </script>\n",
       "                "
      ],
      "text/plain": [
       "<IPython.core.display.HTML object>"
      ]
     },
     "metadata": {},
     "output_type": "display_data"
    }
   ],
   "source": [
    "# | hide\n",
    "%load_ext autoreload\n",
    "%autoreload 2\n",
    "\n",
    "from fastcore.test import *\n",
    "\n",
    "import jupyter_black\n",
    "import nbdev.showdoc as showdoc\n",
    "\n",
    "\n",
    "jupyter_black.load()"
   ]
  },
  {
   "cell_type": "code",
   "execution_count": null,
   "id": "170b1082-1df4-488a-9344-ab9455ccdaac",
   "metadata": {},
   "outputs": [],
   "source": [
    "# | export\n",
    "from frontmatter.default_handlers import YAMLHandler\n",
    "from frontmatter.util import u"
   ]
  },
  {
   "cell_type": "markdown",
   "id": "fc4d4ceb-ead4-4d5c-90df-97347e088eb1",
   "metadata": {},
   "source": [
    "## Frontmatter"
   ]
  },
  {
   "cell_type": "markdown",
   "id": "1fb7af31-c24f-4b72-8b5d-7b15b8b1d85f",
   "metadata": {},
   "source": [
    "Later on, we will use `frontmatter` to make our code generator more powerful. Let's build some helpers"
   ]
  },
  {
   "cell_type": "code",
   "execution_count": null,
   "id": "54d1a77a-3c80-4dc2-bfb4-833b8078a24d",
   "metadata": {},
   "outputs": [],
   "source": [
    "# | hide\n",
    "# | export\n",
    "class FrontMatter:\n",
    "    def __init__(self, handler=None):\n",
    "        if handler is None:\n",
    "            handler = YAMLHandler()\n",
    "        self.handler = handler\n",
    "\n",
    "    def split(self, raw_content, *, encoding=\"utf-8\"):\n",
    "        raw_content = u(raw_content, encoding).strip()\n",
    "\n",
    "        try:\n",
    "            fm, content = self.handler.split(raw_content)\n",
    "        except ValueError:\n",
    "            return None, raw_content\n",
    "\n",
    "        return fm, content\n",
    "\n",
    "    def parse(self, raw_frontmatter, *, metadata=None):\n",
    "        if metadata is None:\n",
    "            metadata = {}\n",
    "\n",
    "        try:\n",
    "            raw_frontmatter = self.handler.load(raw_frontmatter)\n",
    "        except Exception as e:\n",
    "            msg = dedent(\n",
    "                f\"\"\"\n",
    "            ===\n",
    "            There is an error with the following yaml (front matter)\n",
    "            \n",
    "            ```\n",
    "            {raw_frontmatter}\n",
    "            ```\n",
    "\n",
    "            ===\n",
    "\n",
    "            \"\"\"\n",
    "            )\n",
    "\n",
    "            print(msg)\n",
    "            raise e\n",
    "\n",
    "        if isinstance(raw_frontmatter, dict):\n",
    "            metadata.update(raw_frontmatter)\n",
    "\n",
    "        return metadata\n",
    "\n",
    "    def get_content(self, template):\n",
    "        frontmatter, content = self.split(template)\n",
    "        return content.strip()\n",
    "\n",
    "    def get_raw_frontmatter(self, template):\n",
    "        resp = self.split(template)\n",
    "        frontmatter, content = resp\n",
    "        if frontmatter:\n",
    "            return frontmatter.strip()"
   ]
  },
  {
   "cell_type": "markdown",
   "id": "f47c6412-358a-4018-b54d-5265a9d4a315",
   "metadata": {},
   "source": [
    "---"
   ]
  },
  {
   "cell_type": "code",
   "execution_count": null,
   "id": "67b38c74-321d-474e-89be-baae3c845130",
   "metadata": {},
   "outputs": [],
   "source": [
    "# | hide\n",
    "import nbdev\n",
    "\n",
    "nbdev.nbdev_export()"
   ]
  }
 ],
 "metadata": {
  "kernelspec": {
   "display_name": "Python 3 (ipykernel)",
   "language": "python",
   "name": "python3"
  }
 },
 "nbformat": 4,
 "nbformat_minor": 5
}
