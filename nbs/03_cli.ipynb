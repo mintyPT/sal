{
 "cells": [
  {
   "cell_type": "markdown",
   "id": "a1b70e84",
   "metadata": {},
   "source": [
    "# sal-cli"
   ]
  },
  {
   "cell_type": "code",
   "execution_count": null,
   "id": "11d932e5",
   "metadata": {},
   "outputs": [],
   "source": [
    "#| default_exp cli"
   ]
  },
  {
   "cell_type": "code",
   "execution_count": null,
   "id": "e840671b",
   "metadata": {},
   "outputs": [],
   "source": [
    "#| export\n",
    "from pathlib import Path\n",
    "from sal.core import Data\n",
    "from sal.loaders import xml_file_to_data\n",
    "from sal.codegen import Sal, FrontMatterInMemoryTemplateLoader, Renderer, JinjaTemplateRenderer, MissingTemplate"
   ]
  },
  {
   "cell_type": "code",
   "execution_count": null,
   "id": "9ecf2c55",
   "metadata": {},
   "outputs": [],
   "source": [
    "#| hide\n",
    "from fastcore.test import *"
   ]
  },
  {
   "cell_type": "code",
   "execution_count": null,
   "id": "023b9754-1977-426b-acfa-394682f0070b",
   "metadata": {},
   "outputs": [],
   "source": [
    "#| hide\n",
    "model = \"\"\"\n",
    "---\n",
    "reference:  \"sigla-{{ node.attrs.name | lower }}-model\"\n",
    "---\n",
    "class {{ name }}Model(models.Model): # {{ reference }}\n",
    "    {% for child in children -%}\n",
    "    {{ child | render }}\n",
    "    {% endfor %}\n",
    "\"\"\"\n",
    "\n",
    "field = \"\"\"\n",
    "---\n",
    "reference:  \"sigla-{{ node.name | lower }}-model\"\n",
    "---\n",
    "{{ name }} = models.{{ type | title }}Field() \n",
    "\"\"\"\n",
    "\n",
    "destination = '/tmp/something2.txt'\n",
    "\n",
    "xml = f\"\"\"\n",
    "<to-file to=\"{destination}\">\n",
    "    <model name=\"User\">\n",
    "        <field name=\"id\" type=\"integer\"/>\n",
    "        <field name=\"username\" type=\"char\"/>\n",
    "        <field name=\"email\" type=\"email\"/>\n",
    "    </model>\n",
    "</to-file>\"\"\""
   ]
  },
  {
   "cell_type": "code",
   "execution_count": null,
   "id": "88363c0a",
   "metadata": {},
   "outputs": [],
   "source": [
    "#| export \n",
    "def render(file, templates):\n",
    "    try:\n",
    "        repository = FrontMatterInMemoryTemplateLoader.from_directory(templates)\n",
    "        renderer = Renderer(repository=repository, renderer=JinjaTemplateRenderer())\n",
    "        sal = Sal(renderer)\n",
    "\n",
    "        struct: Data = xml_file_to_data(file)  \n",
    "        return sal.process(struct)\n",
    "    except MissingTemplate as e:\n",
    "        path = Path(templates) / f\"{e.name}.jinja2\"\n",
    "        path.write_text(Renderer.DEFAULT_TEMPLATE)\n",
    "        return render(file, templates)"
   ]
  },
  {
   "cell_type": "code",
   "execution_count": null,
   "id": "b93f2669-a224-4623-a373-497ea77744c3",
   "metadata": {},
   "outputs": [],
   "source": [
    "#| hide\n",
    "\n",
    "# create template dir\n",
    "path = Path('/tmp/templates')\n",
    "path.mkdir(exist_ok=True)\n",
    "\n",
    "# create xml file\n",
    "Path('/tmp/sal.xml').write_text(xml)\n",
    "\n",
    "# create template files\n",
    "Path('/tmp/templates/model.jinja2').write_text(model)\n",
    "Path('/tmp/templates/field.jinja2').write_text(field)\n",
    "    \n",
    "# render\n",
    "render('/tmp/sal.xml', '/tmp/templates')\n",
    "\n",
    "\n",
    "# test equality\n",
    "test_eq(\n",
    "    Path(destination).read_text().strip(), \n",
    "\"\"\"\n",
    "class UserModel(models.Model): # sigla-user-model\n",
    "    id = models.IntegerField()\n",
    "    username = models.CharField()\n",
    "    email = models.EmailField()\n",
    "\"\"\".strip())\n",
    "    "
   ]
  },
  {
   "cell_type": "markdown",
   "id": "2ce066fa-4454-4269-9e7f-164acd424b13",
   "metadata": {},
   "source": [
    "We would like to create default templates on the fly when they don't exist"
   ]
  },
  {
   "cell_type": "code",
   "execution_count": null,
   "id": "9c2a4ab8-cb1e-45b9-9758-c9f4685f65f3",
   "metadata": {},
   "outputs": [],
   "source": [
    "#| hide\n",
    "\n",
    "Path('/tmp/templates/model.jinja2').unlink(missing_ok=True)\n",
    "\n",
    "render('/tmp/sal.xml', '/tmp/templates')\n",
    "\n",
    "test_eq(Path('/tmp/templates/model.jinja2').exists(), True)\n",
    "test_eq(Path('/tmp/templates/model.jinja2').read_text(), Renderer.DEFAULT_TEMPLATE)\n"
   ]
  },
  {
   "cell_type": "markdown",
   "id": "cdf6d6f0",
   "metadata": {},
   "source": [
    "---"
   ]
  },
  {
   "cell_type": "code",
   "execution_count": null,
   "id": "ad708b88",
   "metadata": {},
   "outputs": [],
   "source": [
    "#| hide\n",
    "import nbdev\n",
    "nbdev.nbdev_export()"
   ]
  }
 ],
 "metadata": {
  "kernelspec": {
   "display_name": "Python 3 (ipykernel)",
   "language": "python",
   "name": "python3"
  }
 },
 "nbformat": 4,
 "nbformat_minor": 5
}
