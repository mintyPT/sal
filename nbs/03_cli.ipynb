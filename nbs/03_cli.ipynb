{
 "cells": [
  {
   "cell_type": "code",
   "execution_count": null,
   "id": "11d932e5",
   "metadata": {},
   "outputs": [],
   "source": [
    "# | default_exp cli"
   ]
  },
  {
   "cell_type": "markdown",
   "id": "a1b70e84",
   "metadata": {},
   "source": [
    "# Command Line Interface"
   ]
  },
  {
   "cell_type": "code",
   "execution_count": null,
   "id": "9ecf2c55",
   "metadata": {},
   "outputs": [],
   "source": [
    "# | hide\n",
    "from fastcore.test import *\n",
    "import jupyter_black\n",
    "import tempfile"
   ]
  },
  {
   "cell_type": "code",
   "execution_count": null,
   "id": "1e8514fc-720f-4abf-994e-7cfcf047b2b9",
   "metadata": {},
   "outputs": [],
   "source": [
    "# | hide\n",
    "jupyter_black.load()"
   ]
  },
  {
   "cell_type": "code",
   "execution_count": null,
   "id": "e840671b",
   "metadata": {},
   "outputs": [],
   "source": [
    "# | export\n",
    "import click\n",
    "from pathlib import Path\n",
    "from sal.core import Data\n",
    "from sal.loaders import xml_file_to_data\n",
    "from sal.codegen import (\n",
    "    Sal,\n",
    "    FrontMatterInMemoryTemplateLoader,\n",
    "    Renderer,\n",
    "    JinjaTemplateRenderer,\n",
    "    MissingTemplate,\n",
    ")"
   ]
  },
  {
   "cell_type": "markdown",
   "id": "3b0875e3-c724-451b-8040-3e640afb5a6e",
   "metadata": {},
   "source": [
    "## Generating code\n"
   ]
  },
  {
   "cell_type": "markdown",
   "id": "6f736693-f6fd-4db5-9a62-ea822b3f4e49",
   "metadata": {},
   "source": [
    "Up until now, we've been developing the code we need to generate code. Now it's time to wrap that code in a easy to use function to use as a command line interface. This cli will mirror the args of this function so:\n",
    "\n",
    "- it accepts an xml file path as input\n",
    "- it accepts a template directory as an input\n",
    "\n",
    "Also, when a certain template does not exist, it will create one with a default template `Renderer.DEFAULT_TEMPLATE`."
   ]
  },
  {
   "cell_type": "code",
   "execution_count": null,
   "id": "88363c0a",
   "metadata": {},
   "outputs": [],
   "source": [
    "# | export\n",
    "def render(file, templates):\n",
    "    try:\n",
    "        repository = FrontMatterInMemoryTemplateLoader.from_directory(templates)\n",
    "        renderer = Renderer(repository=repository, renderer=JinjaTemplateRenderer())\n",
    "        sal = Sal(renderer)\n",
    "\n",
    "        struct: Data = xml_file_to_data(file)\n",
    "        return sal.process(struct)\n",
    "    except MissingTemplate as e:\n",
    "        path = Path(templates) / f\"{e.name}.jinja2\"\n",
    "        path.write_text(Renderer.DEFAULT_TEMPLATE)\n",
    "        return render(file, templates)"
   ]
  },
  {
   "cell_type": "code",
   "execution_count": null,
   "id": "023b9754-1977-426b-acfa-394682f0070b",
   "metadata": {},
   "outputs": [],
   "source": [
    "# | hide\n",
    "model = \"\"\"\n",
    "---\n",
    "reference:  \"sigla-{{ node.attrs.name | lower }}-model\"\n",
    "---\n",
    "class {{ name }}Model(models.Model): # {{ reference }}\n",
    "    {% for child in children -%}\n",
    "    {{ child | render }}\n",
    "    {% endfor %}\n",
    "\"\"\"\n",
    "\n",
    "field = \"\"\"\n",
    "---\n",
    "reference:  \"sigla-{{ node.name | lower }}-model\"\n",
    "---\n",
    "{{ name }} = models.{{ type | title }}Field() \n",
    "\"\"\"\n",
    "\n",
    "\n",
    "destination = tempfile.NamedTemporaryFile()\n",
    "\n",
    "xml = f\"\"\"\n",
    "<to-file to=\"{destination.name}\">\n",
    "    <model name=\"User\">\n",
    "        <field name=\"id\" type=\"integer\"/>\n",
    "        <field name=\"username\" type=\"char\"/>\n",
    "        <field name=\"email\" type=\"email\"/>\n",
    "    </model>\n",
    "</to-file>\"\"\""
   ]
  },
  {
   "cell_type": "code",
   "execution_count": null,
   "id": "07a1c6e0-eff5-4807-bd53-ea92b190c224",
   "metadata": {},
   "outputs": [
    {
     "data": {
      "text/plain": [
       "106"
      ]
     },
     "execution_count": null,
     "metadata": {},
     "output_type": "execute_result"
    }
   ],
   "source": [
    "# | hide\n",
    "# prepare files and directories\n",
    "\n",
    "Path(destination.name).unlink(missing_ok=True)\n",
    "\n",
    "# create template dir\n",
    "path = Path(\"/tmp/templates\")\n",
    "path.mkdir(exist_ok=True)\n",
    "\n",
    "# create xml file\n",
    "Path(\"/tmp/sal.xml\").write_text(xml)\n",
    "\n",
    "# create template files\n",
    "Path(\"/tmp/templates/model.jinja2\").write_text(model)\n",
    "Path(\"/tmp/templates/field.jinja2\").write_text(field)"
   ]
  },
  {
   "cell_type": "code",
   "execution_count": null,
   "id": "b93f2669-a224-4623-a373-497ea77744c3",
   "metadata": {},
   "outputs": [],
   "source": [
    "# render\n",
    "render(\"/tmp/sal.xml\", \"/tmp/templates\")\n",
    "\n",
    "\n",
    "result = Path(destination.name).read_text().strip()\n",
    "\n",
    "test_eq(\n",
    "    result,\n",
    "    \"\"\"\n",
    "class UserModel(models.Model): # sigla-user-model\n",
    "    id = models.IntegerField()\n",
    "    username = models.CharField()\n",
    "    email = models.EmailField()\n",
    "\"\"\".strip(),\n",
    ")"
   ]
  },
  {
   "cell_type": "markdown",
   "id": "cdf6d6f0",
   "metadata": {},
   "source": [
    "---"
   ]
  },
  {
   "cell_type": "code",
   "execution_count": null,
   "id": "78193e8f-8a88-44d1-a162-59beed6175e0",
   "metadata": {},
   "outputs": [],
   "source": [
    "# | export\n",
    "@click.command()\n",
    "@click.option(\"--count\", default=1, help=\"Number of greetings.\")\n",
    "@click.option(\"--name\", prompt=\"Your name\")\n",
    "def hello(count, name):\n",
    "    \"\"\"Simple program that greets NAME for a total of COUNT times.\"\"\"\n",
    "    for x in range(count):\n",
    "        click.echo(f\"Hello {name}!\")"
   ]
  },
  {
   "cell_type": "code",
   "execution_count": null,
   "id": "4c0e74c8-cb4d-4ae3-ac41-5253be22b202",
   "metadata": {},
   "outputs": [
    {
     "name": "stdout",
     "output_type": "stream",
     "text": [
      "Hello Mauro!\n",
      "Hello Mauro!\n"
     ]
    }
   ],
   "source": [
    "%%bash\n",
    "sal --name=Mauro --count=2"
   ]
  },
  {
   "cell_type": "code",
   "execution_count": null,
   "id": "0c141516-c253-4a11-8e30-8b97b1be33da",
   "metadata": {},
   "outputs": [],
   "source": [
    "# | export\n",
    "def is_notebook() -> bool:\n",
    "    try:\n",
    "        shell = get_ipython().__class__.__name__\n",
    "        if shell == \"ZMQInteractiveShell\" or shell == \"CaptureShell\":\n",
    "            return True  # Jupyter notebook or qtconsole\n",
    "        elif shell == \"TerminalInteractiveShell\":\n",
    "            return False  # Terminal running IPython\n",
    "        else:\n",
    "            return False  # Other type (?)\n",
    "    except NameError:\n",
    "        return False  # Probably standard Python interpreter"
   ]
  },
  {
   "cell_type": "code",
   "execution_count": null,
   "id": "94a9d328-0ff5-4f56-ba3d-88a0cac01360",
   "metadata": {},
   "outputs": [],
   "source": [
    "# | export\n",
    "if __name__ == \"__main__\" and not is_notebook():\n",
    "    hello()"
   ]
  },
  {
   "cell_type": "code",
   "execution_count": null,
   "id": "1355b7c6-2f81-42bb-9179-61ef104e6c1b",
   "metadata": {},
   "outputs": [],
   "source": []
  },
  {
   "cell_type": "code",
   "execution_count": null,
   "id": "ad708b88",
   "metadata": {},
   "outputs": [],
   "source": [
    "# | hide\n",
    "import nbdev\n",
    "\n",
    "nbdev.nbdev_export()"
   ]
  }
 ],
 "metadata": {
  "kernelspec": {
   "display_name": "Python 3 (ipykernel)",
   "language": "python",
   "name": "python3"
  }
 },
 "nbformat": 4,
 "nbformat_minor": 5
}
