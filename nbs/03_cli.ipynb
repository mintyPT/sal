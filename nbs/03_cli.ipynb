{
 "cells": [
  {
   "cell_type": "code",
   "execution_count": null,
   "id": "11d932e5",
   "metadata": {},
   "outputs": [],
   "source": [
    "# | default_exp cli"
   ]
  },
  {
   "cell_type": "markdown",
   "id": "a1b70e84",
   "metadata": {},
   "source": [
    "# Command Line Interface"
   ]
  },
  {
   "cell_type": "code",
   "execution_count": null,
   "id": "9ecf2c55",
   "metadata": {},
   "outputs": [],
   "source": [
    "# | hide\n",
    "import tempfile\n",
    "import jupyter_black\n",
    "\n",
    "from fastcore.test import *\n",
    "from sal.utils import files\n",
    "\n",
    "jupyter_black.load()"
   ]
  },
  {
   "cell_type": "code",
   "execution_count": null,
   "id": "e840671b",
   "metadata": {},
   "outputs": [],
   "source": [
    "# | export\n",
    "import click\n",
    "\n",
    "from pathlib import Path\n",
    "from typing import Any\n",
    "\n",
    "from sal.core import Data\n",
    "from sal.utils import is_notebook\n",
    "from sal.loaders import xml_file_to_data\n",
    "from sal.templates import MissingTemplateException\n",
    "from sal.codegen import Sal, Renderer\n",
    "from sal.templates import TemplateLoader, TemplateRenderer"
   ]
  },
  {
   "cell_type": "markdown",
   "id": "3b0875e3-c724-451b-8040-3e640afb5a6e",
   "metadata": {},
   "source": [
    "## Generating code\n"
   ]
  },
  {
   "cell_type": "markdown",
   "id": "6f736693-f6fd-4db5-9a62-ea822b3f4e49",
   "metadata": {},
   "source": [
    "Up until now, we've been developing the code we need to generate code. Now it's time to wrap that code in a easy to use function to use as a command line interface. This cli will mirror the args of this function so:\n",
    "\n",
    "- it accepts an xml file path as input\n",
    "- it accepts a template directory as an input\n",
    "\n",
    "Also, when a certain template does not exist, it will create one with a default template `Renderer.DEFAULT_TEMPLATE`."
   ]
  },
  {
   "cell_type": "code",
   "execution_count": null,
   "id": "88363c0a",
   "metadata": {},
   "outputs": [],
   "source": [
    "# | export\n",
    "def _render(file: str, directory: str, exit=False) -> str | Any:\n",
    "    try:\n",
    "        repository = TemplateLoader.from_directory(directory)\n",
    "        renderer = Renderer(repository=repository, renderer=TemplateRenderer())\n",
    "        sal = Sal(renderer)\n",
    "        struct: Data = xml_file_to_data(file)\n",
    "        return sal.process(struct)\n",
    "    except MissingTemplateException as e:\n",
    "\n",
    "        if exit:\n",
    "            raise RuntimeError(\n",
    "                f\"Exiting after not finding the template twice: {e.name}\"\n",
    "            )\n",
    "\n",
    "        path = Path(directory) / f\"{e.name}.jinja2\"\n",
    "        path.write_text(Renderer.DEFAULT_TEMPLATE)\n",
    "        return _render(file, directory, exit=True)"
   ]
  },
  {
   "cell_type": "code",
   "execution_count": null,
   "id": "07a1c6e0-eff5-4807-bd53-ea92b190c224",
   "metadata": {},
   "outputs": [],
   "source": [
    "# | hide\n",
    "destination = \"/tmp/hello/a/4output.txt\"\n",
    "\n",
    "model = \"\"\"\n",
    "---\n",
    "reference:  \"sigla-{{ node.attrs.name | lower }}-model\"\n",
    "---\n",
    "class {{ name }}Model(models.Model): # {{ reference }}\n",
    "    {% for child in children -%}\n",
    "    {{ child | render }}\n",
    "    {% endfor %}\n",
    "\"\"\"\n",
    "\n",
    "field = \"\"\"\n",
    "---\n",
    "reference:  \"sigla-{{ node.name | lower }}-model\"\n",
    "---\n",
    "{{ name }} = models.{{ type | title }}Field() \n",
    "\"\"\"\n",
    "\n",
    "base_folder = \"/tmp/templates\"\n",
    "\n",
    "\n",
    "xml = f\"\"\"\n",
    "<wrapper>\n",
    "    <to-file to=\"{destination}\">\n",
    "        <model name=\"User\">\n",
    "            <field name=\"id\" type=\"integer\"/>\n",
    "            <field name=\"username\" type=\"char\"/>\n",
    "            <field name=\"email\" type=\"email\"/>\n",
    "        </model>\n",
    "    </to-file>\n",
    "</wrapper>\n",
    "\"\"\"\n",
    "\n",
    "with files(\n",
    "    {\n",
    "        f\"{base_folder}/model.jinja2\": model,\n",
    "        f\"{base_folder}/field.jinja2\": field,\n",
    "        \"/tmp/sal.xml\": xml,\n",
    "        destination: \"\",\n",
    "    }\n",
    "):\n",
    "    _render(\"/tmp/sal.xml\", base_folder)\n",
    "    result = Path(destination).read_text().strip()\n",
    "\n",
    "test_eq(\n",
    "    result,\n",
    "    \"\"\"\n",
    "class UserModel(models.Model): # sigla-user-model\n",
    "    id = models.IntegerField()\n",
    "    username = models.CharField()\n",
    "    email = models.EmailField()\n",
    "\"\"\".strip(),\n",
    ")"
   ]
  },
  {
   "cell_type": "markdown",
   "id": "cdf6d6f0",
   "metadata": {},
   "source": [
    "---"
   ]
  },
  {
   "cell_type": "code",
   "execution_count": null,
   "id": "a7a2ce3a",
   "metadata": {},
   "outputs": [],
   "source": [
    "# | export\n",
    "@click.group()\n",
    "def main() -> None:\n",
    "    pass"
   ]
  },
  {
   "cell_type": "code",
   "execution_count": null,
   "id": "78193e8f-8a88-44d1-a162-59beed6175e0",
   "metadata": {},
   "outputs": [],
   "source": [
    "# | export\n",
    "\n",
    "# TODO : init command\n",
    "# - create : sal.xml file\n",
    "# - create : sal folder\n",
    "# - create : sal/templates folder\n",
    "\n",
    "\n",
    "@main.command()\n",
    "@click.option(\"--filename\", type=click.Path(exists=True), default=\"./sal.xml\")\n",
    "@click.option(\"--folder\", type=click.Path(exists=True), default=\"./sal\")\n",
    "def render(filename: str, folder: str) -> None:\n",
    "    click.echo(f\"⚠️ {filename=}\")\n",
    "    click.echo(f\"⚠️ {folder=}\")\n",
    "    _render(filename, str(Path(folder) / \"templates\"))"
   ]
  },
  {
   "cell_type": "code",
   "execution_count": null,
   "id": "0c141516-c253-4a11-8e30-8b97b1be33da",
   "metadata": {},
   "outputs": [],
   "source": []
  },
  {
   "cell_type": "code",
   "execution_count": null,
   "id": "94a9d328-0ff5-4f56-ba3d-88a0cac01360",
   "metadata": {},
   "outputs": [],
   "source": [
    "# | export\n",
    "if __name__ == \"__main__\" and not is_notebook():\n",
    "    main()"
   ]
  },
  {
   "cell_type": "markdown",
   "id": "99db2caf-6f2c-4dd6-ad8f-a9925eaa7132",
   "metadata": {},
   "source": [
    "---"
   ]
  },
  {
   "cell_type": "code",
   "execution_count": null,
   "id": "ad708b88",
   "metadata": {},
   "outputs": [],
   "source": [
    "# | hide\n",
    "import nbdev\n",
    "\n",
    "nbdev.nbdev_export()"
   ]
  }
 ],
 "metadata": {
  "kernelspec": {
   "display_name": "python3",
   "language": "python",
   "name": "python3"
  }
 },
 "nbformat": 4,
 "nbformat_minor": 5
}
