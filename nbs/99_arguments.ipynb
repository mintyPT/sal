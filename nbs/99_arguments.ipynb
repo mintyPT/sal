{
 "cells": [
  {
   "cell_type": "code",
   "execution_count": null,
   "id": "c50a9ea7-e8ee-40c2-8d2f-2923988edfe0",
   "metadata": {},
   "outputs": [],
   "source": [
    "# | default_exp arguments"
   ]
  },
  {
   "cell_type": "code",
   "execution_count": null,
   "id": "c173542d-df74-415e-abdc-e9434804454c",
   "metadata": {},
   "outputs": [],
   "source": [
    "# | hide\n",
    "%load_ext autoreload\n",
    "%autoreload 2\n",
    "\n",
    "import jupyter_black\n",
    "import nbdev.showdoc as showdoc\n",
    "from fastcore.test import *"
   ]
  },
  {
   "cell_type": "code",
   "execution_count": null,
   "id": "a10162a0-7753-4f47-aebf-9568042b2bbe",
   "metadata": {},
   "outputs": [],
   "source": [
    "# | hide\n",
    "jupyter_black.load()"
   ]
  },
  {
   "cell_type": "code",
   "execution_count": null,
   "id": "9d0015b9-e91f-4e26-b154-b4d401df1029",
   "metadata": {},
   "outputs": [],
   "source": [
    "# | export\n",
    "import json\n",
    "from typing import Union"
   ]
  },
  {
   "cell_type": "markdown",
   "id": "cbd75434-e155-468d-861f-3dc7a2a25753",
   "metadata": {},
   "source": [
    "# Arguments handling"
   ]
  },
  {
   "cell_type": "markdown",
   "id": "2673aee1-c479-48b4-9939-02ed581b7cce",
   "metadata": {},
   "source": [
    "> In the XML files, to pass more complex types of data we accept json in the xml attributes and as such, we create a function to parse it"
   ]
  },
  {
   "cell_type": "code",
   "execution_count": null,
   "id": "a003d7ff-26aa-4928-a68f-8a881355e4e0",
   "metadata": {},
   "outputs": [],
   "source": [
    "# | export\n",
    "JsonType = Union[None, int, str, bool, list[\"JsonType\"], dict[str, \"JsonType\"]]\n",
    "\n",
    "\n",
    "def parse_arg(arg: str) -> JsonType:\n",
    "    \"\"\"Parses a single arg in string format using json.\"\"\"\n",
    "    try:\n",
    "        v: JsonType = json.loads(arg)\n",
    "        return v\n",
    "    except json.JSONDecodeError:\n",
    "        return arg\n",
    "\n",
    "\n",
    "def parse_attrs(attrs: dict[str, str]) -> dict[str, JsonType]:\n",
    "    \"\"\"Parses a dictonary of string into a dictonary of parsed values.\"\"\"\n",
    "    return {k: parse_arg(y) for k, y in attrs.items()}"
   ]
  },
  {
   "cell_type": "code",
   "execution_count": null,
   "id": "7e409389-fa16-4f37-84f4-7b927cf0567e",
   "metadata": {},
   "outputs": [],
   "source": [
    "# | hide\n",
    "for raw, expected in [\n",
    "    # number\n",
    "    [\"1\", 1], [\"1.1\", 1.1],\n",
    "    \n",
    "    # string\n",
    "    [\"santos\", \"santos\"],\n",
    "    \n",
    "    # json\n",
    "    ['{\"name\": \"santos\"}', {\"name\": \"santos\"}],\n",
    "    [\"[1, 2, 3]\", [1, 2, 3]],\n",
    "    ['[\"1\", \"2\"]', [\"1\", \"2\"]],\n",
    "\n",
    "    # bool\n",
    "    [\"true\", True], [\"false\", False],\n",
    "]:\n",
    "    v = parse_arg(raw)\n",
    "    assert v == expected"
   ]
  },
  {
   "cell_type": "code",
   "execution_count": null,
   "id": "f7c775cd-29be-40c7-953a-7d4f2806b9eb",
   "metadata": {},
   "outputs": [],
   "source": []
  },
  {
   "cell_type": "code",
   "execution_count": null,
   "id": "01a24d0b-d93e-4b2f-8f81-0af64e08ba73",
   "metadata": {},
   "outputs": [],
   "source": [
    "# | hide\n",
    "parsed = parse_attrs({\n",
    "    \"name\": \"john\",  # string\n",
    "    \"age\": \"1\",  # int\n",
    "    \"money\": \"98123.45\",  # float\n",
    "    \"happy\": \"true\",  # bool\n",
    "    \"sad\": \"false\",  # bool\n",
    "    \"colors\": '[\"red\", \"blue\"]',  # json\n",
    "})\n",
    "\n",
    "assert parsed == {\n",
    "    \"name\": \"john\",\n",
    "    \"age\": 1,\n",
    "    \"money\": 98123.45,\n",
    "    \"happy\": True,\n",
    "    \"sad\": False,\n",
    "    \"colors\": [\"red\", \"blue\"],\n",
    "}"
   ]
  },
  {
   "cell_type": "markdown",
   "id": "434c9254-0204-4bd8-a931-1fa7af01caca",
   "metadata": {},
   "source": [
    "---"
   ]
  },
  {
   "cell_type": "code",
   "execution_count": null,
   "id": "7897f724-85ff-4974-980a-37192748dea3",
   "metadata": {},
   "outputs": [],
   "source": [
    "# | hide\n",
    "import nbdev\n",
    "\n",
    "nbdev.nbdev_export()"
   ]
  },
  {
   "cell_type": "code",
   "execution_count": null,
   "id": "1235c0a6-4f53-4b91-9147-9fc059e5f6bb",
   "metadata": {},
   "outputs": [],
   "source": []
  }
 ],
 "metadata": {
  "kernelspec": {
   "display_name": "python3",
   "language": "python",
   "name": "python3"
  }
 },
 "nbformat": 4,
 "nbformat_minor": 5
}
