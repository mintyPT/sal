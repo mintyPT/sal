{
 "cells": [
  {
   "cell_type": "code",
   "execution_count": null,
   "id": "c50a9ea7-e8ee-40c2-8d2f-2923988edfe0",
   "metadata": {},
   "outputs": [],
   "source": [
    "# | default_exp arguments"
   ]
  },
  {
   "cell_type": "code",
   "execution_count": null,
   "id": "c173542d-df74-415e-abdc-e9434804454c",
   "metadata": {},
   "outputs": [
    {
     "name": "stdout",
     "output_type": "stream",
     "text": [
      "The autoreload extension is already loaded. To reload it, use:\n",
      "  %reload_ext autoreload\n"
     ]
    }
   ],
   "source": [
    "# | hide\n",
    "%load_ext autoreload\n",
    "%autoreload 2\n",
    "\n",
    "from fastcore.test import *\n",
    "\n",
    "import jupyter_black\n",
    "import nbdev.showdoc as showdoc\n",
    "\n",
    "\n",
    "jupyter_black.load()"
   ]
  },
  {
   "cell_type": "code",
   "execution_count": null,
   "id": "9d0015b9-e91f-4e26-b154-b4d401df1029",
   "metadata": {},
   "outputs": [],
   "source": [
    "# | export\n",
    "import json\n",
    "from typing import Union"
   ]
  },
  {
   "cell_type": "markdown",
   "id": "cbd75434-e155-468d-861f-3dc7a2a25753",
   "metadata": {},
   "source": [
    "# Arguments handling"
   ]
  },
  {
   "cell_type": "code",
   "execution_count": null,
   "id": "a003d7ff-26aa-4928-a68f-8a881355e4e0",
   "metadata": {},
   "outputs": [],
   "source": [
    "# | export\n",
    "\n",
    "JsonType = Union[None, int, str, bool, list[\"JsonType\"], dict[str, \"JsonType\"]]\n",
    "\n",
    "\n",
    "def parse_arg(arg: str) -> JsonType:\n",
    "    try:\n",
    "        v: JsonType = json.loads(arg)\n",
    "        return v\n",
    "    except json.JSONDecodeError:\n",
    "        return arg"
   ]
  },
  {
   "cell_type": "code",
   "execution_count": null,
   "id": "e75fa8bd-bd06-4385-91fc-17ba8027f346",
   "metadata": {},
   "outputs": [],
   "source": [
    "# TODO test this\n",
    "# def eval_arg(arg, locals_):\n",
    "#    return eval(arg, None, locals_)"
   ]
  },
  {
   "cell_type": "code",
   "execution_count": null,
   "id": "7e409389-fa16-4f37-84f4-7b927cf0567e",
   "metadata": {},
   "outputs": [],
   "source": [
    "# | hide\n",
    "for raw, expected in [\n",
    "    # number\n",
    "    [\"1\", 1],\n",
    "    [\"1.1\", 1.1],\n",
    "    # string\n",
    "    [\"santos\", \"santos\"],\n",
    "    # json\n",
    "    ['{\"name\": \"santos\"}', {\"name\": \"santos\"}],\n",
    "    [\"[1, 2, 3]\", [1, 2, 3]],\n",
    "    ['[\"1\", \"2\"]', [\"1\", \"2\"]],\n",
    "    # bool\n",
    "    [\"true\", True],\n",
    "    [\"false\", False],\n",
    "]:\n",
    "    v = parse_arg(raw)\n",
    "    # print(v, type(v))\n",
    "    test_eq(v, expected)"
   ]
  },
  {
   "cell_type": "code",
   "execution_count": null,
   "id": "f7c775cd-29be-40c7-953a-7d4f2806b9eb",
   "metadata": {},
   "outputs": [],
   "source": [
    "# | export\n",
    "def parse_attrs(attrs: dict) -> dict:\n",
    "    for k, y in attrs.items():\n",
    "        attrs[k] = parse_arg(y)\n",
    "    return attrs"
   ]
  },
  {
   "cell_type": "code",
   "execution_count": null,
   "id": "01a24d0b-d93e-4b2f-8f81-0af64e08ba73",
   "metadata": {},
   "outputs": [],
   "source": [
    "# | hide\n",
    "raw = {\n",
    "    \"name\": \"john\",  # string\n",
    "    \"age\": \"1\",  # int\n",
    "    \"money\": \"98123.45\",  # float\n",
    "    \"happy\": \"true\",  # bool\n",
    "    \"sad\": \"false\",  # bool\n",
    "    \"colors\": '[\"red\", \"blue\"]',  # json\n",
    "}\n",
    "expected = {\n",
    "    \"name\": \"john\",\n",
    "    \"age\": 1,\n",
    "    \"money\": 98123.45,\n",
    "    \"happy\": True,\n",
    "    \"sad\": False,\n",
    "    \"colors\": [\"red\", \"blue\"],\n",
    "}\n",
    "parsed = parse_attrs(raw)\n",
    "\n",
    "test_eq(parsed, expected)"
   ]
  },
  {
   "cell_type": "markdown",
   "id": "434c9254-0204-4bd8-a931-1fa7af01caca",
   "metadata": {},
   "source": [
    "---"
   ]
  },
  {
   "cell_type": "code",
   "execution_count": null,
   "id": "7897f724-85ff-4974-980a-37192748dea3",
   "metadata": {},
   "outputs": [],
   "source": [
    "# | hide\n",
    "import nbdev\n",
    "\n",
    "nbdev.nbdev_export()"
   ]
  },
  {
   "cell_type": "code",
   "execution_count": null,
   "id": "1235c0a6-4f53-4b91-9147-9fc059e5f6bb",
   "metadata": {},
   "outputs": [],
   "source": []
  }
 ],
 "metadata": {
  "kernelspec": {
   "display_name": "python3",
   "language": "python",
   "name": "python3"
  }
 },
 "nbformat": 4,
 "nbformat_minor": 5
}
